{
  "cells": [
    {
      "cell_type": "code",
      "execution_count": 96,
      "id": "167c2c70-a68e-4c93-9381-f5daa98ca4d1",
      "metadata": {
        "id": "167c2c70-a68e-4c93-9381-f5daa98ca4d1"
      },
      "outputs": [],
      "source": [
        "import pandas as pd\n",
        "#settings :\n",
        "pd.set_option('display.max_rows', 1000)\n",
        "pd.set_option('display.max_columns', 500)\n",
        "pd.set_option('display.width', 1000)\n",
        "pd.set_option('display.max_colwidth', 1000)\n",
        "\n",
        "import numpy as np\n",
        "import matplotlib.pyplot as plt\n",
        "import seaborn as sns\n",
        "import missingno as msno"
      ]
    },
    {
      "cell_type": "code",
      "execution_count": 97,
      "id": "a79b358c-e745-433a-9971-050bcdc5cc36",
      "metadata": {
        "colab": {
          "base_uri": "https://localhost:8080/",
          "height": 270
        },
        "id": "a79b358c-e745-433a-9971-050bcdc5cc36",
        "outputId": "b77907f3-cd6e-430f-d3ca-5363c1760d3f"
      },
      "outputs": [
        {
          "output_type": "execute_result",
          "data": {
            "text/plain": [
              "   Id  MSSubClass MSZoning  LotFrontage  LotArea Street Alley LotShape LandContour Utilities LotConfig LandSlope Neighborhood Condition1 Condition2 BldgType HouseStyle  OverallQual  OverallCond  YearBuilt  YearRemodAdd RoofStyle RoofMatl Exterior1st Exterior2nd MasVnrType  MasVnrArea ExterQual ExterCond Foundation BsmtQual BsmtCond BsmtExposure BsmtFinType1  BsmtFinSF1 BsmtFinType2  BsmtFinSF2  BsmtUnfSF  TotalBsmtSF Heating HeatingQC CentralAir Electrical  1stFlrSF  2ndFlrSF  LowQualFinSF  GrLivArea  BsmtFullBath  BsmtHalfBath  FullBath  HalfBath  BedroomAbvGr  KitchenAbvGr KitchenQual  TotRmsAbvGrd Functional  Fireplaces FireplaceQu GarageType  GarageYrBlt GarageFinish  GarageCars  GarageArea GarageQual GarageCond PavedDrive  WoodDeckSF  OpenPorchSF  EnclosedPorch  3SsnPorch  ScreenPorch  PoolArea PoolQC Fence MiscFeature  MiscVal  MoSold  YrSold SaleType SaleCondition  SalePrice\n",
              "0   1          60       RL         65.0     8450   Pave   NaN      Reg         Lvl    AllPub    Inside       Gtl      CollgCr       Norm       Norm     1Fam     2Story            7            5       2003          2003     Gable  CompShg     VinylSd     VinylSd    BrkFace       196.0        Gd        TA      PConc       Gd       TA           No          GLQ         706          Unf           0        150          856    GasA        Ex          Y      SBrkr       856       854             0       1710             1             0         2         1             3             1          Gd             8        Typ           0         NaN     Attchd       2003.0          RFn           2         548         TA         TA          Y           0           61              0          0            0         0    NaN   NaN         NaN        0       2    2008       WD        Normal     208500\n",
              "1   2          20       RL         80.0     9600   Pave   NaN      Reg         Lvl    AllPub       FR2       Gtl      Veenker      Feedr       Norm     1Fam     1Story            6            8       1976          1976     Gable  CompShg     MetalSd     MetalSd       None         0.0        TA        TA     CBlock       Gd       TA           Gd          ALQ         978          Unf           0        284         1262    GasA        Ex          Y      SBrkr      1262         0             0       1262             0             1         2         0             3             1          TA             6        Typ           1          TA     Attchd       1976.0          RFn           2         460         TA         TA          Y         298            0              0          0            0         0    NaN   NaN         NaN        0       5    2007       WD        Normal     181500\n",
              "2   3          60       RL         68.0    11250   Pave   NaN      IR1         Lvl    AllPub    Inside       Gtl      CollgCr       Norm       Norm     1Fam     2Story            7            5       2001          2002     Gable  CompShg     VinylSd     VinylSd    BrkFace       162.0        Gd        TA      PConc       Gd       TA           Mn          GLQ         486          Unf           0        434          920    GasA        Ex          Y      SBrkr       920       866             0       1786             1             0         2         1             3             1          Gd             6        Typ           1          TA     Attchd       2001.0          RFn           2         608         TA         TA          Y           0           42              0          0            0         0    NaN   NaN         NaN        0       9    2008       WD        Normal     223500\n",
              "3   4          70       RL         60.0     9550   Pave   NaN      IR1         Lvl    AllPub    Corner       Gtl      Crawfor       Norm       Norm     1Fam     2Story            7            5       1915          1970     Gable  CompShg     Wd Sdng     Wd Shng       None         0.0        TA        TA     BrkTil       TA       Gd           No          ALQ         216          Unf           0        540          756    GasA        Gd          Y      SBrkr       961       756             0       1717             1             0         1         0             3             1          Gd             7        Typ           1          Gd     Detchd       1998.0          Unf           3         642         TA         TA          Y           0           35            272          0            0         0    NaN   NaN         NaN        0       2    2006       WD       Abnorml     140000\n",
              "4   5          60       RL         84.0    14260   Pave   NaN      IR1         Lvl    AllPub       FR2       Gtl      NoRidge       Norm       Norm     1Fam     2Story            8            5       2000          2000     Gable  CompShg     VinylSd     VinylSd    BrkFace       350.0        Gd        TA      PConc       Gd       TA           Av          GLQ         655          Unf           0        490         1145    GasA        Ex          Y      SBrkr      1145      1053             0       2198             1             0         2         1             4             1          Gd             9        Typ           1          TA     Attchd       2000.0          RFn           3         836         TA         TA          Y         192           84              0          0            0         0    NaN   NaN         NaN        0      12    2008       WD        Normal     250000"
            ],
            "text/html": [
              "\n",
              "  <div id=\"df-25516723-739d-4828-8b31-70dec59b291f\">\n",
              "    <div class=\"colab-df-container\">\n",
              "      <div>\n",
              "<style scoped>\n",
              "    .dataframe tbody tr th:only-of-type {\n",
              "        vertical-align: middle;\n",
              "    }\n",
              "\n",
              "    .dataframe tbody tr th {\n",
              "        vertical-align: top;\n",
              "    }\n",
              "\n",
              "    .dataframe thead th {\n",
              "        text-align: right;\n",
              "    }\n",
              "</style>\n",
              "<table border=\"1\" class=\"dataframe\">\n",
              "  <thead>\n",
              "    <tr style=\"text-align: right;\">\n",
              "      <th></th>\n",
              "      <th>Id</th>\n",
              "      <th>MSSubClass</th>\n",
              "      <th>MSZoning</th>\n",
              "      <th>LotFrontage</th>\n",
              "      <th>LotArea</th>\n",
              "      <th>Street</th>\n",
              "      <th>Alley</th>\n",
              "      <th>LotShape</th>\n",
              "      <th>LandContour</th>\n",
              "      <th>Utilities</th>\n",
              "      <th>LotConfig</th>\n",
              "      <th>LandSlope</th>\n",
              "      <th>Neighborhood</th>\n",
              "      <th>Condition1</th>\n",
              "      <th>Condition2</th>\n",
              "      <th>BldgType</th>\n",
              "      <th>HouseStyle</th>\n",
              "      <th>OverallQual</th>\n",
              "      <th>OverallCond</th>\n",
              "      <th>YearBuilt</th>\n",
              "      <th>YearRemodAdd</th>\n",
              "      <th>RoofStyle</th>\n",
              "      <th>RoofMatl</th>\n",
              "      <th>Exterior1st</th>\n",
              "      <th>Exterior2nd</th>\n",
              "      <th>MasVnrType</th>\n",
              "      <th>MasVnrArea</th>\n",
              "      <th>ExterQual</th>\n",
              "      <th>ExterCond</th>\n",
              "      <th>Foundation</th>\n",
              "      <th>BsmtQual</th>\n",
              "      <th>BsmtCond</th>\n",
              "      <th>BsmtExposure</th>\n",
              "      <th>BsmtFinType1</th>\n",
              "      <th>BsmtFinSF1</th>\n",
              "      <th>BsmtFinType2</th>\n",
              "      <th>BsmtFinSF2</th>\n",
              "      <th>BsmtUnfSF</th>\n",
              "      <th>TotalBsmtSF</th>\n",
              "      <th>Heating</th>\n",
              "      <th>HeatingQC</th>\n",
              "      <th>CentralAir</th>\n",
              "      <th>Electrical</th>\n",
              "      <th>1stFlrSF</th>\n",
              "      <th>2ndFlrSF</th>\n",
              "      <th>LowQualFinSF</th>\n",
              "      <th>GrLivArea</th>\n",
              "      <th>BsmtFullBath</th>\n",
              "      <th>BsmtHalfBath</th>\n",
              "      <th>FullBath</th>\n",
              "      <th>HalfBath</th>\n",
              "      <th>BedroomAbvGr</th>\n",
              "      <th>KitchenAbvGr</th>\n",
              "      <th>KitchenQual</th>\n",
              "      <th>TotRmsAbvGrd</th>\n",
              "      <th>Functional</th>\n",
              "      <th>Fireplaces</th>\n",
              "      <th>FireplaceQu</th>\n",
              "      <th>GarageType</th>\n",
              "      <th>GarageYrBlt</th>\n",
              "      <th>GarageFinish</th>\n",
              "      <th>GarageCars</th>\n",
              "      <th>GarageArea</th>\n",
              "      <th>GarageQual</th>\n",
              "      <th>GarageCond</th>\n",
              "      <th>PavedDrive</th>\n",
              "      <th>WoodDeckSF</th>\n",
              "      <th>OpenPorchSF</th>\n",
              "      <th>EnclosedPorch</th>\n",
              "      <th>3SsnPorch</th>\n",
              "      <th>ScreenPorch</th>\n",
              "      <th>PoolArea</th>\n",
              "      <th>PoolQC</th>\n",
              "      <th>Fence</th>\n",
              "      <th>MiscFeature</th>\n",
              "      <th>MiscVal</th>\n",
              "      <th>MoSold</th>\n",
              "      <th>YrSold</th>\n",
              "      <th>SaleType</th>\n",
              "      <th>SaleCondition</th>\n",
              "      <th>SalePrice</th>\n",
              "    </tr>\n",
              "  </thead>\n",
              "  <tbody>\n",
              "    <tr>\n",
              "      <th>0</th>\n",
              "      <td>1</td>\n",
              "      <td>60</td>\n",
              "      <td>RL</td>\n",
              "      <td>65.0</td>\n",
              "      <td>8450</td>\n",
              "      <td>Pave</td>\n",
              "      <td>NaN</td>\n",
              "      <td>Reg</td>\n",
              "      <td>Lvl</td>\n",
              "      <td>AllPub</td>\n",
              "      <td>Inside</td>\n",
              "      <td>Gtl</td>\n",
              "      <td>CollgCr</td>\n",
              "      <td>Norm</td>\n",
              "      <td>Norm</td>\n",
              "      <td>1Fam</td>\n",
              "      <td>2Story</td>\n",
              "      <td>7</td>\n",
              "      <td>5</td>\n",
              "      <td>2003</td>\n",
              "      <td>2003</td>\n",
              "      <td>Gable</td>\n",
              "      <td>CompShg</td>\n",
              "      <td>VinylSd</td>\n",
              "      <td>VinylSd</td>\n",
              "      <td>BrkFace</td>\n",
              "      <td>196.0</td>\n",
              "      <td>Gd</td>\n",
              "      <td>TA</td>\n",
              "      <td>PConc</td>\n",
              "      <td>Gd</td>\n",
              "      <td>TA</td>\n",
              "      <td>No</td>\n",
              "      <td>GLQ</td>\n",
              "      <td>706</td>\n",
              "      <td>Unf</td>\n",
              "      <td>0</td>\n",
              "      <td>150</td>\n",
              "      <td>856</td>\n",
              "      <td>GasA</td>\n",
              "      <td>Ex</td>\n",
              "      <td>Y</td>\n",
              "      <td>SBrkr</td>\n",
              "      <td>856</td>\n",
              "      <td>854</td>\n",
              "      <td>0</td>\n",
              "      <td>1710</td>\n",
              "      <td>1</td>\n",
              "      <td>0</td>\n",
              "      <td>2</td>\n",
              "      <td>1</td>\n",
              "      <td>3</td>\n",
              "      <td>1</td>\n",
              "      <td>Gd</td>\n",
              "      <td>8</td>\n",
              "      <td>Typ</td>\n",
              "      <td>0</td>\n",
              "      <td>NaN</td>\n",
              "      <td>Attchd</td>\n",
              "      <td>2003.0</td>\n",
              "      <td>RFn</td>\n",
              "      <td>2</td>\n",
              "      <td>548</td>\n",
              "      <td>TA</td>\n",
              "      <td>TA</td>\n",
              "      <td>Y</td>\n",
              "      <td>0</td>\n",
              "      <td>61</td>\n",
              "      <td>0</td>\n",
              "      <td>0</td>\n",
              "      <td>0</td>\n",
              "      <td>0</td>\n",
              "      <td>NaN</td>\n",
              "      <td>NaN</td>\n",
              "      <td>NaN</td>\n",
              "      <td>0</td>\n",
              "      <td>2</td>\n",
              "      <td>2008</td>\n",
              "      <td>WD</td>\n",
              "      <td>Normal</td>\n",
              "      <td>208500</td>\n",
              "    </tr>\n",
              "    <tr>\n",
              "      <th>1</th>\n",
              "      <td>2</td>\n",
              "      <td>20</td>\n",
              "      <td>RL</td>\n",
              "      <td>80.0</td>\n",
              "      <td>9600</td>\n",
              "      <td>Pave</td>\n",
              "      <td>NaN</td>\n",
              "      <td>Reg</td>\n",
              "      <td>Lvl</td>\n",
              "      <td>AllPub</td>\n",
              "      <td>FR2</td>\n",
              "      <td>Gtl</td>\n",
              "      <td>Veenker</td>\n",
              "      <td>Feedr</td>\n",
              "      <td>Norm</td>\n",
              "      <td>1Fam</td>\n",
              "      <td>1Story</td>\n",
              "      <td>6</td>\n",
              "      <td>8</td>\n",
              "      <td>1976</td>\n",
              "      <td>1976</td>\n",
              "      <td>Gable</td>\n",
              "      <td>CompShg</td>\n",
              "      <td>MetalSd</td>\n",
              "      <td>MetalSd</td>\n",
              "      <td>None</td>\n",
              "      <td>0.0</td>\n",
              "      <td>TA</td>\n",
              "      <td>TA</td>\n",
              "      <td>CBlock</td>\n",
              "      <td>Gd</td>\n",
              "      <td>TA</td>\n",
              "      <td>Gd</td>\n",
              "      <td>ALQ</td>\n",
              "      <td>978</td>\n",
              "      <td>Unf</td>\n",
              "      <td>0</td>\n",
              "      <td>284</td>\n",
              "      <td>1262</td>\n",
              "      <td>GasA</td>\n",
              "      <td>Ex</td>\n",
              "      <td>Y</td>\n",
              "      <td>SBrkr</td>\n",
              "      <td>1262</td>\n",
              "      <td>0</td>\n",
              "      <td>0</td>\n",
              "      <td>1262</td>\n",
              "      <td>0</td>\n",
              "      <td>1</td>\n",
              "      <td>2</td>\n",
              "      <td>0</td>\n",
              "      <td>3</td>\n",
              "      <td>1</td>\n",
              "      <td>TA</td>\n",
              "      <td>6</td>\n",
              "      <td>Typ</td>\n",
              "      <td>1</td>\n",
              "      <td>TA</td>\n",
              "      <td>Attchd</td>\n",
              "      <td>1976.0</td>\n",
              "      <td>RFn</td>\n",
              "      <td>2</td>\n",
              "      <td>460</td>\n",
              "      <td>TA</td>\n",
              "      <td>TA</td>\n",
              "      <td>Y</td>\n",
              "      <td>298</td>\n",
              "      <td>0</td>\n",
              "      <td>0</td>\n",
              "      <td>0</td>\n",
              "      <td>0</td>\n",
              "      <td>0</td>\n",
              "      <td>NaN</td>\n",
              "      <td>NaN</td>\n",
              "      <td>NaN</td>\n",
              "      <td>0</td>\n",
              "      <td>5</td>\n",
              "      <td>2007</td>\n",
              "      <td>WD</td>\n",
              "      <td>Normal</td>\n",
              "      <td>181500</td>\n",
              "    </tr>\n",
              "    <tr>\n",
              "      <th>2</th>\n",
              "      <td>3</td>\n",
              "      <td>60</td>\n",
              "      <td>RL</td>\n",
              "      <td>68.0</td>\n",
              "      <td>11250</td>\n",
              "      <td>Pave</td>\n",
              "      <td>NaN</td>\n",
              "      <td>IR1</td>\n",
              "      <td>Lvl</td>\n",
              "      <td>AllPub</td>\n",
              "      <td>Inside</td>\n",
              "      <td>Gtl</td>\n",
              "      <td>CollgCr</td>\n",
              "      <td>Norm</td>\n",
              "      <td>Norm</td>\n",
              "      <td>1Fam</td>\n",
              "      <td>2Story</td>\n",
              "      <td>7</td>\n",
              "      <td>5</td>\n",
              "      <td>2001</td>\n",
              "      <td>2002</td>\n",
              "      <td>Gable</td>\n",
              "      <td>CompShg</td>\n",
              "      <td>VinylSd</td>\n",
              "      <td>VinylSd</td>\n",
              "      <td>BrkFace</td>\n",
              "      <td>162.0</td>\n",
              "      <td>Gd</td>\n",
              "      <td>TA</td>\n",
              "      <td>PConc</td>\n",
              "      <td>Gd</td>\n",
              "      <td>TA</td>\n",
              "      <td>Mn</td>\n",
              "      <td>GLQ</td>\n",
              "      <td>486</td>\n",
              "      <td>Unf</td>\n",
              "      <td>0</td>\n",
              "      <td>434</td>\n",
              "      <td>920</td>\n",
              "      <td>GasA</td>\n",
              "      <td>Ex</td>\n",
              "      <td>Y</td>\n",
              "      <td>SBrkr</td>\n",
              "      <td>920</td>\n",
              "      <td>866</td>\n",
              "      <td>0</td>\n",
              "      <td>1786</td>\n",
              "      <td>1</td>\n",
              "      <td>0</td>\n",
              "      <td>2</td>\n",
              "      <td>1</td>\n",
              "      <td>3</td>\n",
              "      <td>1</td>\n",
              "      <td>Gd</td>\n",
              "      <td>6</td>\n",
              "      <td>Typ</td>\n",
              "      <td>1</td>\n",
              "      <td>TA</td>\n",
              "      <td>Attchd</td>\n",
              "      <td>2001.0</td>\n",
              "      <td>RFn</td>\n",
              "      <td>2</td>\n",
              "      <td>608</td>\n",
              "      <td>TA</td>\n",
              "      <td>TA</td>\n",
              "      <td>Y</td>\n",
              "      <td>0</td>\n",
              "      <td>42</td>\n",
              "      <td>0</td>\n",
              "      <td>0</td>\n",
              "      <td>0</td>\n",
              "      <td>0</td>\n",
              "      <td>NaN</td>\n",
              "      <td>NaN</td>\n",
              "      <td>NaN</td>\n",
              "      <td>0</td>\n",
              "      <td>9</td>\n",
              "      <td>2008</td>\n",
              "      <td>WD</td>\n",
              "      <td>Normal</td>\n",
              "      <td>223500</td>\n",
              "    </tr>\n",
              "    <tr>\n",
              "      <th>3</th>\n",
              "      <td>4</td>\n",
              "      <td>70</td>\n",
              "      <td>RL</td>\n",
              "      <td>60.0</td>\n",
              "      <td>9550</td>\n",
              "      <td>Pave</td>\n",
              "      <td>NaN</td>\n",
              "      <td>IR1</td>\n",
              "      <td>Lvl</td>\n",
              "      <td>AllPub</td>\n",
              "      <td>Corner</td>\n",
              "      <td>Gtl</td>\n",
              "      <td>Crawfor</td>\n",
              "      <td>Norm</td>\n",
              "      <td>Norm</td>\n",
              "      <td>1Fam</td>\n",
              "      <td>2Story</td>\n",
              "      <td>7</td>\n",
              "      <td>5</td>\n",
              "      <td>1915</td>\n",
              "      <td>1970</td>\n",
              "      <td>Gable</td>\n",
              "      <td>CompShg</td>\n",
              "      <td>Wd Sdng</td>\n",
              "      <td>Wd Shng</td>\n",
              "      <td>None</td>\n",
              "      <td>0.0</td>\n",
              "      <td>TA</td>\n",
              "      <td>TA</td>\n",
              "      <td>BrkTil</td>\n",
              "      <td>TA</td>\n",
              "      <td>Gd</td>\n",
              "      <td>No</td>\n",
              "      <td>ALQ</td>\n",
              "      <td>216</td>\n",
              "      <td>Unf</td>\n",
              "      <td>0</td>\n",
              "      <td>540</td>\n",
              "      <td>756</td>\n",
              "      <td>GasA</td>\n",
              "      <td>Gd</td>\n",
              "      <td>Y</td>\n",
              "      <td>SBrkr</td>\n",
              "      <td>961</td>\n",
              "      <td>756</td>\n",
              "      <td>0</td>\n",
              "      <td>1717</td>\n",
              "      <td>1</td>\n",
              "      <td>0</td>\n",
              "      <td>1</td>\n",
              "      <td>0</td>\n",
              "      <td>3</td>\n",
              "      <td>1</td>\n",
              "      <td>Gd</td>\n",
              "      <td>7</td>\n",
              "      <td>Typ</td>\n",
              "      <td>1</td>\n",
              "      <td>Gd</td>\n",
              "      <td>Detchd</td>\n",
              "      <td>1998.0</td>\n",
              "      <td>Unf</td>\n",
              "      <td>3</td>\n",
              "      <td>642</td>\n",
              "      <td>TA</td>\n",
              "      <td>TA</td>\n",
              "      <td>Y</td>\n",
              "      <td>0</td>\n",
              "      <td>35</td>\n",
              "      <td>272</td>\n",
              "      <td>0</td>\n",
              "      <td>0</td>\n",
              "      <td>0</td>\n",
              "      <td>NaN</td>\n",
              "      <td>NaN</td>\n",
              "      <td>NaN</td>\n",
              "      <td>0</td>\n",
              "      <td>2</td>\n",
              "      <td>2006</td>\n",
              "      <td>WD</td>\n",
              "      <td>Abnorml</td>\n",
              "      <td>140000</td>\n",
              "    </tr>\n",
              "    <tr>\n",
              "      <th>4</th>\n",
              "      <td>5</td>\n",
              "      <td>60</td>\n",
              "      <td>RL</td>\n",
              "      <td>84.0</td>\n",
              "      <td>14260</td>\n",
              "      <td>Pave</td>\n",
              "      <td>NaN</td>\n",
              "      <td>IR1</td>\n",
              "      <td>Lvl</td>\n",
              "      <td>AllPub</td>\n",
              "      <td>FR2</td>\n",
              "      <td>Gtl</td>\n",
              "      <td>NoRidge</td>\n",
              "      <td>Norm</td>\n",
              "      <td>Norm</td>\n",
              "      <td>1Fam</td>\n",
              "      <td>2Story</td>\n",
              "      <td>8</td>\n",
              "      <td>5</td>\n",
              "      <td>2000</td>\n",
              "      <td>2000</td>\n",
              "      <td>Gable</td>\n",
              "      <td>CompShg</td>\n",
              "      <td>VinylSd</td>\n",
              "      <td>VinylSd</td>\n",
              "      <td>BrkFace</td>\n",
              "      <td>350.0</td>\n",
              "      <td>Gd</td>\n",
              "      <td>TA</td>\n",
              "      <td>PConc</td>\n",
              "      <td>Gd</td>\n",
              "      <td>TA</td>\n",
              "      <td>Av</td>\n",
              "      <td>GLQ</td>\n",
              "      <td>655</td>\n",
              "      <td>Unf</td>\n",
              "      <td>0</td>\n",
              "      <td>490</td>\n",
              "      <td>1145</td>\n",
              "      <td>GasA</td>\n",
              "      <td>Ex</td>\n",
              "      <td>Y</td>\n",
              "      <td>SBrkr</td>\n",
              "      <td>1145</td>\n",
              "      <td>1053</td>\n",
              "      <td>0</td>\n",
              "      <td>2198</td>\n",
              "      <td>1</td>\n",
              "      <td>0</td>\n",
              "      <td>2</td>\n",
              "      <td>1</td>\n",
              "      <td>4</td>\n",
              "      <td>1</td>\n",
              "      <td>Gd</td>\n",
              "      <td>9</td>\n",
              "      <td>Typ</td>\n",
              "      <td>1</td>\n",
              "      <td>TA</td>\n",
              "      <td>Attchd</td>\n",
              "      <td>2000.0</td>\n",
              "      <td>RFn</td>\n",
              "      <td>3</td>\n",
              "      <td>836</td>\n",
              "      <td>TA</td>\n",
              "      <td>TA</td>\n",
              "      <td>Y</td>\n",
              "      <td>192</td>\n",
              "      <td>84</td>\n",
              "      <td>0</td>\n",
              "      <td>0</td>\n",
              "      <td>0</td>\n",
              "      <td>0</td>\n",
              "      <td>NaN</td>\n",
              "      <td>NaN</td>\n",
              "      <td>NaN</td>\n",
              "      <td>0</td>\n",
              "      <td>12</td>\n",
              "      <td>2008</td>\n",
              "      <td>WD</td>\n",
              "      <td>Normal</td>\n",
              "      <td>250000</td>\n",
              "    </tr>\n",
              "  </tbody>\n",
              "</table>\n",
              "</div>\n",
              "      <button class=\"colab-df-convert\" onclick=\"convertToInteractive('df-25516723-739d-4828-8b31-70dec59b291f')\"\n",
              "              title=\"Convert this dataframe to an interactive table.\"\n",
              "              style=\"display:none;\">\n",
              "        \n",
              "  <svg xmlns=\"http://www.w3.org/2000/svg\" height=\"24px\"viewBox=\"0 0 24 24\"\n",
              "       width=\"24px\">\n",
              "    <path d=\"M0 0h24v24H0V0z\" fill=\"none\"/>\n",
              "    <path d=\"M18.56 5.44l.94 2.06.94-2.06 2.06-.94-2.06-.94-.94-2.06-.94 2.06-2.06.94zm-11 1L8.5 8.5l.94-2.06 2.06-.94-2.06-.94L8.5 2.5l-.94 2.06-2.06.94zm10 10l.94 2.06.94-2.06 2.06-.94-2.06-.94-.94-2.06-.94 2.06-2.06.94z\"/><path d=\"M17.41 7.96l-1.37-1.37c-.4-.4-.92-.59-1.43-.59-.52 0-1.04.2-1.43.59L10.3 9.45l-7.72 7.72c-.78.78-.78 2.05 0 2.83L4 21.41c.39.39.9.59 1.41.59.51 0 1.02-.2 1.41-.59l7.78-7.78 2.81-2.81c.8-.78.8-2.07 0-2.86zM5.41 20L4 18.59l7.72-7.72 1.47 1.35L5.41 20z\"/>\n",
              "  </svg>\n",
              "      </button>\n",
              "      \n",
              "  <style>\n",
              "    .colab-df-container {\n",
              "      display:flex;\n",
              "      flex-wrap:wrap;\n",
              "      gap: 12px;\n",
              "    }\n",
              "\n",
              "    .colab-df-convert {\n",
              "      background-color: #E8F0FE;\n",
              "      border: none;\n",
              "      border-radius: 50%;\n",
              "      cursor: pointer;\n",
              "      display: none;\n",
              "      fill: #1967D2;\n",
              "      height: 32px;\n",
              "      padding: 0 0 0 0;\n",
              "      width: 32px;\n",
              "    }\n",
              "\n",
              "    .colab-df-convert:hover {\n",
              "      background-color: #E2EBFA;\n",
              "      box-shadow: 0px 1px 2px rgba(60, 64, 67, 0.3), 0px 1px 3px 1px rgba(60, 64, 67, 0.15);\n",
              "      fill: #174EA6;\n",
              "    }\n",
              "\n",
              "    [theme=dark] .colab-df-convert {\n",
              "      background-color: #3B4455;\n",
              "      fill: #D2E3FC;\n",
              "    }\n",
              "\n",
              "    [theme=dark] .colab-df-convert:hover {\n",
              "      background-color: #434B5C;\n",
              "      box-shadow: 0px 1px 3px 1px rgba(0, 0, 0, 0.15);\n",
              "      filter: drop-shadow(0px 1px 2px rgba(0, 0, 0, 0.3));\n",
              "      fill: #FFFFFF;\n",
              "    }\n",
              "  </style>\n",
              "\n",
              "      <script>\n",
              "        const buttonEl =\n",
              "          document.querySelector('#df-25516723-739d-4828-8b31-70dec59b291f button.colab-df-convert');\n",
              "        buttonEl.style.display =\n",
              "          google.colab.kernel.accessAllowed ? 'block' : 'none';\n",
              "\n",
              "        async function convertToInteractive(key) {\n",
              "          const element = document.querySelector('#df-25516723-739d-4828-8b31-70dec59b291f');\n",
              "          const dataTable =\n",
              "            await google.colab.kernel.invokeFunction('convertToInteractive',\n",
              "                                                     [key], {});\n",
              "          if (!dataTable) return;\n",
              "\n",
              "          const docLinkHtml = 'Like what you see? Visit the ' +\n",
              "            '<a target=\"_blank\" href=https://colab.research.google.com/notebooks/data_table.ipynb>data table notebook</a>'\n",
              "            + ' to learn more about interactive tables.';\n",
              "          element.innerHTML = '';\n",
              "          dataTable['output_type'] = 'display_data';\n",
              "          await google.colab.output.renderOutput(dataTable, element);\n",
              "          const docLink = document.createElement('div');\n",
              "          docLink.innerHTML = docLinkHtml;\n",
              "          element.appendChild(docLink);\n",
              "        }\n",
              "      </script>\n",
              "    </div>\n",
              "  </div>\n",
              "  "
            ]
          },
          "metadata": {},
          "execution_count": 97
        }
      ],
      "source": [
        "train = pd.read_csv('/content/drive/MyDrive/database_house/train.csv')\n",
        "train.head()"
      ]
    },
    {
      "cell_type": "code",
      "execution_count": 98,
      "id": "1a5c5371-9c6d-4c1d-b0e5-8f7e979a7e46",
      "metadata": {
        "id": "1a5c5371-9c6d-4c1d-b0e5-8f7e979a7e46"
      },
      "outputs": [],
      "source": [
        "# dropping column MSSubClass\n",
        "train.drop('MSSubClass', axis=1, inplace=True)"
      ]
    },
    {
      "cell_type": "code",
      "execution_count": 99,
      "id": "45232263-832a-4641-b156-710e20c1ffc0",
      "metadata": {
        "id": "45232263-832a-4641-b156-710e20c1ffc0"
      },
      "outputs": [],
      "source": [
        "#Converting MSZoning to numerical values\n",
        "train['MSZoning'] = train['MSZoning'].map({'RL': 0, 'RM': 1, 'C (all)': 2, 'FV': 3, 'RH': 4})"
      ]
    },
    {
      "cell_type": "code",
      "execution_count": 100,
      "id": "6883c1a4-5a55-4960-a439-33d703f82d6e",
      "metadata": {
        "id": "6883c1a4-5a55-4960-a439-33d703f82d6e"
      },
      "outputs": [],
      "source": [
        "#train['LotFrontage'].fillna(train.groupby(['LotArea'])['LotFrontage'].transform('mean'),inplace=True)\n",
        "train['LotFrontage'] = train['LotFrontage'].fillna(method='ffill')"
      ]
    },
    {
      "cell_type": "code",
      "execution_count": 101,
      "id": "3241d9a2-11b2-4d5c-95db-0bfd467c97cc",
      "metadata": {
        "id": "3241d9a2-11b2-4d5c-95db-0bfd467c97cc"
      },
      "outputs": [],
      "source": [
        "#Converting Street to numerical values\n",
        "train['Street'] = train['Street'].map({'Pave': 0, 'Grvl': 1})"
      ]
    },
    {
      "cell_type": "code",
      "execution_count": 102,
      "id": "ed57f79d-b2b0-4465-9288-5c9cb708efb2",
      "metadata": {
        "id": "ed57f79d-b2b0-4465-9288-5c9cb708efb2"
      },
      "outputs": [],
      "source": [
        "#Alley drop\n",
        "train.drop('Alley', axis=1, inplace=True)"
      ]
    },
    {
      "cell_type": "code",
      "execution_count": 103,
      "id": "915fd64e-ac61-43c3-b29f-9e458bfed8a7",
      "metadata": {
        "id": "915fd64e-ac61-43c3-b29f-9e458bfed8a7"
      },
      "outputs": [],
      "source": [
        "#LandContour drop\n",
        "train.drop('LandContour', axis=1, inplace=True)"
      ]
    },
    {
      "cell_type": "code",
      "execution_count": 104,
      "id": "30f6304d-f0ab-499e-b387-ba39c46fb802",
      "metadata": {
        "id": "30f6304d-f0ab-499e-b387-ba39c46fb802"
      },
      "outputs": [],
      "source": [
        "#Utilities drop\n",
        "train.drop('Utilities', axis=1, inplace=True)"
      ]
    },
    {
      "cell_type": "code",
      "execution_count": 105,
      "id": "61295dcd-7929-4f93-9162-42bb8c58c275",
      "metadata": {
        "id": "61295dcd-7929-4f93-9162-42bb8c58c275"
      },
      "outputs": [],
      "source": [
        "#LotConfig drop\n",
        "train.drop('LotConfig', axis=1, inplace=True)"
      ]
    },
    {
      "cell_type": "code",
      "execution_count": 106,
      "id": "cbfea55a-85bd-4cda-be6f-63280d78c48a",
      "metadata": {
        "id": "cbfea55a-85bd-4cda-be6f-63280d78c48a"
      },
      "outputs": [],
      "source": [
        "#LandSlope drop\n",
        "train.drop('LandSlope', axis=1, inplace=True)\n"
      ]
    },
    {
      "cell_type": "code",
      "execution_count": 107,
      "id": "4e7528a0-e433-4a60-8c9b-39e80032c08e",
      "metadata": {
        "id": "4e7528a0-e433-4a60-8c9b-39e80032c08e"
      },
      "outputs": [],
      "source": [
        "#Neighborhood convert to numerical values\n",
        "train['Neighborhood'] = train['Neighborhood'].map({'CollgCr': 0, 'Veenker': 1, 'Crawfor': 2, 'NoRidge': 3, 'Mitchel': 4, 'Somerst': 5, 'NWAmes': 6, 'OldTown': 7, 'BrkSide': 8, 'Sawyer': 9, 'NridgHt': 10, 'NAmes': 11, 'SawyerW': 12, 'IDOTRR': 13, 'MeadowV': 14, 'Edwards': 15, 'Timber': 16, 'Gilbert': 17, 'StoneBr': 18, 'ClearCr': 19, 'NPkVill': 20, 'Blmngtn': 21, 'BrDale': 22, 'SWISU': 23, 'Blueste': 24})\n"
      ]
    },
    {
      "cell_type": "code",
      "execution_count": 108,
      "id": "7c2a8c87-417f-430e-890a-bcc32943e145",
      "metadata": {
        "id": "7c2a8c87-417f-430e-890a-bcc32943e145"
      },
      "outputs": [],
      "source": [
        "#Condition1 to numerical values\n",
        "train['Condition1'] = train['Condition1'].map({'Norm': 0, 'Feedr': 1, 'PosN': 2, 'Artery': 3, 'RRAe': 4, 'RRNn': 5, 'RRAn': 6, 'PosA': 7, 'RRNe': 8})\n"
      ]
    },
    {
      "cell_type": "code",
      "execution_count": 109,
      "id": "4c6d2d55-c20a-445f-97c0-5d85b47f2fc2",
      "metadata": {
        "id": "4c6d2d55-c20a-445f-97c0-5d85b47f2fc2"
      },
      "outputs": [],
      "source": [
        "#Condition2 to DROP\n",
        "train.drop('Condition2', axis=1, inplace=True)"
      ]
    },
    {
      "cell_type": "code",
      "execution_count": 110,
      "id": "acfc5106-a30e-4b09-a3f0-51787f5c548d",
      "metadata": {
        "id": "acfc5106-a30e-4b09-a3f0-51787f5c548d"
      },
      "outputs": [],
      "source": [
        "#BldgType to numerical values\n",
        "train['BldgType'] = train['BldgType'].map({'1Fam': 0, '2fmCon': 1, 'Duplex': 2, 'TwnhsE': 3, 'Twnhs': 4})"
      ]
    },
    {
      "cell_type": "code",
      "execution_count": 111,
      "id": "713d7707-49eb-4e5e-8b88-75ba8485285e",
      "metadata": {
        "id": "713d7707-49eb-4e5e-8b88-75ba8485285e"
      },
      "outputs": [],
      "source": [
        "#HouseStyle DROP\n",
        "train.drop('HouseStyle', axis=1, inplace=True)"
      ]
    },
    {
      "cell_type": "code",
      "execution_count": 112,
      "id": "5428119c-2e60-4712-b2ce-91101ec36ef3",
      "metadata": {
        "id": "5428119c-2e60-4712-b2ce-91101ec36ef3"
      },
      "outputs": [],
      "source": [
        "#RoofStyle Convert to numerical values\n",
        "train['RoofStyle'] = train['RoofStyle'].map({'Gable': 0, 'Hip': 1, 'Gambrel': 2, 'Mansard': 3, 'Flat': 4, 'Shed': 5})\n"
      ]
    },
    {
      "cell_type": "code",
      "execution_count": 113,
      "id": "e1f1f10d-783c-4b0e-a64d-f5d0543d649b",
      "metadata": {
        "id": "e1f1f10d-783c-4b0e-a64d-f5d0543d649b"
      },
      "outputs": [],
      "source": [
        "#RoofMatl Convert to numerical values\n",
        "train['RoofMatl'] = train['RoofMatl'].map({'CompShg': 0, 'WdShngl': 1, 'Metal': 2, 'WdShake': 3, 'Membran': 4, 'Tar&Grv': 5, 'Roll': 6, 'ClyTile': 7})\n"
      ]
    },
    {
      "cell_type": "code",
      "execution_count": 114,
      "id": "a43834dd-b81a-412f-866e-7aeb0d695686",
      "metadata": {
        "id": "a43834dd-b81a-412f-866e-7aeb0d695686"
      },
      "outputs": [],
      "source": [
        "#Exterior1st Convert to numerical values\n",
        "train['Exterior1st'] = train['Exterior1st'].map({'VinylSd': 0, 'MetalSd': 1, 'Wd Sdng': 2, 'HdBoard': 3, 'BrkFace': 4, 'WdShing': 5, 'CemntBd': 6, 'Plywood': 7, 'AsbShng': 8, 'Stucco': 9, 'BrkComm': 10, 'AsphShn': 11, 'Stone': 12, 'ImStucc': 13, 'CBlock': 14})\n"
      ]
    },
    {
      "cell_type": "code",
      "execution_count": 115,
      "id": "82f55524-7ba8-409e-9231-80df523df42a",
      "metadata": {
        "id": "82f55524-7ba8-409e-9231-80df523df42a"
      },
      "outputs": [],
      "source": [
        "#Exterior2nd drop\n",
        "train.drop('Exterior2nd', axis=1, inplace=True)"
      ]
    },
    {
      "cell_type": "code",
      "execution_count": 116,
      "id": "9054747e-8c51-4858-9755-31760d219aa4",
      "metadata": {
        "id": "9054747e-8c51-4858-9755-31760d219aa4"
      },
      "outputs": [],
      "source": [
        "#MasVnrType drop\n",
        "train.drop('MasVnrType', axis=1, inplace=True)"
      ]
    },
    {
      "cell_type": "code",
      "execution_count": 117,
      "id": "ab2bd912-3bc8-4610-a84f-b7d126eeb1ff",
      "metadata": {
        "id": "ab2bd912-3bc8-4610-a84f-b7d126eeb1ff"
      },
      "outputs": [],
      "source": [
        "#MasVnrArea drop\n",
        "train.drop('MasVnrArea', axis=1, inplace=True)"
      ]
    },
    {
      "cell_type": "code",
      "execution_count": 118,
      "id": "7dd19d57-3139-4058-b832-531d5ba06320",
      "metadata": {
        "id": "7dd19d57-3139-4058-b832-531d5ba06320"
      },
      "outputs": [],
      "source": [
        "#ExterQual Convert to numerical values\n",
        "train['ExterQual'] = train['ExterQual'].map({'Gd': 0, 'TA': 1, 'Ex': 2, 'Fa': 3})"
      ]
    },
    {
      "cell_type": "code",
      "execution_count": 119,
      "id": "7b53af4e-f1df-4ea1-84f0-87216172af97",
      "metadata": {
        "id": "7b53af4e-f1df-4ea1-84f0-87216172af97"
      },
      "outputs": [],
      "source": [
        "#ExterCond Convert to numerical values\n",
        "train['ExterCond'] = train['ExterCond'].map({'TA': 0, 'Gd': 1, 'Fa': 2, 'Po': 3, 'Ex': 4})\n"
      ]
    },
    {
      "cell_type": "code",
      "execution_count": 120,
      "id": "54afb637-0bc8-43b2-9889-24c5daf84386",
      "metadata": {
        "id": "54afb637-0bc8-43b2-9889-24c5daf84386"
      },
      "outputs": [],
      "source": [
        "#BsmtQual drop\n",
        "train.drop('BsmtQual', axis=1, inplace=True)"
      ]
    },
    {
      "cell_type": "code",
      "execution_count": 121,
      "id": "674aaa4e-2541-409a-aa9e-6d4585653dff",
      "metadata": {
        "id": "674aaa4e-2541-409a-aa9e-6d4585653dff"
      },
      "outputs": [],
      "source": [
        "#BsmtCond drop\n",
        "train.drop('BsmtCond', axis=1, inplace=True)"
      ]
    },
    {
      "cell_type": "code",
      "execution_count": 122,
      "id": "612a555f-3d05-48d7-be72-b5987c67222d",
      "metadata": {
        "id": "612a555f-3d05-48d7-be72-b5987c67222d"
      },
      "outputs": [],
      "source": [
        "#BsmtExposure drop\n",
        "train.drop('BsmtExposure', axis=1, inplace=True)"
      ]
    },
    {
      "cell_type": "code",
      "execution_count": 123,
      "id": "c89df4cb-b1c2-4608-b987-60114e585454",
      "metadata": {
        "id": "c89df4cb-b1c2-4608-b987-60114e585454"
      },
      "outputs": [],
      "source": [
        "#BsmtFinType1 drop\n",
        "train.drop('BsmtFinType1', axis=1, inplace=True)"
      ]
    },
    {
      "cell_type": "code",
      "execution_count": 124,
      "id": "a7f9ad9f-e419-463f-9916-4b2b5c1d6fac",
      "metadata": {
        "id": "a7f9ad9f-e419-463f-9916-4b2b5c1d6fac"
      },
      "outputs": [],
      "source": [
        "#BsmtFinSF1 drop\n",
        "train.drop('BsmtFinSF1', axis=1, inplace=True)"
      ]
    },
    {
      "cell_type": "code",
      "execution_count": 125,
      "id": "99a0b68e-ef19-4daf-b4e2-d63eed9e891a",
      "metadata": {
        "id": "99a0b68e-ef19-4daf-b4e2-d63eed9e891a"
      },
      "outputs": [],
      "source": [
        "#BsmtFinType2 drop\n",
        "train.drop('BsmtFinType2', axis=1, inplace=True)"
      ]
    },
    {
      "cell_type": "code",
      "execution_count": 126,
      "id": "ede96a9a-5f0d-4dbe-86e9-78bbf3e69788",
      "metadata": {
        "id": "ede96a9a-5f0d-4dbe-86e9-78bbf3e69788"
      },
      "outputs": [],
      "source": [
        "#BsmtFinSF2 drop\n",
        "train.drop('BsmtFinSF2', axis=1, inplace=True)"
      ]
    },
    {
      "cell_type": "code",
      "execution_count": 127,
      "id": "8467c75e-8afc-48eb-8931-07cdf624fcbd",
      "metadata": {
        "id": "8467c75e-8afc-48eb-8931-07cdf624fcbd"
      },
      "outputs": [],
      "source": [
        "#BsmtUnfSF drop\n",
        "train.drop('BsmtUnfSF', axis=1, inplace=True)"
      ]
    },
    {
      "cell_type": "code",
      "execution_count": 128,
      "id": "98d7477b-1067-4a07-bf15-53552baa75bb",
      "metadata": {
        "id": "98d7477b-1067-4a07-bf15-53552baa75bb"
      },
      "outputs": [],
      "source": [
        "#TotalBsmtSF drop\n",
        "train.drop('TotalBsmtSF', axis=1, inplace=True)"
      ]
    },
    {
      "cell_type": "code",
      "execution_count": 129,
      "id": "868ed8f6-08a0-4850-a994-b4d40dca3924",
      "metadata": {
        "id": "868ed8f6-08a0-4850-a994-b4d40dca3924"
      },
      "outputs": [],
      "source": [
        "#Heating Convert to numerical values\n",
        "train['Heating'] = train['Heating'].map({'GasA': 0, 'GasW': 1, 'Grav': 2, 'Wall': 3, 'OthW': 4, 'Floor': 5})\n"
      ]
    },
    {
      "cell_type": "code",
      "execution_count": 130,
      "id": "e81535bd-3dc5-44c6-af7a-42be3f09aa05",
      "metadata": {
        "id": "e81535bd-3dc5-44c6-af7a-42be3f09aa05"
      },
      "outputs": [],
      "source": [
        "#HeatingQC Convert to numerical values\n",
        "train['HeatingQC'] = train['HeatingQC'].map({'Ex': 0, 'Gd': 1, 'TA': 2, 'Fa': 3, 'Po': 4})"
      ]
    },
    {
      "cell_type": "code",
      "execution_count": 131,
      "id": "a75adcc5-b551-4aa7-be8f-20f916dbe98c",
      "metadata": {
        "id": "a75adcc5-b551-4aa7-be8f-20f916dbe98c"
      },
      "outputs": [],
      "source": [
        "#CentralAir Convert to numerical values\n",
        "train['CentralAir'] = train['CentralAir'].map({'Y': 1, 'N': 0})"
      ]
    },
    {
      "cell_type": "code",
      "execution_count": 132,
      "id": "3b1e60ec-83db-49e9-9ebd-2a73cf40185a",
      "metadata": {
        "id": "3b1e60ec-83db-49e9-9ebd-2a73cf40185a"
      },
      "outputs": [],
      "source": [
        "#Electrical convert to numerical values\n",
        "train['Electrical'] = train['Electrical'].map({'SBrkr': 0, 'FuseF': 1, 'FuseA': 2, 'FuseP': 3, 'Mix': 4})\n"
      ]
    },
    {
      "cell_type": "code",
      "execution_count": 133,
      "id": "88b9dd3c-0623-4f30-b232-54e07a978e1c",
      "metadata": {
        "id": "88b9dd3c-0623-4f30-b232-54e07a978e1c"
      },
      "outputs": [],
      "source": [
        "train['Electrical'] = train['Electrical'].fillna(method='ffill')"
      ]
    },
    {
      "cell_type": "code",
      "execution_count": 134,
      "id": "aa2eca06-3dca-4161-9b58-dad03abcda85",
      "metadata": {
        "id": "aa2eca06-3dca-4161-9b58-dad03abcda85"
      },
      "outputs": [],
      "source": [
        "#1stFlrSF drop\n",
        "train.drop('1stFlrSF', axis=1, inplace=True)"
      ]
    },
    {
      "cell_type": "code",
      "execution_count": 135,
      "id": "0af35813-7e6d-402a-b780-b6bbc6453b6c",
      "metadata": {
        "id": "0af35813-7e6d-402a-b780-b6bbc6453b6c"
      },
      "outputs": [],
      "source": [
        "#2ndFlrSF drop\n",
        "train.drop('2ndFlrSF', axis=1, inplace=True)"
      ]
    },
    {
      "cell_type": "code",
      "execution_count": 136,
      "id": "3cbd7405-d9d5-491a-8f11-7791320db763",
      "metadata": {
        "id": "3cbd7405-d9d5-491a-8f11-7791320db763"
      },
      "outputs": [],
      "source": [
        "#LowQualFinSF drop\n",
        "train.drop('LowQualFinSF', axis=1, inplace=True)"
      ]
    },
    {
      "cell_type": "code",
      "execution_count": 137,
      "id": "e7f58777-944a-4d30-aa1c-0b64842b2469",
      "metadata": {
        "id": "e7f58777-944a-4d30-aa1c-0b64842b2469"
      },
      "outputs": [],
      "source": [
        "#BsmtFullBath drop\n",
        "train.drop('BsmtFullBath', axis=1, inplace=True)"
      ]
    },
    {
      "cell_type": "code",
      "execution_count": 138,
      "id": "3dd8875c-8bbb-47b1-9c64-a15750af3de9",
      "metadata": {
        "id": "3dd8875c-8bbb-47b1-9c64-a15750af3de9"
      },
      "outputs": [],
      "source": [
        "#BsmtHalfBath drop\n",
        "train.drop('BsmtHalfBath', axis=1, inplace=True)"
      ]
    },
    {
      "cell_type": "code",
      "execution_count": 139,
      "id": "df34479b-eb67-4e06-b1c8-59bc45994300",
      "metadata": {
        "id": "df34479b-eb67-4e06-b1c8-59bc45994300"
      },
      "outputs": [],
      "source": [
        "#KitchenQual Convert to numerical values\n",
        "train['KitchenQual'] = train['KitchenQual'].map({'Gd': 0, 'TA': 1, 'Ex': 2, 'Fa': 3})"
      ]
    },
    {
      "cell_type": "code",
      "execution_count": 140,
      "id": "7a77b7dd-370b-4baf-88c8-750e5ea29d65",
      "metadata": {
        "id": "7a77b7dd-370b-4baf-88c8-750e5ea29d65"
      },
      "outputs": [],
      "source": [
        "#Functional Convert to numerical values\n",
        "train['Functional'] = train['Functional'].map({'Typ': 0, 'Min1': 1, 'Min2': 2, 'Mod': 3, 'Maj1': 4, 'Maj2': 5, 'Sev': 6, 'Sal': 7})\n"
      ]
    },
    {
      "cell_type": "code",
      "execution_count": 141,
      "id": "27eb28f3-7cbc-467c-b648-14101d6262f4",
      "metadata": {
        "id": "27eb28f3-7cbc-467c-b648-14101d6262f4"
      },
      "outputs": [],
      "source": [
        "#FireplaceQu drop\n",
        "train.drop('FireplaceQu', axis=1, inplace=True)"
      ]
    },
    {
      "cell_type": "code",
      "execution_count": 142,
      "id": "dc1d669e-c8ed-4dcb-90a4-63b482f7dc8d",
      "metadata": {
        "id": "dc1d669e-c8ed-4dcb-90a4-63b482f7dc8d"
      },
      "outputs": [],
      "source": [
        "#GarageType convert to numerical values\n",
        "train['GarageType'] = train['GarageType'].map({'Attchd': 0, 'Detchd': 1, 'BuiltIn': 2, 'CarPort': 3, 'Basment': 4, '2Types': 5})\n"
      ]
    },
    {
      "cell_type": "code",
      "execution_count": 143,
      "id": "2d406de7-26b5-4d6f-bd65-702feac3e55d",
      "metadata": {
        "id": "2d406de7-26b5-4d6f-bd65-702feac3e55d"
      },
      "outputs": [],
      "source": [
        "train['GarageType'] = train['GarageType'].fillna(method='ffill')"
      ]
    },
    {
      "cell_type": "code",
      "execution_count": 144,
      "id": "2d0e1292-d15a-4445-8b29-22200f0b3f4a",
      "metadata": {
        "id": "2d0e1292-d15a-4445-8b29-22200f0b3f4a"
      },
      "outputs": [],
      "source": [
        "#GarageYrBlt drop\n",
        "train.drop('GarageYrBlt', axis=1, inplace=True)"
      ]
    },
    {
      "cell_type": "code",
      "execution_count": 145,
      "id": "6d1806a5-b053-4a50-a534-06eca0ad4f08",
      "metadata": {
        "id": "6d1806a5-b053-4a50-a534-06eca0ad4f08"
      },
      "outputs": [],
      "source": [
        "#GarageFinish drop \n",
        "train.drop('GarageFinish', axis=1, inplace=True)"
      ]
    },
    {
      "cell_type": "code",
      "execution_count": 146,
      "id": "9476db67-b5fb-4029-9848-f6d2b49e3412",
      "metadata": {
        "id": "9476db67-b5fb-4029-9848-f6d2b49e3412"
      },
      "outputs": [],
      "source": [
        "#GarageQual drop\n",
        "train.drop('GarageQual', axis=1, inplace=True)\n",
        "#GarageCond drop\n",
        "train.drop('GarageCond', axis=1, inplace=True)\n"
      ]
    },
    {
      "cell_type": "code",
      "execution_count": 147,
      "id": "01267cb9-1330-4e12-bec4-c06aa22e06e6",
      "metadata": {
        "id": "01267cb9-1330-4e12-bec4-c06aa22e06e6"
      },
      "outputs": [],
      "source": [
        "#PavedDrive Convert to numerical values\n",
        "train['PavedDrive'] = train['PavedDrive'].map({'Y': 0, 'N': 1, 'P': 2})"
      ]
    },
    {
      "cell_type": "code",
      "execution_count": 148,
      "id": "336c13a4-d13f-42fd-a8ce-a53f1045aa24",
      "metadata": {
        "id": "336c13a4-d13f-42fd-a8ce-a53f1045aa24"
      },
      "outputs": [],
      "source": [
        "#WoodDeckSF drop\n",
        "train.drop('WoodDeckSF', axis=1, inplace=True)"
      ]
    },
    {
      "cell_type": "code",
      "execution_count": 149,
      "id": "9ae86a85-1a73-4000-b926-e601a58a1b11",
      "metadata": {
        "id": "9ae86a85-1a73-4000-b926-e601a58a1b11"
      },
      "outputs": [],
      "source": [
        "#3SsnPorch drop\n",
        "train.drop('3SsnPorch', axis=1, inplace=True)\n",
        "#ScreenPorch drop\n",
        "train.drop('ScreenPorch', axis=1, inplace=True)"
      ]
    },
    {
      "cell_type": "code",
      "execution_count": 150,
      "id": "239ad074-689f-4431-a423-7a0c46d59933",
      "metadata": {
        "id": "239ad074-689f-4431-a423-7a0c46d59933"
      },
      "outputs": [],
      "source": [
        "#PoolQC drop\n",
        "train.drop('PoolQC', axis=1, inplace=True)\n",
        "#Fence drop\n",
        "train.drop('Fence', axis=1, inplace=True)"
      ]
    },
    {
      "cell_type": "code",
      "execution_count": 151,
      "id": "f979d72c-8015-4e6d-bd38-835db1097de9",
      "metadata": {
        "id": "f979d72c-8015-4e6d-bd38-835db1097de9"
      },
      "outputs": [],
      "source": [
        "#MiscFeature drop\n",
        "train.drop('MiscFeature', axis=1, inplace=True)\n"
      ]
    },
    {
      "cell_type": "code",
      "execution_count": 152,
      "id": "a6c958a9-38c6-4df1-827d-eafc16ecee67",
      "metadata": {
        "id": "a6c958a9-38c6-4df1-827d-eafc16ecee67"
      },
      "outputs": [],
      "source": [
        "#MiscVal drop\n",
        "train.drop('MiscVal', axis=1, inplace=True)\n"
      ]
    },
    {
      "cell_type": "code",
      "execution_count": 153,
      "id": "a056bcea-c9a5-49c8-8ef3-27019ad2f1a3",
      "metadata": {
        "id": "a056bcea-c9a5-49c8-8ef3-27019ad2f1a3"
      },
      "outputs": [],
      "source": [
        "#SaleType drop\n",
        "train.drop('SaleType', axis=1, inplace=True)"
      ]
    },
    {
      "cell_type": "code",
      "execution_count": 154,
      "id": "3438e52b-a126-4164-aed7-8fba13fe1f9f",
      "metadata": {
        "id": "3438e52b-a126-4164-aed7-8fba13fe1f9f"
      },
      "outputs": [],
      "source": [
        "#SaleCondition convert to numerical values\n",
        "train['SaleCondition'] = train['SaleCondition'].map({'Normal': 0, 'Abnorml': 1, 'Partial': 2, 'AdjLand': 3, 'Alloca': 4, 'Family': 5})\n"
      ]
    },
    {
      "cell_type": "code",
      "execution_count": 155,
      "id": "c24f600a-fb5d-4bc0-a27d-0ed2e263af8a",
      "metadata": {
        "colab": {
          "base_uri": "https://localhost:8080/"
        },
        "id": "c24f600a-fb5d-4bc0-a27d-0ed2e263af8a",
        "outputId": "802e1a45-6c3a-4e54-b276-eb156da332a6"
      },
      "outputs": [
        {
          "output_type": "execute_result",
          "data": {
            "text/plain": [
              "PConc     647\n",
              "CBlock    634\n",
              "BrkTil    146\n",
              "Slab       24\n",
              "Stone       6\n",
              "Wood        3\n",
              "Name: Foundation, dtype: int64"
            ]
          },
          "metadata": {},
          "execution_count": 155
        }
      ],
      "source": [
        "train.Foundation.value_counts()"
      ]
    },
    {
      "cell_type": "code",
      "execution_count": 156,
      "id": "489e0a85-3927-4191-9753-f0a4097fe43e",
      "metadata": {
        "id": "489e0a85-3927-4191-9753-f0a4097fe43e"
      },
      "outputs": [],
      "source": [
        "#Foundation convert to numerical values\n",
        "train['Foundation'] = train['Foundation'].map({'PConc': 0, 'CBlock': 1, 'BrkTil': 2, 'Slab': 3, 'Stone': 4, 'Wood': 5})"
      ]
    },
    {
      "cell_type": "code",
      "execution_count": 157,
      "id": "37491567-c617-4036-a75f-bf8c57ab1c3d",
      "metadata": {
        "colab": {
          "base_uri": "https://localhost:8080/",
          "height": 270
        },
        "id": "37491567-c617-4036-a75f-bf8c57ab1c3d",
        "outputId": "91332ce4-f150-4982-a89b-3af114e8a970"
      },
      "outputs": [
        {
          "output_type": "execute_result",
          "data": {
            "text/plain": [
              "   Id  MSZoning  LotFrontage  LotArea  Street LotShape  Neighborhood  Condition1  BldgType  OverallQual  OverallCond  YearBuilt  YearRemodAdd  RoofStyle  RoofMatl  Exterior1st  ExterQual  ExterCond  Foundation  Heating  HeatingQC  CentralAir  Electrical  GrLivArea  FullBath  HalfBath  BedroomAbvGr  KitchenAbvGr  KitchenQual  TotRmsAbvGrd  Functional  Fireplaces  GarageType  GarageCars  GarageArea  PavedDrive  OpenPorchSF  EnclosedPorch  PoolArea  MoSold  YrSold  SaleCondition  SalePrice\n",
              "0   1         0         65.0     8450       0      Reg             0           0         0            7            5       2003          2003          0         0            0          0          0           0        0          0           1         0.0       1710         2         1             3             1            0             8           0           0         0.0           2         548           0           61              0         0       2    2008              0     208500\n",
              "1   2         0         80.0     9600       0      Reg             1           1         0            6            8       1976          1976          0         0            1          1          0           1        0          0           1         0.0       1262         2         0             3             1            1             6           0           1         0.0           2         460           0            0              0         0       5    2007              0     181500\n",
              "2   3         0         68.0    11250       0      IR1             0           0         0            7            5       2001          2002          0         0            0          0          0           0        0          0           1         0.0       1786         2         1             3             1            0             6           0           1         0.0           2         608           0           42              0         0       9    2008              0     223500\n",
              "3   4         0         60.0     9550       0      IR1             2           0         0            7            5       1915          1970          0         0            2          1          0           2        0          1           1         0.0       1717         1         0             3             1            0             7           0           1         1.0           3         642           0           35            272         0       2    2006              1     140000\n",
              "4   5         0         84.0    14260       0      IR1             3           0         0            8            5       2000          2000          0         0            0          0          0           0        0          0           1         0.0       2198         2         1             4             1            0             9           0           1         0.0           3         836           0           84              0         0      12    2008              0     250000"
            ],
            "text/html": [
              "\n",
              "  <div id=\"df-77dda3ce-8cb4-4f05-80dd-aa6b5c2bddfb\">\n",
              "    <div class=\"colab-df-container\">\n",
              "      <div>\n",
              "<style scoped>\n",
              "    .dataframe tbody tr th:only-of-type {\n",
              "        vertical-align: middle;\n",
              "    }\n",
              "\n",
              "    .dataframe tbody tr th {\n",
              "        vertical-align: top;\n",
              "    }\n",
              "\n",
              "    .dataframe thead th {\n",
              "        text-align: right;\n",
              "    }\n",
              "</style>\n",
              "<table border=\"1\" class=\"dataframe\">\n",
              "  <thead>\n",
              "    <tr style=\"text-align: right;\">\n",
              "      <th></th>\n",
              "      <th>Id</th>\n",
              "      <th>MSZoning</th>\n",
              "      <th>LotFrontage</th>\n",
              "      <th>LotArea</th>\n",
              "      <th>Street</th>\n",
              "      <th>LotShape</th>\n",
              "      <th>Neighborhood</th>\n",
              "      <th>Condition1</th>\n",
              "      <th>BldgType</th>\n",
              "      <th>OverallQual</th>\n",
              "      <th>OverallCond</th>\n",
              "      <th>YearBuilt</th>\n",
              "      <th>YearRemodAdd</th>\n",
              "      <th>RoofStyle</th>\n",
              "      <th>RoofMatl</th>\n",
              "      <th>Exterior1st</th>\n",
              "      <th>ExterQual</th>\n",
              "      <th>ExterCond</th>\n",
              "      <th>Foundation</th>\n",
              "      <th>Heating</th>\n",
              "      <th>HeatingQC</th>\n",
              "      <th>CentralAir</th>\n",
              "      <th>Electrical</th>\n",
              "      <th>GrLivArea</th>\n",
              "      <th>FullBath</th>\n",
              "      <th>HalfBath</th>\n",
              "      <th>BedroomAbvGr</th>\n",
              "      <th>KitchenAbvGr</th>\n",
              "      <th>KitchenQual</th>\n",
              "      <th>TotRmsAbvGrd</th>\n",
              "      <th>Functional</th>\n",
              "      <th>Fireplaces</th>\n",
              "      <th>GarageType</th>\n",
              "      <th>GarageCars</th>\n",
              "      <th>GarageArea</th>\n",
              "      <th>PavedDrive</th>\n",
              "      <th>OpenPorchSF</th>\n",
              "      <th>EnclosedPorch</th>\n",
              "      <th>PoolArea</th>\n",
              "      <th>MoSold</th>\n",
              "      <th>YrSold</th>\n",
              "      <th>SaleCondition</th>\n",
              "      <th>SalePrice</th>\n",
              "    </tr>\n",
              "  </thead>\n",
              "  <tbody>\n",
              "    <tr>\n",
              "      <th>0</th>\n",
              "      <td>1</td>\n",
              "      <td>0</td>\n",
              "      <td>65.0</td>\n",
              "      <td>8450</td>\n",
              "      <td>0</td>\n",
              "      <td>Reg</td>\n",
              "      <td>0</td>\n",
              "      <td>0</td>\n",
              "      <td>0</td>\n",
              "      <td>7</td>\n",
              "      <td>5</td>\n",
              "      <td>2003</td>\n",
              "      <td>2003</td>\n",
              "      <td>0</td>\n",
              "      <td>0</td>\n",
              "      <td>0</td>\n",
              "      <td>0</td>\n",
              "      <td>0</td>\n",
              "      <td>0</td>\n",
              "      <td>0</td>\n",
              "      <td>0</td>\n",
              "      <td>1</td>\n",
              "      <td>0.0</td>\n",
              "      <td>1710</td>\n",
              "      <td>2</td>\n",
              "      <td>1</td>\n",
              "      <td>3</td>\n",
              "      <td>1</td>\n",
              "      <td>0</td>\n",
              "      <td>8</td>\n",
              "      <td>0</td>\n",
              "      <td>0</td>\n",
              "      <td>0.0</td>\n",
              "      <td>2</td>\n",
              "      <td>548</td>\n",
              "      <td>0</td>\n",
              "      <td>61</td>\n",
              "      <td>0</td>\n",
              "      <td>0</td>\n",
              "      <td>2</td>\n",
              "      <td>2008</td>\n",
              "      <td>0</td>\n",
              "      <td>208500</td>\n",
              "    </tr>\n",
              "    <tr>\n",
              "      <th>1</th>\n",
              "      <td>2</td>\n",
              "      <td>0</td>\n",
              "      <td>80.0</td>\n",
              "      <td>9600</td>\n",
              "      <td>0</td>\n",
              "      <td>Reg</td>\n",
              "      <td>1</td>\n",
              "      <td>1</td>\n",
              "      <td>0</td>\n",
              "      <td>6</td>\n",
              "      <td>8</td>\n",
              "      <td>1976</td>\n",
              "      <td>1976</td>\n",
              "      <td>0</td>\n",
              "      <td>0</td>\n",
              "      <td>1</td>\n",
              "      <td>1</td>\n",
              "      <td>0</td>\n",
              "      <td>1</td>\n",
              "      <td>0</td>\n",
              "      <td>0</td>\n",
              "      <td>1</td>\n",
              "      <td>0.0</td>\n",
              "      <td>1262</td>\n",
              "      <td>2</td>\n",
              "      <td>0</td>\n",
              "      <td>3</td>\n",
              "      <td>1</td>\n",
              "      <td>1</td>\n",
              "      <td>6</td>\n",
              "      <td>0</td>\n",
              "      <td>1</td>\n",
              "      <td>0.0</td>\n",
              "      <td>2</td>\n",
              "      <td>460</td>\n",
              "      <td>0</td>\n",
              "      <td>0</td>\n",
              "      <td>0</td>\n",
              "      <td>0</td>\n",
              "      <td>5</td>\n",
              "      <td>2007</td>\n",
              "      <td>0</td>\n",
              "      <td>181500</td>\n",
              "    </tr>\n",
              "    <tr>\n",
              "      <th>2</th>\n",
              "      <td>3</td>\n",
              "      <td>0</td>\n",
              "      <td>68.0</td>\n",
              "      <td>11250</td>\n",
              "      <td>0</td>\n",
              "      <td>IR1</td>\n",
              "      <td>0</td>\n",
              "      <td>0</td>\n",
              "      <td>0</td>\n",
              "      <td>7</td>\n",
              "      <td>5</td>\n",
              "      <td>2001</td>\n",
              "      <td>2002</td>\n",
              "      <td>0</td>\n",
              "      <td>0</td>\n",
              "      <td>0</td>\n",
              "      <td>0</td>\n",
              "      <td>0</td>\n",
              "      <td>0</td>\n",
              "      <td>0</td>\n",
              "      <td>0</td>\n",
              "      <td>1</td>\n",
              "      <td>0.0</td>\n",
              "      <td>1786</td>\n",
              "      <td>2</td>\n",
              "      <td>1</td>\n",
              "      <td>3</td>\n",
              "      <td>1</td>\n",
              "      <td>0</td>\n",
              "      <td>6</td>\n",
              "      <td>0</td>\n",
              "      <td>1</td>\n",
              "      <td>0.0</td>\n",
              "      <td>2</td>\n",
              "      <td>608</td>\n",
              "      <td>0</td>\n",
              "      <td>42</td>\n",
              "      <td>0</td>\n",
              "      <td>0</td>\n",
              "      <td>9</td>\n",
              "      <td>2008</td>\n",
              "      <td>0</td>\n",
              "      <td>223500</td>\n",
              "    </tr>\n",
              "    <tr>\n",
              "      <th>3</th>\n",
              "      <td>4</td>\n",
              "      <td>0</td>\n",
              "      <td>60.0</td>\n",
              "      <td>9550</td>\n",
              "      <td>0</td>\n",
              "      <td>IR1</td>\n",
              "      <td>2</td>\n",
              "      <td>0</td>\n",
              "      <td>0</td>\n",
              "      <td>7</td>\n",
              "      <td>5</td>\n",
              "      <td>1915</td>\n",
              "      <td>1970</td>\n",
              "      <td>0</td>\n",
              "      <td>0</td>\n",
              "      <td>2</td>\n",
              "      <td>1</td>\n",
              "      <td>0</td>\n",
              "      <td>2</td>\n",
              "      <td>0</td>\n",
              "      <td>1</td>\n",
              "      <td>1</td>\n",
              "      <td>0.0</td>\n",
              "      <td>1717</td>\n",
              "      <td>1</td>\n",
              "      <td>0</td>\n",
              "      <td>3</td>\n",
              "      <td>1</td>\n",
              "      <td>0</td>\n",
              "      <td>7</td>\n",
              "      <td>0</td>\n",
              "      <td>1</td>\n",
              "      <td>1.0</td>\n",
              "      <td>3</td>\n",
              "      <td>642</td>\n",
              "      <td>0</td>\n",
              "      <td>35</td>\n",
              "      <td>272</td>\n",
              "      <td>0</td>\n",
              "      <td>2</td>\n",
              "      <td>2006</td>\n",
              "      <td>1</td>\n",
              "      <td>140000</td>\n",
              "    </tr>\n",
              "    <tr>\n",
              "      <th>4</th>\n",
              "      <td>5</td>\n",
              "      <td>0</td>\n",
              "      <td>84.0</td>\n",
              "      <td>14260</td>\n",
              "      <td>0</td>\n",
              "      <td>IR1</td>\n",
              "      <td>3</td>\n",
              "      <td>0</td>\n",
              "      <td>0</td>\n",
              "      <td>8</td>\n",
              "      <td>5</td>\n",
              "      <td>2000</td>\n",
              "      <td>2000</td>\n",
              "      <td>0</td>\n",
              "      <td>0</td>\n",
              "      <td>0</td>\n",
              "      <td>0</td>\n",
              "      <td>0</td>\n",
              "      <td>0</td>\n",
              "      <td>0</td>\n",
              "      <td>0</td>\n",
              "      <td>1</td>\n",
              "      <td>0.0</td>\n",
              "      <td>2198</td>\n",
              "      <td>2</td>\n",
              "      <td>1</td>\n",
              "      <td>4</td>\n",
              "      <td>1</td>\n",
              "      <td>0</td>\n",
              "      <td>9</td>\n",
              "      <td>0</td>\n",
              "      <td>1</td>\n",
              "      <td>0.0</td>\n",
              "      <td>3</td>\n",
              "      <td>836</td>\n",
              "      <td>0</td>\n",
              "      <td>84</td>\n",
              "      <td>0</td>\n",
              "      <td>0</td>\n",
              "      <td>12</td>\n",
              "      <td>2008</td>\n",
              "      <td>0</td>\n",
              "      <td>250000</td>\n",
              "    </tr>\n",
              "  </tbody>\n",
              "</table>\n",
              "</div>\n",
              "      <button class=\"colab-df-convert\" onclick=\"convertToInteractive('df-77dda3ce-8cb4-4f05-80dd-aa6b5c2bddfb')\"\n",
              "              title=\"Convert this dataframe to an interactive table.\"\n",
              "              style=\"display:none;\">\n",
              "        \n",
              "  <svg xmlns=\"http://www.w3.org/2000/svg\" height=\"24px\"viewBox=\"0 0 24 24\"\n",
              "       width=\"24px\">\n",
              "    <path d=\"M0 0h24v24H0V0z\" fill=\"none\"/>\n",
              "    <path d=\"M18.56 5.44l.94 2.06.94-2.06 2.06-.94-2.06-.94-.94-2.06-.94 2.06-2.06.94zm-11 1L8.5 8.5l.94-2.06 2.06-.94-2.06-.94L8.5 2.5l-.94 2.06-2.06.94zm10 10l.94 2.06.94-2.06 2.06-.94-2.06-.94-.94-2.06-.94 2.06-2.06.94z\"/><path d=\"M17.41 7.96l-1.37-1.37c-.4-.4-.92-.59-1.43-.59-.52 0-1.04.2-1.43.59L10.3 9.45l-7.72 7.72c-.78.78-.78 2.05 0 2.83L4 21.41c.39.39.9.59 1.41.59.51 0 1.02-.2 1.41-.59l7.78-7.78 2.81-2.81c.8-.78.8-2.07 0-2.86zM5.41 20L4 18.59l7.72-7.72 1.47 1.35L5.41 20z\"/>\n",
              "  </svg>\n",
              "      </button>\n",
              "      \n",
              "  <style>\n",
              "    .colab-df-container {\n",
              "      display:flex;\n",
              "      flex-wrap:wrap;\n",
              "      gap: 12px;\n",
              "    }\n",
              "\n",
              "    .colab-df-convert {\n",
              "      background-color: #E8F0FE;\n",
              "      border: none;\n",
              "      border-radius: 50%;\n",
              "      cursor: pointer;\n",
              "      display: none;\n",
              "      fill: #1967D2;\n",
              "      height: 32px;\n",
              "      padding: 0 0 0 0;\n",
              "      width: 32px;\n",
              "    }\n",
              "\n",
              "    .colab-df-convert:hover {\n",
              "      background-color: #E2EBFA;\n",
              "      box-shadow: 0px 1px 2px rgba(60, 64, 67, 0.3), 0px 1px 3px 1px rgba(60, 64, 67, 0.15);\n",
              "      fill: #174EA6;\n",
              "    }\n",
              "\n",
              "    [theme=dark] .colab-df-convert {\n",
              "      background-color: #3B4455;\n",
              "      fill: #D2E3FC;\n",
              "    }\n",
              "\n",
              "    [theme=dark] .colab-df-convert:hover {\n",
              "      background-color: #434B5C;\n",
              "      box-shadow: 0px 1px 3px 1px rgba(0, 0, 0, 0.15);\n",
              "      filter: drop-shadow(0px 1px 2px rgba(0, 0, 0, 0.3));\n",
              "      fill: #FFFFFF;\n",
              "    }\n",
              "  </style>\n",
              "\n",
              "      <script>\n",
              "        const buttonEl =\n",
              "          document.querySelector('#df-77dda3ce-8cb4-4f05-80dd-aa6b5c2bddfb button.colab-df-convert');\n",
              "        buttonEl.style.display =\n",
              "          google.colab.kernel.accessAllowed ? 'block' : 'none';\n",
              "\n",
              "        async function convertToInteractive(key) {\n",
              "          const element = document.querySelector('#df-77dda3ce-8cb4-4f05-80dd-aa6b5c2bddfb');\n",
              "          const dataTable =\n",
              "            await google.colab.kernel.invokeFunction('convertToInteractive',\n",
              "                                                     [key], {});\n",
              "          if (!dataTable) return;\n",
              "\n",
              "          const docLinkHtml = 'Like what you see? Visit the ' +\n",
              "            '<a target=\"_blank\" href=https://colab.research.google.com/notebooks/data_table.ipynb>data table notebook</a>'\n",
              "            + ' to learn more about interactive tables.';\n",
              "          element.innerHTML = '';\n",
              "          dataTable['output_type'] = 'display_data';\n",
              "          await google.colab.output.renderOutput(dataTable, element);\n",
              "          const docLink = document.createElement('div');\n",
              "          docLink.innerHTML = docLinkHtml;\n",
              "          element.appendChild(docLink);\n",
              "        }\n",
              "      </script>\n",
              "    </div>\n",
              "  </div>\n",
              "  "
            ]
          },
          "metadata": {},
          "execution_count": 157
        }
      ],
      "source": [
        "train.head()"
      ]
    },
    {
      "cell_type": "code",
      "execution_count": 158,
      "id": "6a692419-9ca3-452b-878b-5e186a4e3613",
      "metadata": {
        "colab": {
          "base_uri": "https://localhost:8080/"
        },
        "id": "6a692419-9ca3-452b-878b-5e186a4e3613",
        "outputId": "94937099-0b78-4ca9-c1bc-ac88e6ae7055"
      },
      "outputs": [
        {
          "output_type": "stream",
          "name": "stdout",
          "text": [
            "<class 'pandas.core.frame.DataFrame'>\n",
            "RangeIndex: 1460 entries, 0 to 1459\n",
            "Data columns (total 43 columns):\n",
            " #   Column         Non-Null Count  Dtype  \n",
            "---  ------         --------------  -----  \n",
            " 0   Id             1460 non-null   int64  \n",
            " 1   MSZoning       1460 non-null   int64  \n",
            " 2   LotFrontage    1460 non-null   float64\n",
            " 3   LotArea        1460 non-null   int64  \n",
            " 4   Street         1460 non-null   int64  \n",
            " 5   LotShape       1460 non-null   object \n",
            " 6   Neighborhood   1460 non-null   int64  \n",
            " 7   Condition1     1460 non-null   int64  \n",
            " 8   BldgType       1460 non-null   int64  \n",
            " 9   OverallQual    1460 non-null   int64  \n",
            " 10  OverallCond    1460 non-null   int64  \n",
            " 11  YearBuilt      1460 non-null   int64  \n",
            " 12  YearRemodAdd   1460 non-null   int64  \n",
            " 13  RoofStyle      1460 non-null   int64  \n",
            " 14  RoofMatl       1460 non-null   int64  \n",
            " 15  Exterior1st    1460 non-null   int64  \n",
            " 16  ExterQual      1460 non-null   int64  \n",
            " 17  ExterCond      1460 non-null   int64  \n",
            " 18  Foundation     1460 non-null   int64  \n",
            " 19  Heating        1460 non-null   int64  \n",
            " 20  HeatingQC      1460 non-null   int64  \n",
            " 21  CentralAir     1460 non-null   int64  \n",
            " 22  Electrical     1460 non-null   float64\n",
            " 23  GrLivArea      1460 non-null   int64  \n",
            " 24  FullBath       1460 non-null   int64  \n",
            " 25  HalfBath       1460 non-null   int64  \n",
            " 26  BedroomAbvGr   1460 non-null   int64  \n",
            " 27  KitchenAbvGr   1460 non-null   int64  \n",
            " 28  KitchenQual    1460 non-null   int64  \n",
            " 29  TotRmsAbvGrd   1460 non-null   int64  \n",
            " 30  Functional     1460 non-null   int64  \n",
            " 31  Fireplaces     1460 non-null   int64  \n",
            " 32  GarageType     1460 non-null   float64\n",
            " 33  GarageCars     1460 non-null   int64  \n",
            " 34  GarageArea     1460 non-null   int64  \n",
            " 35  PavedDrive     1460 non-null   int64  \n",
            " 36  OpenPorchSF    1460 non-null   int64  \n",
            " 37  EnclosedPorch  1460 non-null   int64  \n",
            " 38  PoolArea       1460 non-null   int64  \n",
            " 39  MoSold         1460 non-null   int64  \n",
            " 40  YrSold         1460 non-null   int64  \n",
            " 41  SaleCondition  1460 non-null   int64  \n",
            " 42  SalePrice      1460 non-null   int64  \n",
            "dtypes: float64(3), int64(39), object(1)\n",
            "memory usage: 490.6+ KB\n"
          ]
        }
      ],
      "source": [
        "train.info()"
      ]
    },
    {
      "cell_type": "code",
      "execution_count": 159,
      "id": "bfda949b-0bfa-4cfc-b04d-3356b69d30dc",
      "metadata": {
        "colab": {
          "base_uri": "https://localhost:8080/"
        },
        "id": "bfda949b-0bfa-4cfc-b04d-3356b69d30dc",
        "outputId": "cd54e9d2-18d3-4fe1-bbb8-cf260e338f32"
      },
      "outputs": [
        {
          "output_type": "stream",
          "name": "stderr",
          "text": [
            "<ipython-input-159-c6e9f2ebc708>:5: FutureWarning: Automatic reindexing on DataFrame vs Series comparisons is deprecated and will raise ValueError in a future version.  Do `left, right = left.align(right, axis=1, copy=False)` before e.g. `left == right`\n",
            "  data_clean= data[~((data<(Q1 - 3*IQ_range)) | (data>(Q3 + 3*IQ_range)))]\n"
          ]
        }
      ],
      "source": [
        "def remove_interquartile(data):\n",
        "  Q1= data.quantile(0.25)\n",
        "  Q3= data.quantile(0.75)  \n",
        "  IQ_range= Q3-Q1\n",
        "  data_clean= data[~((data<(Q1 - 3*IQ_range)) | (data>(Q3 + 3*IQ_range)))]\n",
        "  return data_clean\n",
        "\n",
        "train = remove_interquartile(train)"
      ]
    },
    {
      "cell_type": "code",
      "execution_count": 160,
      "id": "5d09f1ae-156e-4241-a619-7eef02a0a323",
      "metadata": {
        "colab": {
          "base_uri": "https://localhost:8080/"
        },
        "id": "5d09f1ae-156e-4241-a619-7eef02a0a323",
        "outputId": "709fadf5-29f5-4c5b-ec9c-356945833871"
      },
      "outputs": [
        {
          "output_type": "stream",
          "name": "stdout",
          "text": [
            "<class 'pandas.core.frame.DataFrame'>\n",
            "RangeIndex: 1460 entries, 0 to 1459\n",
            "Data columns (total 43 columns):\n",
            " #   Column         Non-Null Count  Dtype  \n",
            "---  ------         --------------  -----  \n",
            " 0   Id             1460 non-null   int64  \n",
            " 1   MSZoning       1151 non-null   float64\n",
            " 2   LotFrontage    1447 non-null   float64\n",
            " 3   LotArea        1426 non-null   float64\n",
            " 4   Street         1454 non-null   float64\n",
            " 5   LotShape       1460 non-null   object \n",
            " 6   Neighborhood   1460 non-null   int64  \n",
            " 7   Condition1     1260 non-null   float64\n",
            " 8   BldgType       1220 non-null   float64\n",
            " 9   OverallQual    1460 non-null   int64  \n",
            " 10  OverallCond    1459 non-null   float64\n",
            " 11  YearBuilt      1460 non-null   int64  \n",
            " 12  YearRemodAdd   1460 non-null   int64  \n",
            " 13  RoofStyle      1141 non-null   float64\n",
            " 14  RoofMatl       1434 non-null   float64\n",
            " 15  Exterior1st    1458 non-null   float64\n",
            " 16  ExterQual      1460 non-null   int64  \n",
            " 17  ExterCond      1282 non-null   float64\n",
            " 18  Foundation     1457 non-null   float64\n",
            " 19  Heating        1428 non-null   float64\n",
            " 20  HeatingQC      1460 non-null   int64  \n",
            " 21  CentralAir     1365 non-null   float64\n",
            " 22  Electrical     1335 non-null   float64\n",
            " 23  GrLivArea      1456 non-null   float64\n",
            " 24  FullBath       1460 non-null   int64  \n",
            " 25  HalfBath       1460 non-null   int64  \n",
            " 26  BedroomAbvGr   1459 non-null   float64\n",
            " 27  KitchenAbvGr   1392 non-null   float64\n",
            " 28  KitchenQual    1460 non-null   int64  \n",
            " 29  TotRmsAbvGrd   1459 non-null   float64\n",
            " 30  Functional     1360 non-null   float64\n",
            " 31  Fireplaces     1460 non-null   int64  \n",
            " 32  GarageType     1454 non-null   float64\n",
            " 33  GarageCars     1460 non-null   int64  \n",
            " 34  GarageArea     1457 non-null   float64\n",
            " 35  PavedDrive     1340 non-null   float64\n",
            " 36  OpenPorchSF    1442 non-null   float64\n",
            " 37  EnclosedPorch  1252 non-null   float64\n",
            " 38  PoolArea       1453 non-null   float64\n",
            " 39  MoSold         1460 non-null   int64  \n",
            " 40  YrSold         1460 non-null   int64  \n",
            " 41  SaleCondition  1198 non-null   float64\n",
            " 42  SalePrice      1448 non-null   float64\n",
            "dtypes: float64(28), int64(14), object(1)\n",
            "memory usage: 490.6+ KB\n"
          ]
        }
      ],
      "source": [
        "train.info()"
      ]
    },
    {
      "cell_type": "code",
      "execution_count": 161,
      "id": "5923c77b-74dd-4aae-8378-ead2e29b6ef8",
      "metadata": {
        "colab": {
          "base_uri": "https://localhost:8080/"
        },
        "id": "5923c77b-74dd-4aae-8378-ead2e29b6ef8",
        "outputId": "6df99c88-582a-4e5e-8c08-723c9317041b"
      },
      "outputs": [
        {
          "output_type": "stream",
          "name": "stdout",
          "text": [
            "<class 'pandas.core.frame.DataFrame'>\n",
            "RangeIndex: 1460 entries, 0 to 1459\n",
            "Data columns (total 43 columns):\n",
            " #   Column         Non-Null Count  Dtype  \n",
            "---  ------         --------------  -----  \n",
            " 0   Id             1460 non-null   int64  \n",
            " 1   MSZoning       1151 non-null   float64\n",
            " 2   LotFrontage    1447 non-null   float64\n",
            " 3   LotArea        1426 non-null   float64\n",
            " 4   Street         1454 non-null   float64\n",
            " 5   LotShape       1460 non-null   object \n",
            " 6   Neighborhood   1460 non-null   int64  \n",
            " 7   Condition1     1260 non-null   float64\n",
            " 8   BldgType       1220 non-null   float64\n",
            " 9   OverallQual    1460 non-null   int64  \n",
            " 10  OverallCond    1459 non-null   float64\n",
            " 11  YearBuilt      1460 non-null   int64  \n",
            " 12  YearRemodAdd   1460 non-null   int64  \n",
            " 13  RoofStyle      1141 non-null   float64\n",
            " 14  RoofMatl       1434 non-null   float64\n",
            " 15  Exterior1st    1458 non-null   float64\n",
            " 16  ExterQual      1460 non-null   int64  \n",
            " 17  ExterCond      1282 non-null   float64\n",
            " 18  Foundation     1457 non-null   float64\n",
            " 19  Heating        1428 non-null   float64\n",
            " 20  HeatingQC      1460 non-null   int64  \n",
            " 21  CentralAir     1365 non-null   float64\n",
            " 22  Electrical     1335 non-null   float64\n",
            " 23  GrLivArea      1456 non-null   float64\n",
            " 24  FullBath       1460 non-null   int64  \n",
            " 25  HalfBath       1460 non-null   int64  \n",
            " 26  BedroomAbvGr   1459 non-null   float64\n",
            " 27  KitchenAbvGr   1392 non-null   float64\n",
            " 28  KitchenQual    1460 non-null   int64  \n",
            " 29  TotRmsAbvGrd   1459 non-null   float64\n",
            " 30  Functional     1360 non-null   float64\n",
            " 31  Fireplaces     1460 non-null   int64  \n",
            " 32  GarageType     1454 non-null   float64\n",
            " 33  GarageCars     1460 non-null   int64  \n",
            " 34  GarageArea     1457 non-null   float64\n",
            " 35  PavedDrive     1340 non-null   float64\n",
            " 36  OpenPorchSF    1442 non-null   float64\n",
            " 37  EnclosedPorch  1252 non-null   float64\n",
            " 38  PoolArea       1453 non-null   float64\n",
            " 39  MoSold         1460 non-null   int64  \n",
            " 40  YrSold         1460 non-null   int64  \n",
            " 41  SaleCondition  1198 non-null   float64\n",
            " 42  SalePrice      1448 non-null   float64\n",
            "dtypes: float64(28), int64(14), object(1)\n",
            "memory usage: 490.6+ KB\n"
          ]
        }
      ],
      "source": [
        "train.fillna(method='ffill').values\n",
        "train.info()"
      ]
    },
    {
      "cell_type": "code",
      "execution_count": 162,
      "id": "c3ee81ba-6a76-4162-8c95-8e9bcc072c9c",
      "metadata": {
        "colab": {
          "base_uri": "https://localhost:8080/",
          "height": 166
        },
        "id": "c3ee81ba-6a76-4162-8c95-8e9bcc072c9c",
        "outputId": "f3ff8bac-f41d-4ee7-de53-133fe2937893"
      },
      "outputs": [
        {
          "output_type": "error",
          "ename": "NameError",
          "evalue": "ignored",
          "traceback": [
            "\u001b[0;31m---------------------------------------------------------------------------\u001b[0m",
            "\u001b[0;31mNameError\u001b[0m                                 Traceback (most recent call last)",
            "\u001b[0;32m<ipython-input-162-d7b19e6bc3ee>\u001b[0m in \u001b[0;36m<module>\u001b[0;34m\u001b[0m\n\u001b[0;32m----> 1\u001b[0;31m \u001b[0mtrain\u001b[0m\u001b[0;34m[\u001b[0m\u001b[0;34m[\u001b[0m\u001b[0;34m'col1'\u001b[0m\u001b[0;34m,\u001b[0m \u001b[0;34m'col2'\u001b[0m\u001b[0;34m]\u001b[0m\u001b[0;34m]\u001b[0m \u001b[0;34m=\u001b[0m \u001b[0mdf\u001b[0m\u001b[0;34m[\u001b[0m\u001b[0;34m[\u001b[0m\u001b[0;34m'col1'\u001b[0m\u001b[0;34m,\u001b[0m \u001b[0;34m'col2'\u001b[0m\u001b[0;34m]\u001b[0m\u001b[0;34m]\u001b[0m\u001b[0;34m.\u001b[0m\u001b[0mfillna\u001b[0m\u001b[0;34m(\u001b[0m\u001b[0mdf\u001b[0m\u001b[0;34m[\u001b[0m\u001b[0;34m[\u001b[0m\u001b[0;34m'col1'\u001b[0m\u001b[0;34m,\u001b[0m \u001b[0;34m'col2'\u001b[0m\u001b[0;34m]\u001b[0m\u001b[0;34m]\u001b[0m\u001b[0;34m.\u001b[0m\u001b[0mmedian\u001b[0m\u001b[0;34m(\u001b[0m\u001b[0;34m)\u001b[0m\u001b[0;34m)\u001b[0m\u001b[0;34m\u001b[0m\u001b[0;34m\u001b[0m\u001b[0m\n\u001b[0m",
            "\u001b[0;31mNameError\u001b[0m: name 'df' is not defined"
          ]
        }
      ],
      "source": [
        "train[['col1', 'col2']] = df[['col1', 'col2']].fillna(df[['col1', 'col2']].median())"
      ]
    },
    {
      "cell_type": "code",
      "execution_count": 163,
      "id": "3e077ead-9f53-4d7a-9db5-bb591202bd13",
      "metadata": {
        "colab": {
          "base_uri": "https://localhost:8080/"
        },
        "id": "3e077ead-9f53-4d7a-9db5-bb591202bd13",
        "outputId": "ff6f96a3-96b1-4a9e-8af7-083fdcf1b526"
      },
      "outputs": [
        {
          "output_type": "stream",
          "name": "stdout",
          "text": [
            "['Id', 'MSZoning', 'LotFrontage', 'LotArea', 'Street', 'LotShape', 'Neighborhood', 'Condition1', 'BldgType', 'OverallQual', 'OverallCond', 'YearBuilt', 'YearRemodAdd', 'RoofStyle', 'RoofMatl', 'Exterior1st', 'ExterQual', 'ExterCond', 'Foundation', 'Heating', 'HeatingQC', 'CentralAir', 'Electrical', 'GrLivArea', 'FullBath', 'HalfBath', 'BedroomAbvGr', 'KitchenAbvGr', 'KitchenQual', 'TotRmsAbvGrd', 'Functional', 'Fireplaces', 'GarageType', 'GarageCars', 'GarageArea', 'PavedDrive', 'OpenPorchSF', 'EnclosedPorch', 'PoolArea', 'MoSold', 'YrSold', 'SaleCondition', 'SalePrice']\n"
          ]
        }
      ],
      "source": [
        "column_names = train.columns.values.tolist()\n",
        "print(column_names)"
      ]
    },
    {
      "cell_type": "code",
      "execution_count": 164,
      "id": "3ebac0b9-141d-48e0-bc4a-eebc22e96cd4",
      "metadata": {
        "id": "3ebac0b9-141d-48e0-bc4a-eebc22e96cd4"
      },
      "outputs": [],
      "source": [
        "#refill NANs"
      ]
    },
    {
      "cell_type": "code",
      "execution_count": 165,
      "id": "6bda20ad-c069-4380-a86e-9a7fb7cec9a3",
      "metadata": {
        "id": "6bda20ad-c069-4380-a86e-9a7fb7cec9a3"
      },
      "outputs": [],
      "source": [
        "train[['MSZoning', 'LotFrontage', 'LotArea', 'Street', 'Neighborhood', 'Condition1', 'BldgType', 'OverallQual', 'OverallCond', 'YearBuilt', 'YearRemodAdd', 'RoofStyle', 'RoofMatl', 'Exterior1st', 'ExterQual', 'ExterCond', 'Foundation', 'Heating', 'HeatingQC', 'CentralAir', 'Electrical', 'GrLivArea', 'FullBath', 'HalfBath', 'BedroomAbvGr', 'KitchenAbvGr', 'KitchenQual', 'TotRmsAbvGrd', 'Functional', 'Fireplaces', 'GarageType', 'GarageCars', 'GarageArea', 'PavedDrive', 'OpenPorchSF', 'EnclosedPorch', 'PoolArea', 'MoSold', 'YrSold', 'SaleCondition', 'SalePrice']]=train[[ 'MSZoning', 'LotFrontage', 'LotArea', 'Street', 'Neighborhood', 'Condition1', 'BldgType', 'OverallQual', 'OverallCond', 'YearBuilt', 'YearRemodAdd', 'RoofStyle', 'RoofMatl', 'Exterior1st', 'ExterQual', 'ExterCond', 'Foundation', 'Heating', 'HeatingQC', 'CentralAir', 'Electrical', 'GrLivArea', 'FullBath', 'HalfBath', 'BedroomAbvGr', 'KitchenAbvGr', 'KitchenQual', 'TotRmsAbvGrd', 'Functional', 'Fireplaces', 'GarageType', 'GarageCars', 'GarageArea', 'PavedDrive', 'OpenPorchSF', 'EnclosedPorch', 'PoolArea', 'MoSold', 'YrSold', 'SaleCondition', 'SalePrice']].fillna(train[['Id', 'MSZoning', 'LotFrontage', 'LotArea', 'Street', 'Neighborhood', 'Condition1', 'BldgType', 'OverallQual', 'OverallCond', 'YearBuilt', 'YearRemodAdd', 'RoofStyle', 'RoofMatl', 'Exterior1st', 'ExterQual', 'ExterCond', 'Foundation', 'Heating', 'HeatingQC', 'CentralAir', 'Electrical', 'GrLivArea', 'FullBath', 'HalfBath', 'BedroomAbvGr', 'KitchenAbvGr', 'KitchenQual', 'TotRmsAbvGrd', 'Functional', 'Fireplaces', 'GarageType', 'GarageCars', 'GarageArea', 'PavedDrive', 'OpenPorchSF', 'EnclosedPorch', 'PoolArea', 'MoSold', 'YrSold', 'SaleCondition', 'SalePrice']].median())"
      ]
    },
    {
      "cell_type": "code",
      "execution_count": 166,
      "id": "d11ba4f7-ddae-43a2-8137-fb04d446b0cd",
      "metadata": {
        "colab": {
          "base_uri": "https://localhost:8080/"
        },
        "id": "d11ba4f7-ddae-43a2-8137-fb04d446b0cd",
        "outputId": "34984c01-8cda-4ac1-9eaa-46ee60c30218"
      },
      "outputs": [
        {
          "output_type": "stream",
          "name": "stdout",
          "text": [
            "<class 'pandas.core.frame.DataFrame'>\n",
            "RangeIndex: 1460 entries, 0 to 1459\n",
            "Data columns (total 43 columns):\n",
            " #   Column         Non-Null Count  Dtype  \n",
            "---  ------         --------------  -----  \n",
            " 0   Id             1460 non-null   int64  \n",
            " 1   MSZoning       1460 non-null   float64\n",
            " 2   LotFrontage    1460 non-null   float64\n",
            " 3   LotArea        1460 non-null   float64\n",
            " 4   Street         1460 non-null   float64\n",
            " 5   LotShape       1460 non-null   object \n",
            " 6   Neighborhood   1460 non-null   int64  \n",
            " 7   Condition1     1460 non-null   float64\n",
            " 8   BldgType       1460 non-null   float64\n",
            " 9   OverallQual    1460 non-null   int64  \n",
            " 10  OverallCond    1460 non-null   float64\n",
            " 11  YearBuilt      1460 non-null   int64  \n",
            " 12  YearRemodAdd   1460 non-null   int64  \n",
            " 13  RoofStyle      1460 non-null   float64\n",
            " 14  RoofMatl       1460 non-null   float64\n",
            " 15  Exterior1st    1460 non-null   float64\n",
            " 16  ExterQual      1460 non-null   int64  \n",
            " 17  ExterCond      1460 non-null   float64\n",
            " 18  Foundation     1460 non-null   float64\n",
            " 19  Heating        1460 non-null   float64\n",
            " 20  HeatingQC      1460 non-null   int64  \n",
            " 21  CentralAir     1460 non-null   float64\n",
            " 22  Electrical     1460 non-null   float64\n",
            " 23  GrLivArea      1460 non-null   float64\n",
            " 24  FullBath       1460 non-null   int64  \n",
            " 25  HalfBath       1460 non-null   int64  \n",
            " 26  BedroomAbvGr   1460 non-null   float64\n",
            " 27  KitchenAbvGr   1460 non-null   float64\n",
            " 28  KitchenQual    1460 non-null   int64  \n",
            " 29  TotRmsAbvGrd   1460 non-null   float64\n",
            " 30  Functional     1460 non-null   float64\n",
            " 31  Fireplaces     1460 non-null   int64  \n",
            " 32  GarageType     1460 non-null   float64\n",
            " 33  GarageCars     1460 non-null   int64  \n",
            " 34  GarageArea     1460 non-null   float64\n",
            " 35  PavedDrive     1460 non-null   float64\n",
            " 36  OpenPorchSF    1460 non-null   float64\n",
            " 37  EnclosedPorch  1460 non-null   float64\n",
            " 38  PoolArea       1460 non-null   float64\n",
            " 39  MoSold         1460 non-null   int64  \n",
            " 40  YrSold         1460 non-null   int64  \n",
            " 41  SaleCondition  1460 non-null   float64\n",
            " 42  SalePrice      1460 non-null   float64\n",
            "dtypes: float64(28), int64(14), object(1)\n",
            "memory usage: 490.6+ KB\n"
          ]
        }
      ],
      "source": [
        "train.info()"
      ]
    },
    {
      "cell_type": "code",
      "execution_count": 167,
      "id": "3ce9818b-98cc-452f-bc31-186863ffa611",
      "metadata": {
        "colab": {
          "base_uri": "https://localhost:8080/",
          "height": 1000
        },
        "id": "3ce9818b-98cc-452f-bc31-186863ffa611",
        "outputId": "7804196f-ed1d-4dd0-f0fa-35287c2ebc67"
      },
      "outputs": [
        {
          "output_type": "display_data",
          "data": {
            "text/plain": [
              "<Figure size 864x144 with 2 Axes>"
            ],
            "image/png": "[encoded data removed]"
          },
          "metadata": {
            "needs_background": "light"
          }
        },
        {
          "output_type": "display_data",
          "data": {
            "text/plain": [
              "<Figure size 864x144 with 2 Axes>"
            ],
            "image/png": "[encoded data removed]"
          },
          "metadata": {
            "needs_background": "light"
          }
        },
        {
          "output_type": "display_data",
          "data": {
            "text/plain": [
              "<Figure size 864x144 with 2 Axes>"
            ],
            "image/png": "[encoded data removed]"
          },
          "metadata": {
            "needs_background": "light"
          }
        },
        {
          "output_type": "display_data",
          "data": {
            "text/plain": [
              "<Figure size 864x144 with 2 Axes>"
            ],
            "image/png": "[encoded data removed]"
          },
          "metadata": {
            "needs_background": "light"
          }
        },
        {
          "output_type": "display_data",
          "data": {
            "text/plain": [
              "<Figure size 864x144 with 2 Axes>"
            ],
            "image/png": "[encoded data removed]"
          },
          "metadata": {
            "needs_background": "light"
          }
        },
        {
          "output_type": "display_data",
          "data": {
            "text/plain": [
              "<Figure size 864x144 with 2 Axes>"
            ],
            "image/png": "[encoded data removed]"
          },
          "metadata": {
            "needs_background": "light"
          }
        },
        {
          "output_type": "display_data",
          "data": {
            "text/plain": [
              "<Figure size 864x144 with 2 Axes>"
            ],
            "image/png": "[encoded data removed]"
          },
          "metadata": {
            "needs_background": "light"
          }
        }
      ],
      "source": [
        "#SCALING\n",
        "import  pandas  as  pd \n",
        "#settings : \n",
        "pd.set_option ( 'display.max_rows' ,  1000 ) \n",
        "pd.set_option ( 'display.max_columns' ,  500 ) \n",
        "pd.set_option ( 'display.width' ,  1000 ) \n",
        "pd.set_option ( 'display.max_colwidth' ,  1000 )\n",
        "import  numpy  as  np \n",
        "import  matplotlib.pyplot  as  plt \n",
        "import  seaborn  as  sns\n",
        "import missingno as msno \n",
        "import datatable as dt # pip install datatable    \n",
        "\n",
        "from scipy import stats\n",
        "from sklearn.preprocessing import minmax_scale\n",
        "def plot_scale_and_original(original_data, column_to_plot)->None:\n",
        "    \"\"\"Plot the column of dataframe scaling and original\n",
        "    \"\"\"\n",
        "    # mix-max scale the data between 0 and 1\n",
        "    scaled_data = minmax_scale(original_data[column_to_plot])\n",
        "    #____________plot started here_________________\n",
        "    fig, ax = plt.subplots(1, 2, figsize=(12, 2))\n",
        "    sns.histplot(original_data[column_to_plot], ax=ax[0], kde=True, legend=False)\n",
        "    ax[0].set_title(f\"Original Data column {column_to_plot}\")\n",
        "    sns.histplot(scaled_data, ax=ax[1], kde=True, legend=False)\n",
        "    ax[1].set_title(\"Scaled data\")\n",
        "    plt.show()\n",
        "\n",
        "data = pd.read_csv(\"/content/drive/MyDrive/database_house/train.csv\")\n",
        "plot_scale_and_original(data, 'LotFrontage')\n",
        "plot_scale_and_original(data, 'LotArea')\n",
        "plot_scale_and_original(data, 'PoolArea')\n",
        "plot_scale_and_original(data, 'MiscVal')\n",
        "plot_scale_and_original(data, 'MoSold')\n",
        "plot_scale_and_original(data, 'YrSold')\n",
        "plot_scale_and_original(data, 'SalePrice')"
      ]
    },
    {
      "cell_type": "markdown",
      "source": [
        "# TEST DATA\n"
      ],
      "metadata": {
        "id": "ri_9AhDyK8e8"
      },
      "id": "ri_9AhDyK8e8"
    },
    {
      "cell_type": "code",
      "execution_count": 172,
      "metadata": {
        "colab": {
          "base_uri": "https://localhost:8080/",
          "height": 270
        },
        "outputId": "4770099e-21ba-452e-e202-92a4d2c22c11",
        "id": "5126Z3bXGtHh"
      },
      "outputs": [
        {
          "output_type": "execute_result",
          "data": {
            "text/plain": [
              "     Id  MSSubClass MSZoning  LotFrontage  LotArea Street Alley LotShape LandContour Utilities LotConfig LandSlope Neighborhood Condition1 Condition2 BldgType HouseStyle  OverallQual  OverallCond  YearBuilt  YearRemodAdd RoofStyle RoofMatl Exterior1st Exterior2nd MasVnrType  MasVnrArea ExterQual ExterCond Foundation BsmtQual BsmtCond BsmtExposure BsmtFinType1  BsmtFinSF1 BsmtFinType2  BsmtFinSF2  BsmtUnfSF  TotalBsmtSF Heating HeatingQC CentralAir Electrical  1stFlrSF  2ndFlrSF  LowQualFinSF  GrLivArea  BsmtFullBath  BsmtHalfBath  FullBath  HalfBath  BedroomAbvGr  KitchenAbvGr KitchenQual  TotRmsAbvGrd Functional  Fireplaces FireplaceQu GarageType  GarageYrBlt GarageFinish  GarageCars  GarageArea GarageQual GarageCond PavedDrive  WoodDeckSF  OpenPorchSF  EnclosedPorch  3SsnPorch  ScreenPorch  PoolArea PoolQC  Fence MiscFeature  MiscVal  MoSold  YrSold SaleType SaleCondition\n",
              "0  1461          20       RH         80.0    11622   Pave   NaN      Reg         Lvl    AllPub    Inside       Gtl        NAmes      Feedr       Norm     1Fam     1Story            5            6       1961          1961     Gable  CompShg     VinylSd     VinylSd       None         0.0        TA        TA     CBlock       TA       TA           No          Rec       468.0          LwQ       144.0      270.0        882.0    GasA        TA          Y      SBrkr       896         0             0        896           0.0           0.0         1         0             2             1          TA             5        Typ           0         NaN     Attchd       1961.0          Unf         1.0       730.0         TA         TA          Y         140            0              0          0          120         0    NaN  MnPrv         NaN        0       6    2010       WD        Normal\n",
              "1  1462          20       RL         81.0    14267   Pave   NaN      IR1         Lvl    AllPub    Corner       Gtl        NAmes       Norm       Norm     1Fam     1Story            6            6       1958          1958       Hip  CompShg     Wd Sdng     Wd Sdng    BrkFace       108.0        TA        TA     CBlock       TA       TA           No          ALQ       923.0          Unf         0.0      406.0       1329.0    GasA        TA          Y      SBrkr      1329         0             0       1329           0.0           0.0         1         1             3             1          Gd             6        Typ           0         NaN     Attchd       1958.0          Unf         1.0       312.0         TA         TA          Y         393           36              0          0            0         0    NaN    NaN        Gar2    12500       6    2010       WD        Normal\n",
              "2  1463          60       RL         74.0    13830   Pave   NaN      IR1         Lvl    AllPub    Inside       Gtl      Gilbert       Norm       Norm     1Fam     2Story            5            5       1997          1998     Gable  CompShg     VinylSd     VinylSd       None         0.0        TA        TA      PConc       Gd       TA           No          GLQ       791.0          Unf         0.0      137.0        928.0    GasA        Gd          Y      SBrkr       928       701             0       1629           0.0           0.0         2         1             3             1          TA             6        Typ           1          TA     Attchd       1997.0          Fin         2.0       482.0         TA         TA          Y         212           34              0          0            0         0    NaN  MnPrv         NaN        0       3    2010       WD        Normal\n",
              "3  1464          60       RL         78.0     9978   Pave   NaN      IR1         Lvl    AllPub    Inside       Gtl      Gilbert       Norm       Norm     1Fam     2Story            6            6       1998          1998     Gable  CompShg     VinylSd     VinylSd    BrkFace        20.0        TA        TA      PConc       TA       TA           No          GLQ       602.0          Unf         0.0      324.0        926.0    GasA        Ex          Y      SBrkr       926       678             0       1604           0.0           0.0         2         1             3             1          Gd             7        Typ           1          Gd     Attchd       1998.0          Fin         2.0       470.0         TA         TA          Y         360           36              0          0            0         0    NaN    NaN         NaN        0       6    2010       WD        Normal\n",
              "4  1465         120       RL         43.0     5005   Pave   NaN      IR1         HLS    AllPub    Inside       Gtl      StoneBr       Norm       Norm   TwnhsE     1Story            8            5       1992          1992     Gable  CompShg     HdBoard     HdBoard       None         0.0        Gd        TA      PConc       Gd       TA           No          ALQ       263.0          Unf         0.0     1017.0       1280.0    GasA        Ex          Y      SBrkr      1280         0             0       1280           0.0           0.0         2         0             2             1          Gd             5        Typ           0         NaN     Attchd       1992.0          RFn         2.0       506.0         TA         TA          Y           0           82              0          0          144         0    NaN    NaN         NaN        0       1    2010       WD        Normal"
            ],
            "text/html": [
              "\n",
              "  <div id=\"df-9d0fd5a8-71f9-4147-9e07-beb18791cea1\">\n",
              "    <div class=\"colab-df-container\">\n",
              "      <div>\n",
              "<style scoped>\n",
              "    .dataframe tbody tr th:only-of-type {\n",
              "        vertical-align: middle;\n",
              "    }\n",
              "\n",
              "    .dataframe tbody tr th {\n",
              "        vertical-align: top;\n",
              "    }\n",
              "\n",
              "    .dataframe thead th {\n",
              "        text-align: right;\n",
              "    }\n",
              "</style>\n",
              "<table border=\"1\" class=\"dataframe\">\n",
              "  <thead>\n",
              "    <tr style=\"text-align: right;\">\n",
              "      <th></th>\n",
              "      <th>Id</th>\n",
              "      <th>MSSubClass</th>\n",
              "      <th>MSZoning</th>\n",
              "      <th>LotFrontage</th>\n",
              "      <th>LotArea</th>\n",
              "      <th>Street</th>\n",
              "      <th>Alley</th>\n",
              "      <th>LotShape</th>\n",
              "      <th>LandContour</th>\n",
              "      <th>Utilities</th>\n",
              "      <th>LotConfig</th>\n",
              "      <th>LandSlope</th>\n",
              "      <th>Neighborhood</th>\n",
              "      <th>Condition1</th>\n",
              "      <th>Condition2</th>\n",
              "      <th>BldgType</th>\n",
              "      <th>HouseStyle</th>\n",
              "      <th>OverallQual</th>\n",
              "      <th>OverallCond</th>\n",
              "      <th>YearBuilt</th>\n",
              "      <th>YearRemodAdd</th>\n",
              "      <th>RoofStyle</th>\n",
              "      <th>RoofMatl</th>\n",
              "      <th>Exterior1st</th>\n",
              "      <th>Exterior2nd</th>\n",
              "      <th>MasVnrType</th>\n",
              "      <th>MasVnrArea</th>\n",
              "      <th>ExterQual</th>\n",
              "      <th>ExterCond</th>\n",
              "      <th>Foundation</th>\n",
              "      <th>BsmtQual</th>\n",
              "      <th>BsmtCond</th>\n",
              "      <th>BsmtExposure</th>\n",
              "      <th>BsmtFinType1</th>\n",
              "      <th>BsmtFinSF1</th>\n",
              "      <th>BsmtFinType2</th>\n",
              "      <th>BsmtFinSF2</th>\n",
              "      <th>BsmtUnfSF</th>\n",
              "      <th>TotalBsmtSF</th>\n",
              "      <th>Heating</th>\n",
              "      <th>HeatingQC</th>\n",
              "      <th>CentralAir</th>\n",
              "      <th>Electrical</th>\n",
              "      <th>1stFlrSF</th>\n",
              "      <th>2ndFlrSF</th>\n",
              "      <th>LowQualFinSF</th>\n",
              "      <th>GrLivArea</th>\n",
              "      <th>BsmtFullBath</th>\n",
              "      <th>BsmtHalfBath</th>\n",
              "      <th>FullBath</th>\n",
              "      <th>HalfBath</th>\n",
              "      <th>BedroomAbvGr</th>\n",
              "      <th>KitchenAbvGr</th>\n",
              "      <th>KitchenQual</th>\n",
              "      <th>TotRmsAbvGrd</th>\n",
              "      <th>Functional</th>\n",
              "      <th>Fireplaces</th>\n",
              "      <th>FireplaceQu</th>\n",
              "      <th>GarageType</th>\n",
              "      <th>GarageYrBlt</th>\n",
              "      <th>GarageFinish</th>\n",
              "      <th>GarageCars</th>\n",
              "      <th>GarageArea</th>\n",
              "      <th>GarageQual</th>\n",
              "      <th>GarageCond</th>\n",
              "      <th>PavedDrive</th>\n",
              "      <th>WoodDeckSF</th>\n",
              "      <th>OpenPorchSF</th>\n",
              "      <th>EnclosedPorch</th>\n",
              "      <th>3SsnPorch</th>\n",
              "      <th>ScreenPorch</th>\n",
              "      <th>PoolArea</th>\n",
              "      <th>PoolQC</th>\n",
              "      <th>Fence</th>\n",
              "      <th>MiscFeature</th>\n",
              "      <th>MiscVal</th>\n",
              "      <th>MoSold</th>\n",
              "      <th>YrSold</th>\n",
              "      <th>SaleType</th>\n",
              "      <th>SaleCondition</th>\n",
              "    </tr>\n",
              "  </thead>\n",
              "  <tbody>\n",
              "    <tr>\n",
              "      <th>0</th>\n",
              "      <td>1461</td>\n",
              "      <td>20</td>\n",
              "      <td>RH</td>\n",
              "      <td>80.0</td>\n",
              "      <td>11622</td>\n",
              "      <td>Pave</td>\n",
              "      <td>NaN</td>\n",
              "      <td>Reg</td>\n",
              "      <td>Lvl</td>\n",
              "      <td>AllPub</td>\n",
              "      <td>Inside</td>\n",
              "      <td>Gtl</td>\n",
              "      <td>NAmes</td>\n",
              "      <td>Feedr</td>\n",
              "      <td>Norm</td>\n",
              "      <td>1Fam</td>\n",
              "      <td>1Story</td>\n",
              "      <td>5</td>\n",
              "      <td>6</td>\n",
              "      <td>1961</td>\n",
              "      <td>1961</td>\n",
              "      <td>Gable</td>\n",
              "      <td>CompShg</td>\n",
              "      <td>VinylSd</td>\n",
              "      <td>VinylSd</td>\n",
              "      <td>None</td>\n",
              "      <td>0.0</td>\n",
              "      <td>TA</td>\n",
              "      <td>TA</td>\n",
              "      <td>CBlock</td>\n",
              "      <td>TA</td>\n",
              "      <td>TA</td>\n",
              "      <td>No</td>\n",
              "      <td>Rec</td>\n",
              "      <td>468.0</td>\n",
              "      <td>LwQ</td>\n",
              "      <td>144.0</td>\n",
              "      <td>270.0</td>\n",
              "      <td>882.0</td>\n",
              "      <td>GasA</td>\n",
              "      <td>TA</td>\n",
              "      <td>Y</td>\n",
              "      <td>SBrkr</td>\n",
              "      <td>896</td>\n",
              "      <td>0</td>\n",
              "      <td>0</td>\n",
              "      <td>896</td>\n",
              "      <td>0.0</td>\n",
              "      <td>0.0</td>\n",
              "      <td>1</td>\n",
              "      <td>0</td>\n",
              "      <td>2</td>\n",
              "      <td>1</td>\n",
              "      <td>TA</td>\n",
              "      <td>5</td>\n",
              "      <td>Typ</td>\n",
              "      <td>0</td>\n",
              "      <td>NaN</td>\n",
              "      <td>Attchd</td>\n",
              "      <td>1961.0</td>\n",
              "      <td>Unf</td>\n",
              "      <td>1.0</td>\n",
              "      <td>730.0</td>\n",
              "      <td>TA</td>\n",
              "      <td>TA</td>\n",
              "      <td>Y</td>\n",
              "      <td>140</td>\n",
              "      <td>0</td>\n",
              "      <td>0</td>\n",
              "      <td>0</td>\n",
              "      <td>120</td>\n",
              "      <td>0</td>\n",
              "      <td>NaN</td>\n",
              "      <td>MnPrv</td>\n",
              "      <td>NaN</td>\n",
              "      <td>0</td>\n",
              "      <td>6</td>\n",
              "      <td>2010</td>\n",
              "      <td>WD</td>\n",
              "      <td>Normal</td>\n",
              "    </tr>\n",
              "    <tr>\n",
              "      <th>1</th>\n",
              "      <td>1462</td>\n",
              "      <td>20</td>\n",
              "      <td>RL</td>\n",
              "      <td>81.0</td>\n",
              "      <td>14267</td>\n",
              "      <td>Pave</td>\n",
              "      <td>NaN</td>\n",
              "      <td>IR1</td>\n",
              "      <td>Lvl</td>\n",
              "      <td>AllPub</td>\n",
              "      <td>Corner</td>\n",
              "      <td>Gtl</td>\n",
              "      <td>NAmes</td>\n",
              "      <td>Norm</td>\n",
              "      <td>Norm</td>\n",
              "      <td>1Fam</td>\n",
              "      <td>1Story</td>\n",
              "      <td>6</td>\n",
              "      <td>6</td>\n",
              "      <td>1958</td>\n",
              "      <td>1958</td>\n",
              "      <td>Hip</td>\n",
              "      <td>CompShg</td>\n",
              "      <td>Wd Sdng</td>\n",
              "      <td>Wd Sdng</td>\n",
              "      <td>BrkFace</td>\n",
              "      <td>108.0</td>\n",
              "      <td>TA</td>\n",
              "      <td>TA</td>\n",
              "      <td>CBlock</td>\n",
              "      <td>TA</td>\n",
              "      <td>TA</td>\n",
              "      <td>No</td>\n",
              "      <td>ALQ</td>\n",
              "      <td>923.0</td>\n",
              "      <td>Unf</td>\n",
              "      <td>0.0</td>\n",
              "      <td>406.0</td>\n",
              "      <td>1329.0</td>\n",
              "      <td>GasA</td>\n",
              "      <td>TA</td>\n",
              "      <td>Y</td>\n",
              "      <td>SBrkr</td>\n",
              "      <td>1329</td>\n",
              "      <td>0</td>\n",
              "      <td>0</td>\n",
              "      <td>1329</td>\n",
              "      <td>0.0</td>\n",
              "      <td>0.0</td>\n",
              "      <td>1</td>\n",
              "      <td>1</td>\n",
              "      <td>3</td>\n",
              "      <td>1</td>\n",
              "      <td>Gd</td>\n",
              "      <td>6</td>\n",
              "      <td>Typ</td>\n",
              "      <td>0</td>\n",
              "      <td>NaN</td>\n",
              "      <td>Attchd</td>\n",
              "      <td>1958.0</td>\n",
              "      <td>Unf</td>\n",
              "      <td>1.0</td>\n",
              "      <td>312.0</td>\n",
              "      <td>TA</td>\n",
              "      <td>TA</td>\n",
              "      <td>Y</td>\n",
              "      <td>393</td>\n",
              "      <td>36</td>\n",
              "      <td>0</td>\n",
              "      <td>0</td>\n",
              "      <td>0</td>\n",
              "      <td>0</td>\n",
              "      <td>NaN</td>\n",
              "      <td>NaN</td>\n",
              "      <td>Gar2</td>\n",
              "      <td>12500</td>\n",
              "      <td>6</td>\n",
              "      <td>2010</td>\n",
              "      <td>WD</td>\n",
              "      <td>Normal</td>\n",
              "    </tr>\n",
              "    <tr>\n",
              "      <th>2</th>\n",
              "      <td>1463</td>\n",
              "      <td>60</td>\n",
              "      <td>RL</td>\n",
              "      <td>74.0</td>\n",
              "      <td>13830</td>\n",
              "      <td>Pave</td>\n",
              "      <td>NaN</td>\n",
              "      <td>IR1</td>\n",
              "      <td>Lvl</td>\n",
              "      <td>AllPub</td>\n",
              "      <td>Inside</td>\n",
              "      <td>Gtl</td>\n",
              "      <td>Gilbert</td>\n",
              "      <td>Norm</td>\n",
              "      <td>Norm</td>\n",
              "      <td>1Fam</td>\n",
              "      <td>2Story</td>\n",
              "      <td>5</td>\n",
              "      <td>5</td>\n",
              "      <td>1997</td>\n",
              "      <td>1998</td>\n",
              "      <td>Gable</td>\n",
              "      <td>CompShg</td>\n",
              "      <td>VinylSd</td>\n",
              "      <td>VinylSd</td>\n",
              "      <td>None</td>\n",
              "      <td>0.0</td>\n",
              "      <td>TA</td>\n",
              "      <td>TA</td>\n",
              "      <td>PConc</td>\n",
              "      <td>Gd</td>\n",
              "      <td>TA</td>\n",
              "      <td>No</td>\n",
              "      <td>GLQ</td>\n",
              "      <td>791.0</td>\n",
              "      <td>Unf</td>\n",
              "      <td>0.0</td>\n",
              "      <td>137.0</td>\n",
              "      <td>928.0</td>\n",
              "      <td>GasA</td>\n",
              "      <td>Gd</td>\n",
              "      <td>Y</td>\n",
              "      <td>SBrkr</td>\n",
              "      <td>928</td>\n",
              "      <td>701</td>\n",
              "      <td>0</td>\n",
              "      <td>1629</td>\n",
              "      <td>0.0</td>\n",
              "      <td>0.0</td>\n",
              "      <td>2</td>\n",
              "      <td>1</td>\n",
              "      <td>3</td>\n",
              "      <td>1</td>\n",
              "      <td>TA</td>\n",
              "      <td>6</td>\n",
              "      <td>Typ</td>\n",
              "      <td>1</td>\n",
              "      <td>TA</td>\n",
              "      <td>Attchd</td>\n",
              "      <td>1997.0</td>\n",
              "      <td>Fin</td>\n",
              "      <td>2.0</td>\n",
              "      <td>482.0</td>\n",
              "      <td>TA</td>\n",
              "      <td>TA</td>\n",
              "      <td>Y</td>\n",
              "      <td>212</td>\n",
              "      <td>34</td>\n",
              "      <td>0</td>\n",
              "      <td>0</td>\n",
              "      <td>0</td>\n",
              "      <td>0</td>\n",
              "      <td>NaN</td>\n",
              "      <td>MnPrv</td>\n",
              "      <td>NaN</td>\n",
              "      <td>0</td>\n",
              "      <td>3</td>\n",
              "      <td>2010</td>\n",
              "      <td>WD</td>\n",
              "      <td>Normal</td>\n",
              "    </tr>\n",
              "    <tr>\n",
              "      <th>3</th>\n",
              "      <td>1464</td>\n",
              "      <td>60</td>\n",
              "      <td>RL</td>\n",
              "      <td>78.0</td>\n",
              "      <td>9978</td>\n",
              "      <td>Pave</td>\n",
              "      <td>NaN</td>\n",
              "      <td>IR1</td>\n",
              "      <td>Lvl</td>\n",
              "      <td>AllPub</td>\n",
              "      <td>Inside</td>\n",
              "      <td>Gtl</td>\n",
              "      <td>Gilbert</td>\n",
              "      <td>Norm</td>\n",
              "      <td>Norm</td>\n",
              "      <td>1Fam</td>\n",
              "      <td>2Story</td>\n",
              "      <td>6</td>\n",
              "      <td>6</td>\n",
              "      <td>1998</td>\n",
              "      <td>1998</td>\n",
              "      <td>Gable</td>\n",
              "      <td>CompShg</td>\n",
              "      <td>VinylSd</td>\n",
              "      <td>VinylSd</td>\n",
              "      <td>BrkFace</td>\n",
              "      <td>20.0</td>\n",
              "      <td>TA</td>\n",
              "      <td>TA</td>\n",
              "      <td>PConc</td>\n",
              "      <td>TA</td>\n",
              "      <td>TA</td>\n",
              "      <td>No</td>\n",
              "      <td>GLQ</td>\n",
              "      <td>602.0</td>\n",
              "      <td>Unf</td>\n",
              "      <td>0.0</td>\n",
              "      <td>324.0</td>\n",
              "      <td>926.0</td>\n",
              "      <td>GasA</td>\n",
              "      <td>Ex</td>\n",
              "      <td>Y</td>\n",
              "      <td>SBrkr</td>\n",
              "      <td>926</td>\n",
              "      <td>678</td>\n",
              "      <td>0</td>\n",
              "      <td>1604</td>\n",
              "      <td>0.0</td>\n",
              "      <td>0.0</td>\n",
              "      <td>2</td>\n",
              "      <td>1</td>\n",
              "      <td>3</td>\n",
              "      <td>1</td>\n",
              "      <td>Gd</td>\n",
              "      <td>7</td>\n",
              "      <td>Typ</td>\n",
              "      <td>1</td>\n",
              "      <td>Gd</td>\n",
              "      <td>Attchd</td>\n",
              "      <td>1998.0</td>\n",
              "      <td>Fin</td>\n",
              "      <td>2.0</td>\n",
              "      <td>470.0</td>\n",
              "      <td>TA</td>\n",
              "      <td>TA</td>\n",
              "      <td>Y</td>\n",
              "      <td>360</td>\n",
              "      <td>36</td>\n",
              "      <td>0</td>\n",
              "      <td>0</td>\n",
              "      <td>0</td>\n",
              "      <td>0</td>\n",
              "      <td>NaN</td>\n",
              "      <td>NaN</td>\n",
              "      <td>NaN</td>\n",
              "      <td>0</td>\n",
              "      <td>6</td>\n",
              "      <td>2010</td>\n",
              "      <td>WD</td>\n",
              "      <td>Normal</td>\n",
              "    </tr>\n",
              "    <tr>\n",
              "      <th>4</th>\n",
              "      <td>1465</td>\n",
              "      <td>120</td>\n",
              "      <td>RL</td>\n",
              "      <td>43.0</td>\n",
              "      <td>5005</td>\n",
              "      <td>Pave</td>\n",
              "      <td>NaN</td>\n",
              "      <td>IR1</td>\n",
              "      <td>HLS</td>\n",
              "      <td>AllPub</td>\n",
              "      <td>Inside</td>\n",
              "      <td>Gtl</td>\n",
              "      <td>StoneBr</td>\n",
              "      <td>Norm</td>\n",
              "      <td>Norm</td>\n",
              "      <td>TwnhsE</td>\n",
              "      <td>1Story</td>\n",
              "      <td>8</td>\n",
              "      <td>5</td>\n",
              "      <td>1992</td>\n",
              "      <td>1992</td>\n",
              "      <td>Gable</td>\n",
              "      <td>CompShg</td>\n",
              "      <td>HdBoard</td>\n",
              "      <td>HdBoard</td>\n",
              "      <td>None</td>\n",
              "      <td>0.0</td>\n",
              "      <td>Gd</td>\n",
              "      <td>TA</td>\n",
              "      <td>PConc</td>\n",
              "      <td>Gd</td>\n",
              "      <td>TA</td>\n",
              "      <td>No</td>\n",
              "      <td>ALQ</td>\n",
              "      <td>263.0</td>\n",
              "      <td>Unf</td>\n",
              "      <td>0.0</td>\n",
              "      <td>1017.0</td>\n",
              "      <td>1280.0</td>\n",
              "      <td>GasA</td>\n",
              "      <td>Ex</td>\n",
              "      <td>Y</td>\n",
              "      <td>SBrkr</td>\n",
              "      <td>1280</td>\n",
              "      <td>0</td>\n",
              "      <td>0</td>\n",
              "      <td>1280</td>\n",
              "      <td>0.0</td>\n",
              "      <td>0.0</td>\n",
              "      <td>2</td>\n",
              "      <td>0</td>\n",
              "      <td>2</td>\n",
              "      <td>1</td>\n",
              "      <td>Gd</td>\n",
              "      <td>5</td>\n",
              "      <td>Typ</td>\n",
              "      <td>0</td>\n",
              "      <td>NaN</td>\n",
              "      <td>Attchd</td>\n",
              "      <td>1992.0</td>\n",
              "      <td>RFn</td>\n",
              "      <td>2.0</td>\n",
              "      <td>506.0</td>\n",
              "      <td>TA</td>\n",
              "      <td>TA</td>\n",
              "      <td>Y</td>\n",
              "      <td>0</td>\n",
              "      <td>82</td>\n",
              "      <td>0</td>\n",
              "      <td>0</td>\n",
              "      <td>144</td>\n",
              "      <td>0</td>\n",
              "      <td>NaN</td>\n",
              "      <td>NaN</td>\n",
              "      <td>NaN</td>\n",
              "      <td>0</td>\n",
              "      <td>1</td>\n",
              "      <td>2010</td>\n",
              "      <td>WD</td>\n",
              "      <td>Normal</td>\n",
              "    </tr>\n",
              "  </tbody>\n",
              "</table>\n",
              "</div>\n",
              "      <button class=\"colab-df-convert\" onclick=\"convertToInteractive('df-9d0fd5a8-71f9-4147-9e07-beb18791cea1')\"\n",
              "              title=\"Convert this dataframe to an interactive table.\"\n",
              "              style=\"display:none;\">\n",
              "        \n",
              "  <svg xmlns=\"http://www.w3.org/2000/svg\" height=\"24px\"viewBox=\"0 0 24 24\"\n",
              "       width=\"24px\">\n",
              "    <path d=\"M0 0h24v24H0V0z\" fill=\"none\"/>\n",
              "    <path d=\"M18.56 5.44l.94 2.06.94-2.06 2.06-.94-2.06-.94-.94-2.06-.94 2.06-2.06.94zm-11 1L8.5 8.5l.94-2.06 2.06-.94-2.06-.94L8.5 2.5l-.94 2.06-2.06.94zm10 10l.94 2.06.94-2.06 2.06-.94-2.06-.94-.94-2.06-.94 2.06-2.06.94z\"/><path d=\"M17.41 7.96l-1.37-1.37c-.4-.4-.92-.59-1.43-.59-.52 0-1.04.2-1.43.59L10.3 9.45l-7.72 7.72c-.78.78-.78 2.05 0 2.83L4 21.41c.39.39.9.59 1.41.59.51 0 1.02-.2 1.41-.59l7.78-7.78 2.81-2.81c.8-.78.8-2.07 0-2.86zM5.41 20L4 18.59l7.72-7.72 1.47 1.35L5.41 20z\"/>\n",
              "  </svg>\n",
              "      </button>\n",
              "      \n",
              "  <style>\n",
              "    .colab-df-container {\n",
              "      display:flex;\n",
              "      flex-wrap:wrap;\n",
              "      gap: 12px;\n",
              "    }\n",
              "\n",
              "    .colab-df-convert {\n",
              "      background-color: #E8F0FE;\n",
              "      border: none;\n",
              "      border-radius: 50%;\n",
              "      cursor: pointer;\n",
              "      display: none;\n",
              "      fill: #1967D2;\n",
              "      height: 32px;\n",
              "      padding: 0 0 0 0;\n",
              "      width: 32px;\n",
              "    }\n",
              "\n",
              "    .colab-df-convert:hover {\n",
              "      background-color: #E2EBFA;\n",
              "      box-shadow: 0px 1px 2px rgba(60, 64, 67, 0.3), 0px 1px 3px 1px rgba(60, 64, 67, 0.15);\n",
              "      fill: #174EA6;\n",
              "    }\n",
              "\n",
              "    [theme=dark] .colab-df-convert {\n",
              "      background-color: #3B4455;\n",
              "      fill: #D2E3FC;\n",
              "    }\n",
              "\n",
              "    [theme=dark] .colab-df-convert:hover {\n",
              "      background-color: #434B5C;\n",
              "      box-shadow: 0px 1px 3px 1px rgba(0, 0, 0, 0.15);\n",
              "      filter: drop-shadow(0px 1px 2px rgba(0, 0, 0, 0.3));\n",
              "      fill: #FFFFFF;\n",
              "    }\n",
              "  </style>\n",
              "\n",
              "      <script>\n",
              "        const buttonEl =\n",
              "          document.querySelector('#df-9d0fd5a8-71f9-4147-9e07-beb18791cea1 button.colab-df-convert');\n",
              "        buttonEl.style.display =\n",
              "          google.colab.kernel.accessAllowed ? 'block' : 'none';\n",
              "\n",
              "        async function convertToInteractive(key) {\n",
              "          const element = document.querySelector('#df-9d0fd5a8-71f9-4147-9e07-beb18791cea1');\n",
              "          const dataTable =\n",
              "            await google.colab.kernel.invokeFunction('convertToInteractive',\n",
              "                                                     [key], {});\n",
              "          if (!dataTable) return;\n",
              "\n",
              "          const docLinkHtml = 'Like what you see? Visit the ' +\n",
              "            '<a target=\"_blank\" href=https://colab.research.google.com/notebooks/data_table.ipynb>data table notebook</a>'\n",
              "            + ' to learn more about interactive tables.';\n",
              "          element.innerHTML = '';\n",
              "          dataTable['output_type'] = 'display_data';\n",
              "          await google.colab.output.renderOutput(dataTable, element);\n",
              "          const docLink = document.createElement('div');\n",
              "          docLink.innerHTML = docLinkHtml;\n",
              "          element.appendChild(docLink);\n",
              "        }\n",
              "      </script>\n",
              "    </div>\n",
              "  </div>\n",
              "  "
            ]
          },
          "metadata": {},
          "execution_count": 172
        }
      ],
      "source": [
        "test = pd.read_csv('/content/drive/MyDrive/database_house/test.csv')\n",
        "test.head()"
      ],
      "id": "5126Z3bXGtHh"
    },
    {
      "cell_type": "code",
      "execution_count": 173,
      "metadata": {
        "id": "tdrCXl9JGtHh"
      },
      "outputs": [],
      "source": [
        "# dropping column MSSubClass\n",
        "test.drop('MSSubClass', axis=1, inplace=True)"
      ],
      "id": "tdrCXl9JGtHh"
    },
    {
      "cell_type": "code",
      "execution_count": 174,
      "metadata": {
        "id": "9ZJIcFbVGtHh"
      },
      "outputs": [],
      "source": [
        "#Converting MSZoning to numerical values\n",
        "test['MSZoning'] = test['MSZoning'].map({'RL': 0, 'RM': 1, 'C (all)': 2, 'FV': 3, 'RH': 4})"
      ],
      "id": "9ZJIcFbVGtHh"
    },
    {
      "cell_type": "code",
      "execution_count": 175,
      "metadata": {
        "id": "U77E62wXGtHi"
      },
      "outputs": [],
      "source": [
        "#test['LotFrontage'].fillna(test.groupby(['LotArea'])['LotFrontage'].transform('mean'),inplace=True)\n",
        "test['LotFrontage'] = test['LotFrontage'].fillna(method='ffill')"
      ],
      "id": "U77E62wXGtHi"
    },
    {
      "cell_type": "code",
      "execution_count": 176,
      "metadata": {
        "id": "Pboi85zyGtHi"
      },
      "outputs": [],
      "source": [
        "#Converting Street to numerical values\n",
        "test['Street'] = test['Street'].map({'Pave': 0, 'Grvl': 1})"
      ],
      "id": "Pboi85zyGtHi"
    },
    {
      "cell_type": "code",
      "execution_count": 177,
      "metadata": {
        "id": "SKSlyLcYGtHj"
      },
      "outputs": [],
      "source": [
        "#Alley drop\n",
        "test.drop('Alley', axis=1, inplace=True)"
      ],
      "id": "SKSlyLcYGtHj"
    },
    {
      "cell_type": "code",
      "execution_count": 178,
      "metadata": {
        "id": "TIKBm2ZxGtHj"
      },
      "outputs": [],
      "source": [
        "#LandContour drop\n",
        "test.drop('LandContour', axis=1, inplace=True)"
      ],
      "id": "TIKBm2ZxGtHj"
    },
    {
      "cell_type": "code",
      "execution_count": 179,
      "metadata": {
        "id": "sVI_a4MMGtHj"
      },
      "outputs": [],
      "source": [
        "#Utilities drop\n",
        "test.drop('Utilities', axis=1, inplace=True)"
      ],
      "id": "sVI_a4MMGtHj"
    },
    {
      "cell_type": "code",
      "execution_count": 180,
      "metadata": {
        "id": "XM1R9MYdGtHj"
      },
      "outputs": [],
      "source": [
        "#LotConfig drop\n",
        "test.drop('LotConfig', axis=1, inplace=True)"
      ],
      "id": "XM1R9MYdGtHj"
    },
    {
      "cell_type": "code",
      "execution_count": 181,
      "metadata": {
        "id": "4N1z-5IYGtHj"
      },
      "outputs": [],
      "source": [
        "#LandSlope drop\n",
        "test.drop('LandSlope', axis=1, inplace=True)\n"
      ],
      "id": "4N1z-5IYGtHj"
    },
    {
      "cell_type": "code",
      "execution_count": 182,
      "metadata": {
        "id": "_YE7pJvIGtHj"
      },
      "outputs": [],
      "source": [
        "#Neighborhood convert to numerical values\n",
        "test['Neighborhood'] = test['Neighborhood'].map({'CollgCr': 0, 'Veenker': 1, 'Crawfor': 2, 'NoRidge': 3, 'Mitchel': 4, 'Somerst': 5, 'NWAmes': 6, 'OldTown': 7, 'BrkSide': 8, 'Sawyer': 9, 'NridgHt': 10, 'NAmes': 11, 'SawyerW': 12, 'IDOTRR': 13, 'MeadowV': 14, 'Edwards': 15, 'Timber': 16, 'Gilbert': 17, 'StoneBr': 18, 'ClearCr': 19, 'NPkVill': 20, 'Blmngtn': 21, 'BrDale': 22, 'SWISU': 23, 'Blueste': 24})\n"
      ],
      "id": "_YE7pJvIGtHj"
    },
    {
      "cell_type": "code",
      "execution_count": 183,
      "metadata": {
        "id": "h5rY3X4NGtHj"
      },
      "outputs": [],
      "source": [
        "#Condition1 to numerical values\n",
        "test['Condition1'] = test['Condition1'].map({'Norm': 0, 'Feedr': 1, 'PosN': 2, 'Artery': 3, 'RRAe': 4, 'RRNn': 5, 'RRAn': 6, 'PosA': 7, 'RRNe': 8})\n"
      ],
      "id": "h5rY3X4NGtHj"
    },
    {
      "cell_type": "code",
      "execution_count": 184,
      "metadata": {
        "id": "bSqwUbkUGtHj"
      },
      "outputs": [],
      "source": [
        "#Condition2 to DROP\n",
        "test.drop('Condition2', axis=1, inplace=True)"
      ],
      "id": "bSqwUbkUGtHj"
    },
    {
      "cell_type": "code",
      "execution_count": 185,
      "metadata": {
        "id": "Oh70xeDSGtHj"
      },
      "outputs": [],
      "source": [
        "#BldgType to numerical values\n",
        "test['BldgType'] = test['BldgType'].map({'1Fam': 0, '2fmCon': 1, 'Duplex': 2, 'TwnhsE': 3, 'Twnhs': 4})"
      ],
      "id": "Oh70xeDSGtHj"
    },
    {
      "cell_type": "code",
      "execution_count": 186,
      "metadata": {
        "id": "I1YrU2YfGtHj"
      },
      "outputs": [],
      "source": [
        "#HouseStyle DROP\n",
        "test.drop('HouseStyle', axis=1, inplace=True)"
      ],
      "id": "I1YrU2YfGtHj"
    },
    {
      "cell_type": "code",
      "execution_count": 187,
      "metadata": {
        "id": "mQvnpfE2GtHj"
      },
      "outputs": [],
      "source": [
        "#RoofStyle Convert to numerical values\n",
        "test['RoofStyle'] = test['RoofStyle'].map({'Gable': 0, 'Hip': 1, 'Gambrel': 2, 'Mansard': 3, 'Flat': 4, 'Shed': 5})\n"
      ],
      "id": "mQvnpfE2GtHj"
    },
    {
      "cell_type": "code",
      "execution_count": 188,
      "metadata": {
        "id": "SdMEZBxTGtHj"
      },
      "outputs": [],
      "source": [
        "#RoofMatl Convert to numerical values\n",
        "test['RoofMatl'] = test['RoofMatl'].map({'CompShg': 0, 'WdShngl': 1, 'Metal': 2, 'WdShake': 3, 'Membran': 4, 'Tar&Grv': 5, 'Roll': 6, 'ClyTile': 7})\n"
      ],
      "id": "SdMEZBxTGtHj"
    },
    {
      "cell_type": "code",
      "execution_count": 189,
      "metadata": {
        "id": "7h6D-QqLGtHk"
      },
      "outputs": [],
      "source": [
        "#Exterior1st Convert to numerical values\n",
        "test['Exterior1st'] = test['Exterior1st'].map({'VinylSd': 0, 'MetalSd': 1, 'Wd Sdng': 2, 'HdBoard': 3, 'BrkFace': 4, 'WdShing': 5, 'CemntBd': 6, 'Plywood': 7, 'AsbShng': 8, 'Stucco': 9, 'BrkComm': 10, 'AsphShn': 11, 'Stone': 12, 'ImStucc': 13, 'CBlock': 14})\n"
      ],
      "id": "7h6D-QqLGtHk"
    },
    {
      "cell_type": "code",
      "execution_count": 190,
      "metadata": {
        "id": "BtL9p_UmGtHk"
      },
      "outputs": [],
      "source": [
        "#Exterior2nd drop\n",
        "test.drop('Exterior2nd', axis=1, inplace=True)"
      ],
      "id": "BtL9p_UmGtHk"
    },
    {
      "cell_type": "code",
      "execution_count": 191,
      "metadata": {
        "id": "zWHM7FeRGtHk"
      },
      "outputs": [],
      "source": [
        "#MasVnrType drop\n",
        "test.drop('MasVnrType', axis=1, inplace=True)"
      ],
      "id": "zWHM7FeRGtHk"
    },
    {
      "cell_type": "code",
      "execution_count": 192,
      "metadata": {
        "id": "ygcwXFrTGtHk"
      },
      "outputs": [],
      "source": [
        "#MasVnrArea drop\n",
        "test.drop('MasVnrArea', axis=1, inplace=True)"
      ],
      "id": "ygcwXFrTGtHk"
    },
    {
      "cell_type": "code",
      "execution_count": 193,
      "metadata": {
        "id": "K88sUyO2GtHk"
      },
      "outputs": [],
      "source": [
        "#ExterQual Convert to numerical values\n",
        "test['ExterQual'] = test['ExterQual'].map({'Gd': 0, 'TA': 1, 'Ex': 2, 'Fa': 3})"
      ],
      "id": "K88sUyO2GtHk"
    },
    {
      "cell_type": "code",
      "execution_count": 194,
      "metadata": {
        "id": "GjIpyHp4GtHk"
      },
      "outputs": [],
      "source": [
        "#ExterCond Convert to numerical values\n",
        "test['ExterCond'] = test['ExterCond'].map({'TA': 0, 'Gd': 1, 'Fa': 2, 'Po': 3, 'Ex': 4})\n"
      ],
      "id": "GjIpyHp4GtHk"
    },
    {
      "cell_type": "code",
      "execution_count": 195,
      "metadata": {
        "id": "rV_7WF2EGtHk"
      },
      "outputs": [],
      "source": [
        "#BsmtQual drop\n",
        "test.drop('BsmtQual', axis=1, inplace=True)"
      ],
      "id": "rV_7WF2EGtHk"
    },
    {
      "cell_type": "code",
      "execution_count": 196,
      "metadata": {
        "id": "c6TgT-4BGtHk"
      },
      "outputs": [],
      "source": [
        "#BsmtCond drop\n",
        "test.drop('BsmtCond', axis=1, inplace=True)"
      ],
      "id": "c6TgT-4BGtHk"
    },
    {
      "cell_type": "code",
      "execution_count": 197,
      "metadata": {
        "id": "fBHO9knwGtHk"
      },
      "outputs": [],
      "source": [
        "#BsmtExposure drop\n",
        "test.drop('BsmtExposure', axis=1, inplace=True)"
      ],
      "id": "fBHO9knwGtHk"
    },
    {
      "cell_type": "code",
      "execution_count": 198,
      "metadata": {
        "id": "U6EbT-ntGtHk"
      },
      "outputs": [],
      "source": [
        "#BsmtFinType1 drop\n",
        "test.drop('BsmtFinType1', axis=1, inplace=True)"
      ],
      "id": "U6EbT-ntGtHk"
    },
    {
      "cell_type": "code",
      "execution_count": 199,
      "metadata": {
        "id": "XtGp6l4TGtHk"
      },
      "outputs": [],
      "source": [
        "#BsmtFinSF1 drop\n",
        "test.drop('BsmtFinSF1', axis=1, inplace=True)"
      ],
      "id": "XtGp6l4TGtHk"
    },
    {
      "cell_type": "code",
      "execution_count": 200,
      "metadata": {
        "id": "64eSrlRdGtHk"
      },
      "outputs": [],
      "source": [
        "#BsmtFinType2 drop\n",
        "test.drop('BsmtFinType2', axis=1, inplace=True)"
      ],
      "id": "64eSrlRdGtHk"
    },
    {
      "cell_type": "code",
      "execution_count": 201,
      "metadata": {
        "id": "zqxrNnwqGtHk"
      },
      "outputs": [],
      "source": [
        "#BsmtFinSF2 drop\n",
        "test.drop('BsmtFinSF2', axis=1, inplace=True)"
      ],
      "id": "zqxrNnwqGtHk"
    },
    {
      "cell_type": "code",
      "execution_count": 202,
      "metadata": {
        "id": "k0WXD9OBGtHk"
      },
      "outputs": [],
      "source": [
        "#BsmtUnfSF drop\n",
        "test.drop('BsmtUnfSF', axis=1, inplace=True)"
      ],
      "id": "k0WXD9OBGtHk"
    },
    {
      "cell_type": "code",
      "execution_count": 203,
      "metadata": {
        "id": "nDaUaDTRGtHk"
      },
      "outputs": [],
      "source": [
        "#TotalBsmtSF drop\n",
        "test.drop('TotalBsmtSF', axis=1, inplace=True)"
      ],
      "id": "nDaUaDTRGtHk"
    },
    {
      "cell_type": "code",
      "execution_count": 204,
      "metadata": {
        "id": "pgk4duqjGtHl"
      },
      "outputs": [],
      "source": [
        "#Heating Convert to numerical values\n",
        "test['Heating'] = test['Heating'].map({'GasA': 0, 'GasW': 1, 'Grav': 2, 'Wall': 3, 'OthW': 4, 'Floor': 5})\n"
      ],
      "id": "pgk4duqjGtHl"
    },
    {
      "cell_type": "code",
      "execution_count": 205,
      "metadata": {
        "id": "nu_XTwOXGtHl"
      },
      "outputs": [],
      "source": [
        "#HeatingQC Convert to numerical values\n",
        "test['HeatingQC'] = test['HeatingQC'].map({'Ex': 0, 'Gd': 1, 'TA': 2, 'Fa': 3, 'Po': 4})"
      ],
      "id": "nu_XTwOXGtHl"
    },
    {
      "cell_type": "code",
      "execution_count": 206,
      "metadata": {
        "id": "W6_VAYicGtHl"
      },
      "outputs": [],
      "source": [
        "#CentralAir Convert to numerical values\n",
        "test['CentralAir'] = test['CentralAir'].map({'Y': 1, 'N': 0})"
      ],
      "id": "W6_VAYicGtHl"
    },
    {
      "cell_type": "code",
      "execution_count": 207,
      "metadata": {
        "id": "xECY9iPwGtHl"
      },
      "outputs": [],
      "source": [
        "#Electrical convert to numerical values\n",
        "test['Electrical'] = test['Electrical'].map({'SBrkr': 0, 'FuseF': 1, 'FuseA': 2, 'FuseP': 3, 'Mix': 4})\n"
      ],
      "id": "xECY9iPwGtHl"
    },
    {
      "cell_type": "code",
      "execution_count": 208,
      "metadata": {
        "id": "010b4p01GtHl"
      },
      "outputs": [],
      "source": [
        "test['Electrical'] = test['Electrical'].fillna(method='ffill')"
      ],
      "id": "010b4p01GtHl"
    },
    {
      "cell_type": "code",
      "execution_count": 209,
      "metadata": {
        "id": "DdHQSywEGtHl"
      },
      "outputs": [],
      "source": [
        "#1stFlrSF drop\n",
        "test.drop('1stFlrSF', axis=1, inplace=True)"
      ],
      "id": "DdHQSywEGtHl"
    },
    {
      "cell_type": "code",
      "execution_count": 210,
      "metadata": {
        "id": "JEEBNvcQGtHl"
      },
      "outputs": [],
      "source": [
        "#2ndFlrSF drop\n",
        "test.drop('2ndFlrSF', axis=1, inplace=True)"
      ],
      "id": "JEEBNvcQGtHl"
    },
    {
      "cell_type": "code",
      "execution_count": 211,
      "metadata": {
        "id": "0AWeTYKhGtHl"
      },
      "outputs": [],
      "source": [
        "#LowQualFinSF drop\n",
        "test.drop('LowQualFinSF', axis=1, inplace=True)"
      ],
      "id": "0AWeTYKhGtHl"
    },
    {
      "cell_type": "code",
      "execution_count": 212,
      "metadata": {
        "id": "AHlrqD7-GtHl"
      },
      "outputs": [],
      "source": [
        "#BsmtFullBath drop\n",
        "test.drop('BsmtFullBath', axis=1, inplace=True)"
      ],
      "id": "AHlrqD7-GtHl"
    },
    {
      "cell_type": "code",
      "execution_count": 213,
      "metadata": {
        "id": "obJaTYd7GtHl"
      },
      "outputs": [],
      "source": [
        "#BsmtHalfBath drop\n",
        "test.drop('BsmtHalfBath', axis=1, inplace=True)"
      ],
      "id": "obJaTYd7GtHl"
    },
    {
      "cell_type": "code",
      "execution_count": 214,
      "metadata": {
        "id": "yftut6ApGtHl"
      },
      "outputs": [],
      "source": [
        "#KitchenQual Convert to numerical values\n",
        "test['KitchenQual'] = test['KitchenQual'].map({'Gd': 0, 'TA': 1, 'Ex': 2, 'Fa': 3})"
      ],
      "id": "yftut6ApGtHl"
    },
    {
      "cell_type": "code",
      "execution_count": 215,
      "metadata": {
        "id": "G1eisxsXGtHl"
      },
      "outputs": [],
      "source": [
        "#Functional Convert to numerical values\n",
        "test['Functional'] = test['Functional'].map({'Typ': 0, 'Min1': 1, 'Min2': 2, 'Mod': 3, 'Maj1': 4, 'Maj2': 5, 'Sev': 6, 'Sal': 7})\n"
      ],
      "id": "G1eisxsXGtHl"
    },
    {
      "cell_type": "code",
      "execution_count": 216,
      "metadata": {
        "id": "ILo7mPC9GtHl"
      },
      "outputs": [],
      "source": [
        "#FireplaceQu drop\n",
        "test.drop('FireplaceQu', axis=1, inplace=True)"
      ],
      "id": "ILo7mPC9GtHl"
    },
    {
      "cell_type": "code",
      "execution_count": 217,
      "metadata": {
        "id": "XaIe6CcFGtHl"
      },
      "outputs": [],
      "source": [
        "#GarageType convert to numerical values\n",
        "test['GarageType'] = test['GarageType'].map({'Attchd': 0, 'Detchd': 1, 'BuiltIn': 2, 'CarPort': 3, 'Basment': 4, '2Types': 5})\n"
      ],
      "id": "XaIe6CcFGtHl"
    },
    {
      "cell_type": "code",
      "execution_count": 218,
      "metadata": {
        "id": "LUDKXxolGtHm"
      },
      "outputs": [],
      "source": [
        "test['GarageType'] = test['GarageType'].fillna(method='ffill')"
      ],
      "id": "LUDKXxolGtHm"
    },
    {
      "cell_type": "code",
      "execution_count": 219,
      "metadata": {
        "id": "zqsAlIDHGtHm"
      },
      "outputs": [],
      "source": [
        "#GarageYrBlt drop\n",
        "test.drop('GarageYrBlt', axis=1, inplace=True)"
      ],
      "id": "zqsAlIDHGtHm"
    },
    {
      "cell_type": "code",
      "execution_count": 220,
      "metadata": {
        "id": "HIRJwDb9GtHm"
      },
      "outputs": [],
      "source": [
        "#GarageFinish drop \n",
        "test.drop('GarageFinish', axis=1, inplace=True)"
      ],
      "id": "HIRJwDb9GtHm"
    },
    {
      "cell_type": "code",
      "execution_count": 221,
      "metadata": {
        "id": "6G1_RLf-GtHm"
      },
      "outputs": [],
      "source": [
        "#GarageQual drop\n",
        "test.drop('GarageQual', axis=1, inplace=True)\n",
        "#GarageCond drop\n",
        "test.drop('GarageCond', axis=1, inplace=True)\n"
      ],
      "id": "6G1_RLf-GtHm"
    },
    {
      "cell_type": "code",
      "execution_count": 222,
      "metadata": {
        "id": "f1qCiVEKGtHm"
      },
      "outputs": [],
      "source": [
        "#PavedDrive Convert to numerical values\n",
        "test['PavedDrive'] = test['PavedDrive'].map({'Y': 0, 'N': 1, 'P': 2})"
      ],
      "id": "f1qCiVEKGtHm"
    },
    {
      "cell_type": "code",
      "execution_count": 223,
      "metadata": {
        "id": "V_yw6Rt1GtHm"
      },
      "outputs": [],
      "source": [
        "#WoodDeckSF drop\n",
        "test.drop('WoodDeckSF', axis=1, inplace=True)"
      ],
      "id": "V_yw6Rt1GtHm"
    },
    {
      "cell_type": "code",
      "execution_count": 224,
      "metadata": {
        "id": "p6evo6X1GtHm"
      },
      "outputs": [],
      "source": [
        "#3SsnPorch drop\n",
        "test.drop('3SsnPorch', axis=1, inplace=True)\n",
        "#ScreenPorch drop\n",
        "test.drop('ScreenPorch', axis=1, inplace=True)"
      ],
      "id": "p6evo6X1GtHm"
    },
    {
      "cell_type": "code",
      "execution_count": 225,
      "metadata": {
        "id": "Gj9dVUO9GtHm"
      },
      "outputs": [],
      "source": [
        "#PoolQC drop\n",
        "test.drop('PoolQC', axis=1, inplace=True)\n",
        "#Fence drop\n",
        "test.drop('Fence', axis=1, inplace=True)"
      ],
      "id": "Gj9dVUO9GtHm"
    },
    {
      "cell_type": "code",
      "execution_count": 226,
      "metadata": {
        "id": "_tCawhyqGtHm"
      },
      "outputs": [],
      "source": [
        "#MiscFeature drop\n",
        "test.drop('MiscFeature', axis=1, inplace=True)\n"
      ],
      "id": "_tCawhyqGtHm"
    },
    {
      "cell_type": "code",
      "execution_count": 227,
      "metadata": {
        "id": "bGayhUkQGtHm"
      },
      "outputs": [],
      "source": [
        "#MiscVal drop\n",
        "test.drop('MiscVal', axis=1, inplace=True)\n"
      ],
      "id": "bGayhUkQGtHm"
    },
    {
      "cell_type": "code",
      "execution_count": 228,
      "metadata": {
        "id": "MWTMXFAlGtHm"
      },
      "outputs": [],
      "source": [
        "#SaleType drop\n",
        "test.drop('SaleType', axis=1, inplace=True)"
      ],
      "id": "MWTMXFAlGtHm"
    },
    {
      "cell_type": "code",
      "execution_count": 229,
      "metadata": {
        "id": "3UAxzer5GtHm"
      },
      "outputs": [],
      "source": [
        "#SaleCondition convert to numerical values\n",
        "test['SaleCondition'] = test['SaleCondition'].map({'Normal': 0, 'Abnorml': 1, 'Partial': 2, 'AdjLand': 3, 'Alloca': 4, 'Family': 5})\n"
      ],
      "id": "3UAxzer5GtHm"
    },
    {
      "cell_type": "code",
      "execution_count": 230,
      "metadata": {
        "colab": {
          "base_uri": "https://localhost:8080/"
        },
        "outputId": "30c4d7fe-f52a-41e4-f80f-2c30a6fadc00",
        "id": "V0c4OzWjGtHn"
      },
      "outputs": [
        {
          "output_type": "execute_result",
          "data": {
            "text/plain": [
              "PConc     661\n",
              "CBlock    601\n",
              "BrkTil    165\n",
              "Slab       25\n",
              "Stone       5\n",
              "Wood        2\n",
              "Name: Foundation, dtype: int64"
            ]
          },
          "metadata": {},
          "execution_count": 230
        }
      ],
      "source": [
        "test.Foundation.value_counts()"
      ],
      "id": "V0c4OzWjGtHn"
    },
    {
      "cell_type": "code",
      "execution_count": 231,
      "metadata": {
        "id": "Pn3xfwWlGtHn"
      },
      "outputs": [],
      "source": [
        "#Foundation convert to numerical values\n",
        "test['Foundation'] = test['Foundation'].map({'PConc': 0, 'CBlock': 1, 'BrkTil': 2, 'Slab': 3, 'Stone': 4, 'Wood': 5})"
      ],
      "id": "Pn3xfwWlGtHn"
    },
    {
      "cell_type": "code",
      "execution_count": 232,
      "metadata": {
        "colab": {
          "base_uri": "https://localhost:8080/",
          "height": 270
        },
        "outputId": "b3c70559-bef9-42b1-8dbb-6bc787a18410",
        "id": "j7WgX1PJGtHn"
      },
      "outputs": [
        {
          "output_type": "execute_result",
          "data": {
            "text/plain": [
              "     Id  MSZoning  LotFrontage  LotArea  Street LotShape  Neighborhood  Condition1  BldgType  OverallQual  OverallCond  YearBuilt  YearRemodAdd  RoofStyle  RoofMatl  Exterior1st  ExterQual  ExterCond  Foundation  Heating  HeatingQC  CentralAir  Electrical  GrLivArea  FullBath  HalfBath  BedroomAbvGr  KitchenAbvGr  KitchenQual  TotRmsAbvGrd  Functional  Fireplaces  GarageType  GarageCars  GarageArea  PavedDrive  OpenPorchSF  EnclosedPorch  PoolArea  MoSold  YrSold  SaleCondition\n",
              "0  1461       4.0         80.0    11622       0      Reg            11           1         0            5            6       1961          1961          0         0          0.0          1          0           1        0          2           1           0        896         1         0             2             1          1.0             5         0.0           0         0.0         1.0       730.0           0            0              0         0       6    2010              0\n",
              "1  1462       0.0         81.0    14267       0      IR1            11           0         0            6            6       1958          1958          1         0          2.0          1          0           1        0          2           1           0       1329         1         1             3             1          0.0             6         0.0           0         0.0         1.0       312.0           0           36              0         0       6    2010              0\n",
              "2  1463       0.0         74.0    13830       0      IR1            17           0         0            5            5       1997          1998          0         0          0.0          1          0           0        0          1           1           0       1629         2         1             3             1          1.0             6         0.0           1         0.0         2.0       482.0           0           34              0         0       3    2010              0\n",
              "3  1464       0.0         78.0     9978       0      IR1            17           0         0            6            6       1998          1998          0         0          0.0          1          0           0        0          0           1           0       1604         2         1             3             1          0.0             7         0.0           1         0.0         2.0       470.0           0           36              0         0       6    2010              0\n",
              "4  1465       0.0         43.0     5005       0      IR1            18           0         3            8            5       1992          1992          0         0          3.0          0          0           0        0          0           1           0       1280         2         0             2             1          0.0             5         0.0           0         0.0         2.0       506.0           0           82              0         0       1    2010              0"
            ],
            "text/html": [
              "\n",
              "  <div id=\"df-a11a0a56-5729-4cf3-a124-4305b24de20e\">\n",
              "    <div class=\"colab-df-container\">\n",
              "      <div>\n",
              "<style scoped>\n",
              "    .dataframe tbody tr th:only-of-type {\n",
              "        vertical-align: middle;\n",
              "    }\n",
              "\n",
              "    .dataframe tbody tr th {\n",
              "        vertical-align: top;\n",
              "    }\n",
              "\n",
              "    .dataframe thead th {\n",
              "        text-align: right;\n",
              "    }\n",
              "</style>\n",
              "<table border=\"1\" class=\"dataframe\">\n",
              "  <thead>\n",
              "    <tr style=\"text-align: right;\">\n",
              "      <th></th>\n",
              "      <th>Id</th>\n",
              "      <th>MSZoning</th>\n",
              "      <th>LotFrontage</th>\n",
              "      <th>LotArea</th>\n",
              "      <th>Street</th>\n",
              "      <th>LotShape</th>\n",
              "      <th>Neighborhood</th>\n",
              "      <th>Condition1</th>\n",
              "      <th>BldgType</th>\n",
              "      <th>OverallQual</th>\n",
              "      <th>OverallCond</th>\n",
              "      <th>YearBuilt</th>\n",
              "      <th>YearRemodAdd</th>\n",
              "      <th>RoofStyle</th>\n",
              "      <th>RoofMatl</th>\n",
              "      <th>Exterior1st</th>\n",
              "      <th>ExterQual</th>\n",
              "      <th>ExterCond</th>\n",
              "      <th>Foundation</th>\n",
              "      <th>Heating</th>\n",
              "      <th>HeatingQC</th>\n",
              "      <th>CentralAir</th>\n",
              "      <th>Electrical</th>\n",
              "      <th>GrLivArea</th>\n",
              "      <th>FullBath</th>\n",
              "      <th>HalfBath</th>\n",
              "      <th>BedroomAbvGr</th>\n",
              "      <th>KitchenAbvGr</th>\n",
              "      <th>KitchenQual</th>\n",
              "      <th>TotRmsAbvGrd</th>\n",
              "      <th>Functional</th>\n",
              "      <th>Fireplaces</th>\n",
              "      <th>GarageType</th>\n",
              "      <th>GarageCars</th>\n",
              "      <th>GarageArea</th>\n",
              "      <th>PavedDrive</th>\n",
              "      <th>OpenPorchSF</th>\n",
              "      <th>EnclosedPorch</th>\n",
              "      <th>PoolArea</th>\n",
              "      <th>MoSold</th>\n",
              "      <th>YrSold</th>\n",
              "      <th>SaleCondition</th>\n",
              "    </tr>\n",
              "  </thead>\n",
              "  <tbody>\n",
              "    <tr>\n",
              "      <th>0</th>\n",
              "      <td>1461</td>\n",
              "      <td>4.0</td>\n",
              "      <td>80.0</td>\n",
              "      <td>11622</td>\n",
              "      <td>0</td>\n",
              "      <td>Reg</td>\n",
              "      <td>11</td>\n",
              "      <td>1</td>\n",
              "      <td>0</td>\n",
              "      <td>5</td>\n",
              "      <td>6</td>\n",
              "      <td>1961</td>\n",
              "      <td>1961</td>\n",
              "      <td>0</td>\n",
              "      <td>0</td>\n",
              "      <td>0.0</td>\n",
              "      <td>1</td>\n",
              "      <td>0</td>\n",
              "      <td>1</td>\n",
              "      <td>0</td>\n",
              "      <td>2</td>\n",
              "      <td>1</td>\n",
              "      <td>0</td>\n",
              "      <td>896</td>\n",
              "      <td>1</td>\n",
              "      <td>0</td>\n",
              "      <td>2</td>\n",
              "      <td>1</td>\n",
              "      <td>1.0</td>\n",
              "      <td>5</td>\n",
              "      <td>0.0</td>\n",
              "      <td>0</td>\n",
              "      <td>0.0</td>\n",
              "      <td>1.0</td>\n",
              "      <td>730.0</td>\n",
              "      <td>0</td>\n",
              "      <td>0</td>\n",
              "      <td>0</td>\n",
              "      <td>0</td>\n",
              "      <td>6</td>\n",
              "      <td>2010</td>\n",
              "      <td>0</td>\n",
              "    </tr>\n",
              "    <tr>\n",
              "      <th>1</th>\n",
              "      <td>1462</td>\n",
              "      <td>0.0</td>\n",
              "      <td>81.0</td>\n",
              "      <td>14267</td>\n",
              "      <td>0</td>\n",
              "      <td>IR1</td>\n",
              "      <td>11</td>\n",
              "      <td>0</td>\n",
              "      <td>0</td>\n",
              "      <td>6</td>\n",
              "      <td>6</td>\n",
              "      <td>1958</td>\n",
              "      <td>1958</td>\n",
              "      <td>1</td>\n",
              "      <td>0</td>\n",
              "      <td>2.0</td>\n",
              "      <td>1</td>\n",
              "      <td>0</td>\n",
              "      <td>1</td>\n",
              "      <td>0</td>\n",
              "      <td>2</td>\n",
              "      <td>1</td>\n",
              "      <td>0</td>\n",
              "      <td>1329</td>\n",
              "      <td>1</td>\n",
              "      <td>1</td>\n",
              "      <td>3</td>\n",
              "      <td>1</td>\n",
              "      <td>0.0</td>\n",
              "      <td>6</td>\n",
              "      <td>0.0</td>\n",
              "      <td>0</td>\n",
              "      <td>0.0</td>\n",
              "      <td>1.0</td>\n",
              "      <td>312.0</td>\n",
              "      <td>0</td>\n",
              "      <td>36</td>\n",
              "      <td>0</td>\n",
              "      <td>0</td>\n",
              "      <td>6</td>\n",
              "      <td>2010</td>\n",
              "      <td>0</td>\n",
              "    </tr>\n",
              "    <tr>\n",
              "      <th>2</th>\n",
              "      <td>1463</td>\n",
              "      <td>0.0</td>\n",
              "      <td>74.0</td>\n",
              "      <td>13830</td>\n",
              "      <td>0</td>\n",
              "      <td>IR1</td>\n",
              "      <td>17</td>\n",
              "      <td>0</td>\n",
              "      <td>0</td>\n",
              "      <td>5</td>\n",
              "      <td>5</td>\n",
              "      <td>1997</td>\n",
              "      <td>1998</td>\n",
              "      <td>0</td>\n",
              "      <td>0</td>\n",
              "      <td>0.0</td>\n",
              "      <td>1</td>\n",
              "      <td>0</td>\n",
              "      <td>0</td>\n",
              "      <td>0</td>\n",
              "      <td>1</td>\n",
              "      <td>1</td>\n",
              "      <td>0</td>\n",
              "      <td>1629</td>\n",
              "      <td>2</td>\n",
              "      <td>1</td>\n",
              "      <td>3</td>\n",
              "      <td>1</td>\n",
              "      <td>1.0</td>\n",
              "      <td>6</td>\n",
              "      <td>0.0</td>\n",
              "      <td>1</td>\n",
              "      <td>0.0</td>\n",
              "      <td>2.0</td>\n",
              "      <td>482.0</td>\n",
              "      <td>0</td>\n",
              "      <td>34</td>\n",
              "      <td>0</td>\n",
              "      <td>0</td>\n",
              "      <td>3</td>\n",
              "      <td>2010</td>\n",
              "      <td>0</td>\n",
              "    </tr>\n",
              "    <tr>\n",
              "      <th>3</th>\n",
              "      <td>1464</td>\n",
              "      <td>0.0</td>\n",
              "      <td>78.0</td>\n",
              "      <td>9978</td>\n",
              "      <td>0</td>\n",
              "      <td>IR1</td>\n",
              "      <td>17</td>\n",
              "      <td>0</td>\n",
              "      <td>0</td>\n",
              "      <td>6</td>\n",
              "      <td>6</td>\n",
              "      <td>1998</td>\n",
              "      <td>1998</td>\n",
              "      <td>0</td>\n",
              "      <td>0</td>\n",
              "      <td>0.0</td>\n",
              "      <td>1</td>\n",
              "      <td>0</td>\n",
              "      <td>0</td>\n",
              "      <td>0</td>\n",
              "      <td>0</td>\n",
              "      <td>1</td>\n",
              "      <td>0</td>\n",
              "      <td>1604</td>\n",
              "      <td>2</td>\n",
              "      <td>1</td>\n",
              "      <td>3</td>\n",
              "      <td>1</td>\n",
              "      <td>0.0</td>\n",
              "      <td>7</td>\n",
              "      <td>0.0</td>\n",
              "      <td>1</td>\n",
              "      <td>0.0</td>\n",
              "      <td>2.0</td>\n",
              "      <td>470.0</td>\n",
              "      <td>0</td>\n",
              "      <td>36</td>\n",
              "      <td>0</td>\n",
              "      <td>0</td>\n",
              "      <td>6</td>\n",
              "      <td>2010</td>\n",
              "      <td>0</td>\n",
              "    </tr>\n",
              "    <tr>\n",
              "      <th>4</th>\n",
              "      <td>1465</td>\n",
              "      <td>0.0</td>\n",
              "      <td>43.0</td>\n",
              "      <td>5005</td>\n",
              "      <td>0</td>\n",
              "      <td>IR1</td>\n",
              "      <td>18</td>\n",
              "      <td>0</td>\n",
              "      <td>3</td>\n",
              "      <td>8</td>\n",
              "      <td>5</td>\n",
              "      <td>1992</td>\n",
              "      <td>1992</td>\n",
              "      <td>0</td>\n",
              "      <td>0</td>\n",
              "      <td>3.0</td>\n",
              "      <td>0</td>\n",
              "      <td>0</td>\n",
              "      <td>0</td>\n",
              "      <td>0</td>\n",
              "      <td>0</td>\n",
              "      <td>1</td>\n",
              "      <td>0</td>\n",
              "      <td>1280</td>\n",
              "      <td>2</td>\n",
              "      <td>0</td>\n",
              "      <td>2</td>\n",
              "      <td>1</td>\n",
              "      <td>0.0</td>\n",
              "      <td>5</td>\n",
              "      <td>0.0</td>\n",
              "      <td>0</td>\n",
              "      <td>0.0</td>\n",
              "      <td>2.0</td>\n",
              "      <td>506.0</td>\n",
              "      <td>0</td>\n",
              "      <td>82</td>\n",
              "      <td>0</td>\n",
              "      <td>0</td>\n",
              "      <td>1</td>\n",
              "      <td>2010</td>\n",
              "      <td>0</td>\n",
              "    </tr>\n",
              "  </tbody>\n",
              "</table>\n",
              "</div>\n",
              "      <button class=\"colab-df-convert\" onclick=\"convertToInteractive('df-a11a0a56-5729-4cf3-a124-4305b24de20e')\"\n",
              "              title=\"Convert this dataframe to an interactive table.\"\n",
              "              style=\"display:none;\">\n",
              "        \n",
              "  <svg xmlns=\"http://www.w3.org/2000/svg\" height=\"24px\"viewBox=\"0 0 24 24\"\n",
              "       width=\"24px\">\n",
              "    <path d=\"M0 0h24v24H0V0z\" fill=\"none\"/>\n",
              "    <path d=\"M18.56 5.44l.94 2.06.94-2.06 2.06-.94-2.06-.94-.94-2.06-.94 2.06-2.06.94zm-11 1L8.5 8.5l.94-2.06 2.06-.94-2.06-.94L8.5 2.5l-.94 2.06-2.06.94zm10 10l.94 2.06.94-2.06 2.06-.94-2.06-.94-.94-2.06-.94 2.06-2.06.94z\"/><path d=\"M17.41 7.96l-1.37-1.37c-.4-.4-.92-.59-1.43-.59-.52 0-1.04.2-1.43.59L10.3 9.45l-7.72 7.72c-.78.78-.78 2.05 0 2.83L4 21.41c.39.39.9.59 1.41.59.51 0 1.02-.2 1.41-.59l7.78-7.78 2.81-2.81c.8-.78.8-2.07 0-2.86zM5.41 20L4 18.59l7.72-7.72 1.47 1.35L5.41 20z\"/>\n",
              "  </svg>\n",
              "      </button>\n",
              "      \n",
              "  <style>\n",
              "    .colab-df-container {\n",
              "      display:flex;\n",
              "      flex-wrap:wrap;\n",
              "      gap: 12px;\n",
              "    }\n",
              "\n",
              "    .colab-df-convert {\n",
              "      background-color: #E8F0FE;\n",
              "      border: none;\n",
              "      border-radius: 50%;\n",
              "      cursor: pointer;\n",
              "      display: none;\n",
              "      fill: #1967D2;\n",
              "      height: 32px;\n",
              "      padding: 0 0 0 0;\n",
              "      width: 32px;\n",
              "    }\n",
              "\n",
              "    .colab-df-convert:hover {\n",
              "      background-color: #E2EBFA;\n",
              "      box-shadow: 0px 1px 2px rgba(60, 64, 67, 0.3), 0px 1px 3px 1px rgba(60, 64, 67, 0.15);\n",
              "      fill: #174EA6;\n",
              "    }\n",
              "\n",
              "    [theme=dark] .colab-df-convert {\n",
              "      background-color: #3B4455;\n",
              "      fill: #D2E3FC;\n",
              "    }\n",
              "\n",
              "    [theme=dark] .colab-df-convert:hover {\n",
              "      background-color: #434B5C;\n",
              "      box-shadow: 0px 1px 3px 1px rgba(0, 0, 0, 0.15);\n",
              "      filter: drop-shadow(0px 1px 2px rgba(0, 0, 0, 0.3));\n",
              "      fill: #FFFFFF;\n",
              "    }\n",
              "  </style>\n",
              "\n",
              "      <script>\n",
              "        const buttonEl =\n",
              "          document.querySelector('#df-a11a0a56-5729-4cf3-a124-4305b24de20e button.colab-df-convert');\n",
              "        buttonEl.style.display =\n",
              "          google.colab.kernel.accessAllowed ? 'block' : 'none';\n",
              "\n",
              "        async function convertToInteractive(key) {\n",
              "          const element = document.querySelector('#df-a11a0a56-5729-4cf3-a124-4305b24de20e');\n",
              "          const dataTable =\n",
              "            await google.colab.kernel.invokeFunction('convertToInteractive',\n",
              "                                                     [key], {});\n",
              "          if (!dataTable) return;\n",
              "\n",
              "          const docLinkHtml = 'Like what you see? Visit the ' +\n",
              "            '<a target=\"_blank\" href=https://colab.research.google.com/notebooks/data_table.ipynb>data table notebook</a>'\n",
              "            + ' to learn more about interactive tables.';\n",
              "          element.innerHTML = '';\n",
              "          dataTable['output_type'] = 'display_data';\n",
              "          await google.colab.output.renderOutput(dataTable, element);\n",
              "          const docLink = document.createElement('div');\n",
              "          docLink.innerHTML = docLinkHtml;\n",
              "          element.appendChild(docLink);\n",
              "        }\n",
              "      </script>\n",
              "    </div>\n",
              "  </div>\n",
              "  "
            ]
          },
          "metadata": {},
          "execution_count": 232
        }
      ],
      "source": [
        "test.head()"
      ],
      "id": "j7WgX1PJGtHn"
    },
    {
      "cell_type": "code",
      "execution_count": 233,
      "metadata": {
        "colab": {
          "base_uri": "https://localhost:8080/"
        },
        "outputId": "5a2f95bd-da08-4861-c5c4-ff6197f4813a",
        "id": "AXxzZOWzGtHn"
      },
      "outputs": [
        {
          "output_type": "stream",
          "name": "stdout",
          "text": [
            "<class 'pandas.core.frame.DataFrame'>\n",
            "RangeIndex: 1459 entries, 0 to 1458\n",
            "Data columns (total 42 columns):\n",
            " #   Column         Non-Null Count  Dtype  \n",
            "---  ------         --------------  -----  \n",
            " 0   Id             1459 non-null   int64  \n",
            " 1   MSZoning       1455 non-null   float64\n",
            " 2   LotFrontage    1459 non-null   float64\n",
            " 3   LotArea        1459 non-null   int64  \n",
            " 4   Street         1459 non-null   int64  \n",
            " 5   LotShape       1459 non-null   object \n",
            " 6   Neighborhood   1459 non-null   int64  \n",
            " 7   Condition1     1459 non-null   int64  \n",
            " 8   BldgType       1459 non-null   int64  \n",
            " 9   OverallQual    1459 non-null   int64  \n",
            " 10  OverallCond    1459 non-null   int64  \n",
            " 11  YearBuilt      1459 non-null   int64  \n",
            " 12  YearRemodAdd   1459 non-null   int64  \n",
            " 13  RoofStyle      1459 non-null   int64  \n",
            " 14  RoofMatl       1459 non-null   int64  \n",
            " 15  Exterior1st    1458 non-null   float64\n",
            " 16  ExterQual      1459 non-null   int64  \n",
            " 17  ExterCond      1459 non-null   int64  \n",
            " 18  Foundation     1459 non-null   int64  \n",
            " 19  Heating        1459 non-null   int64  \n",
            " 20  HeatingQC      1459 non-null   int64  \n",
            " 21  CentralAir     1459 non-null   int64  \n",
            " 22  Electrical     1459 non-null   int64  \n",
            " 23  GrLivArea      1459 non-null   int64  \n",
            " 24  FullBath       1459 non-null   int64  \n",
            " 25  HalfBath       1459 non-null   int64  \n",
            " 26  BedroomAbvGr   1459 non-null   int64  \n",
            " 27  KitchenAbvGr   1459 non-null   int64  \n",
            " 28  KitchenQual    1458 non-null   float64\n",
            " 29  TotRmsAbvGrd   1459 non-null   int64  \n",
            " 30  Functional     1457 non-null   float64\n",
            " 31  Fireplaces     1459 non-null   int64  \n",
            " 32  GarageType     1459 non-null   float64\n",
            " 33  GarageCars     1458 non-null   float64\n",
            " 34  GarageArea     1458 non-null   float64\n",
            " 35  PavedDrive     1459 non-null   int64  \n",
            " 36  OpenPorchSF    1459 non-null   int64  \n",
            " 37  EnclosedPorch  1459 non-null   int64  \n",
            " 38  PoolArea       1459 non-null   int64  \n",
            " 39  MoSold         1459 non-null   int64  \n",
            " 40  YrSold         1459 non-null   int64  \n",
            " 41  SaleCondition  1459 non-null   int64  \n",
            "dtypes: float64(8), int64(33), object(1)\n",
            "memory usage: 478.9+ KB\n"
          ]
        }
      ],
      "source": [
        "test.info()"
      ],
      "id": "AXxzZOWzGtHn"
    },
    {
      "cell_type": "code",
      "execution_count": 234,
      "metadata": {
        "colab": {
          "base_uri": "https://localhost:8080/"
        },
        "outputId": "fd0b62f3-13c5-43f3-e3bc-e40c69e14cc9",
        "id": "mI2Lv_flGtHn"
      },
      "outputs": [
        {
          "output_type": "stream",
          "name": "stderr",
          "text": [
            "<ipython-input-234-4cfd6a5fd7b5>:5: FutureWarning: Automatic reindexing on DataFrame vs Series comparisons is deprecated and will raise ValueError in a future version.  Do `left, right = left.align(right, axis=1, copy=False)` before e.g. `left == right`\n",
            "  data_clean= data[~((data<(Q1 - 3*IQ_range)) | (data>(Q3 + 3*IQ_range)))]\n"
          ]
        }
      ],
      "source": [
        "def remove_interquartile(data):\n",
        "  Q1= data.quantile(0.25)\n",
        "  Q3= data.quantile(0.75)  \n",
        "  IQ_range= Q3-Q1\n",
        "  data_clean= data[~((data<(Q1 - 3*IQ_range)) | (data>(Q3 + 3*IQ_range)))]\n",
        "  return data_clean\n",
        "\n",
        "test = remove_interquartile(test)"
      ],
      "id": "mI2Lv_flGtHn"
    },
    {
      "cell_type": "code",
      "execution_count": 235,
      "metadata": {
        "colab": {
          "base_uri": "https://localhost:8080/"
        },
        "outputId": "ecf88a53-3d8b-4d8c-fc31-60ab5e0791b3",
        "id": "QerCzU-3GtHn"
      },
      "outputs": [
        {
          "output_type": "stream",
          "name": "stdout",
          "text": [
            "<class 'pandas.core.frame.DataFrame'>\n",
            "RangeIndex: 1459 entries, 0 to 1458\n",
            "Data columns (total 42 columns):\n",
            " #   Column         Non-Null Count  Dtype  \n",
            "---  ------         --------------  -----  \n",
            " 0   Id             1459 non-null   int64  \n",
            " 1   MSZoning       1114 non-null   float64\n",
            " 2   LotFrontage    1450 non-null   float64\n",
            " 3   LotArea        1440 non-null   float64\n",
            " 4   Street         1453 non-null   float64\n",
            " 5   LotShape       1459 non-null   object \n",
            " 6   Neighborhood   1459 non-null   int64  \n",
            " 7   Condition1     1251 non-null   float64\n",
            " 8   BldgType       1205 non-null   float64\n",
            " 9   OverallQual    1459 non-null   int64  \n",
            " 10  OverallCond    1453 non-null   float64\n",
            " 11  YearBuilt      1459 non-null   int64  \n",
            " 12  YearRemodAdd   1459 non-null   int64  \n",
            " 13  RoofStyle      1169 non-null   float64\n",
            " 14  RoofMatl       1442 non-null   float64\n",
            " 15  Exterior1st    1457 non-null   float64\n",
            " 16  ExterQual      1459 non-null   int64  \n",
            " 17  ExterCond      1256 non-null   float64\n",
            " 18  Foundation     1457 non-null   float64\n",
            " 19  Heating        1446 non-null   float64\n",
            " 20  HeatingQC      1459 non-null   int64  \n",
            " 21  CentralAir     1358 non-null   float64\n",
            " 22  Electrical     1337 non-null   float64\n",
            " 23  GrLivArea      1456 non-null   float64\n",
            " 24  FullBath       1459 non-null   int64  \n",
            " 25  HalfBath       1459 non-null   int64  \n",
            " 26  BedroomAbvGr   1459 non-null   int64  \n",
            " 27  KitchenAbvGr   1393 non-null   float64\n",
            " 28  KitchenQual    1458 non-null   float64\n",
            " 29  TotRmsAbvGrd   1458 non-null   float64\n",
            " 30  Functional     1357 non-null   float64\n",
            " 31  Fireplaces     1459 non-null   int64  \n",
            " 32  GarageType     1439 non-null   float64\n",
            " 33  GarageCars     1458 non-null   float64\n",
            " 34  GarageArea     1457 non-null   float64\n",
            " 35  PavedDrive     1301 non-null   float64\n",
            " 36  OpenPorchSF    1445 non-null   float64\n",
            " 37  EnclosedPorch  1208 non-null   float64\n",
            " 38  PoolArea       1453 non-null   float64\n",
            " 39  MoSold         1459 non-null   int64  \n",
            " 40  YrSold         1459 non-null   int64  \n",
            " 41  SaleCondition  1204 non-null   float64\n",
            "dtypes: float64(28), int64(13), object(1)\n",
            "memory usage: 478.9+ KB\n"
          ]
        }
      ],
      "source": [
        "test.info()"
      ],
      "id": "QerCzU-3GtHn"
    },
    {
      "cell_type": "code",
      "execution_count": 236,
      "metadata": {
        "colab": {
          "base_uri": "https://localhost:8080/"
        },
        "outputId": "9d5e90b0-a1e8-4218-e7e8-237cab386882",
        "id": "IWajermoGtHn"
      },
      "outputs": [
        {
          "output_type": "stream",
          "name": "stdout",
          "text": [
            "<class 'pandas.core.frame.DataFrame'>\n",
            "RangeIndex: 1459 entries, 0 to 1458\n",
            "Data columns (total 42 columns):\n",
            " #   Column         Non-Null Count  Dtype  \n",
            "---  ------         --------------  -----  \n",
            " 0   Id             1459 non-null   int64  \n",
            " 1   MSZoning       1114 non-null   float64\n",
            " 2   LotFrontage    1450 non-null   float64\n",
            " 3   LotArea        1440 non-null   float64\n",
            " 4   Street         1453 non-null   float64\n",
            " 5   LotShape       1459 non-null   object \n",
            " 6   Neighborhood   1459 non-null   int64  \n",
            " 7   Condition1     1251 non-null   float64\n",
            " 8   BldgType       1205 non-null   float64\n",
            " 9   OverallQual    1459 non-null   int64  \n",
            " 10  OverallCond    1453 non-null   float64\n",
            " 11  YearBuilt      1459 non-null   int64  \n",
            " 12  YearRemodAdd   1459 non-null   int64  \n",
            " 13  RoofStyle      1169 non-null   float64\n",
            " 14  RoofMatl       1442 non-null   float64\n",
            " 15  Exterior1st    1457 non-null   float64\n",
            " 16  ExterQual      1459 non-null   int64  \n",
            " 17  ExterCond      1256 non-null   float64\n",
            " 18  Foundation     1457 non-null   float64\n",
            " 19  Heating        1446 non-null   float64\n",
            " 20  HeatingQC      1459 non-null   int64  \n",
            " 21  CentralAir     1358 non-null   float64\n",
            " 22  Electrical     1337 non-null   float64\n",
            " 23  GrLivArea      1456 non-null   float64\n",
            " 24  FullBath       1459 non-null   int64  \n",
            " 25  HalfBath       1459 non-null   int64  \n",
            " 26  BedroomAbvGr   1459 non-null   int64  \n",
            " 27  KitchenAbvGr   1393 non-null   float64\n",
            " 28  KitchenQual    1458 non-null   float64\n",
            " 29  TotRmsAbvGrd   1458 non-null   float64\n",
            " 30  Functional     1357 non-null   float64\n",
            " 31  Fireplaces     1459 non-null   int64  \n",
            " 32  GarageType     1439 non-null   float64\n",
            " 33  GarageCars     1458 non-null   float64\n",
            " 34  GarageArea     1457 non-null   float64\n",
            " 35  PavedDrive     1301 non-null   float64\n",
            " 36  OpenPorchSF    1445 non-null   float64\n",
            " 37  EnclosedPorch  1208 non-null   float64\n",
            " 38  PoolArea       1453 non-null   float64\n",
            " 39  MoSold         1459 non-null   int64  \n",
            " 40  YrSold         1459 non-null   int64  \n",
            " 41  SaleCondition  1204 non-null   float64\n",
            "dtypes: float64(28), int64(13), object(1)\n",
            "memory usage: 478.9+ KB\n"
          ]
        }
      ],
      "source": [
        "test.fillna(method='ffill').values\n",
        "test.info()"
      ],
      "id": "IWajermoGtHn"
    },
    {
      "cell_type": "code",
      "execution_count": 238,
      "metadata": {
        "colab": {
          "base_uri": "https://localhost:8080/"
        },
        "outputId": "945f4e2d-9431-4144-8bae-e03cc0e3e8d6",
        "id": "XGoR4B8ZGtHn"
      },
      "outputs": [
        {
          "output_type": "stream",
          "name": "stdout",
          "text": [
            "['Id', 'MSZoning', 'LotFrontage', 'LotArea', 'Street', 'LotShape', 'Neighborhood', 'Condition1', 'BldgType', 'OverallQual', 'OverallCond', 'YearBuilt', 'YearRemodAdd', 'RoofStyle', 'RoofMatl', 'Exterior1st', 'ExterQual', 'ExterCond', 'Foundation', 'Heating', 'HeatingQC', 'CentralAir', 'Electrical', 'GrLivArea', 'FullBath', 'HalfBath', 'BedroomAbvGr', 'KitchenAbvGr', 'KitchenQual', 'TotRmsAbvGrd', 'Functional', 'Fireplaces', 'GarageType', 'GarageCars', 'GarageArea', 'PavedDrive', 'OpenPorchSF', 'EnclosedPorch', 'PoolArea', 'MoSold', 'YrSold', 'SaleCondition']\n"
          ]
        }
      ],
      "source": [
        "column_names = test.columns.values.tolist()\n",
        "print(column_names)"
      ],
      "id": "XGoR4B8ZGtHn"
    },
    {
      "cell_type": "code",
      "execution_count": 239,
      "metadata": {
        "id": "JVPJXMfRGtHn"
      },
      "outputs": [],
      "source": [
        "#refill NANs"
      ],
      "id": "JVPJXMfRGtHn"
    },
    {
      "cell_type": "code",
      "execution_count": 241,
      "metadata": {
        "colab": {
          "base_uri": "https://localhost:8080/"
        },
        "outputId": "2085aabb-a41f-4981-aae2-081cd5c11250",
        "id": "hIo-ouiqGtHn"
      },
      "outputs": [
        {
          "output_type": "stream",
          "name": "stdout",
          "text": [
            "<class 'pandas.core.frame.DataFrame'>\n",
            "RangeIndex: 1459 entries, 0 to 1458\n",
            "Data columns (total 42 columns):\n",
            " #   Column         Non-Null Count  Dtype  \n",
            "---  ------         --------------  -----  \n",
            " 0   Id             1459 non-null   int64  \n",
            " 1   MSZoning       1114 non-null   float64\n",
            " 2   LotFrontage    1450 non-null   float64\n",
            " 3   LotArea        1440 non-null   float64\n",
            " 4   Street         1453 non-null   float64\n",
            " 5   LotShape       1459 non-null   object \n",
            " 6   Neighborhood   1459 non-null   int64  \n",
            " 7   Condition1     1251 non-null   float64\n",
            " 8   BldgType       1205 non-null   float64\n",
            " 9   OverallQual    1459 non-null   int64  \n",
            " 10  OverallCond    1453 non-null   float64\n",
            " 11  YearBuilt      1459 non-null   int64  \n",
            " 12  YearRemodAdd   1459 non-null   int64  \n",
            " 13  RoofStyle      1169 non-null   float64\n",
            " 14  RoofMatl       1442 non-null   float64\n",
            " 15  Exterior1st    1457 non-null   float64\n",
            " 16  ExterQual      1459 non-null   int64  \n",
            " 17  ExterCond      1256 non-null   float64\n",
            " 18  Foundation     1457 non-null   float64\n",
            " 19  Heating        1446 non-null   float64\n",
            " 20  HeatingQC      1459 non-null   int64  \n",
            " 21  CentralAir     1358 non-null   float64\n",
            " 22  Electrical     1337 non-null   float64\n",
            " 23  GrLivArea      1456 non-null   float64\n",
            " 24  FullBath       1459 non-null   int64  \n",
            " 25  HalfBath       1459 non-null   int64  \n",
            " 26  BedroomAbvGr   1459 non-null   int64  \n",
            " 27  KitchenAbvGr   1393 non-null   float64\n",
            " 28  KitchenQual    1458 non-null   float64\n",
            " 29  TotRmsAbvGrd   1458 non-null   float64\n",
            " 30  Functional     1357 non-null   float64\n",
            " 31  Fireplaces     1459 non-null   int64  \n",
            " 32  GarageType     1439 non-null   float64\n",
            " 33  GarageCars     1458 non-null   float64\n",
            " 34  GarageArea     1457 non-null   float64\n",
            " 35  PavedDrive     1301 non-null   float64\n",
            " 36  OpenPorchSF    1445 non-null   float64\n",
            " 37  EnclosedPorch  1208 non-null   float64\n",
            " 38  PoolArea       1453 non-null   float64\n",
            " 39  MoSold         1459 non-null   int64  \n",
            " 40  YrSold         1459 non-null   int64  \n",
            " 41  SaleCondition  1204 non-null   float64\n",
            "dtypes: float64(28), int64(13), object(1)\n",
            "memory usage: 478.9+ KB\n"
          ]
        }
      ],
      "source": [
        "test.info()"
      ],
      "id": "hIo-ouiqGtHn"
    },
    {
      "cell_type": "code",
      "execution_count": 242,
      "metadata": {
        "colab": {
          "base_uri": "https://localhost:8080/",
          "height": 1000
        },
        "outputId": "cc60a50a-ceee-47f6-9157-c25828db0f4f",
        "id": "ZSzh_bLvGtHo"
      },
      "outputs": [
        {
          "output_type": "display_data",
          "data": {
            "text/plain": [
              "<Figure size 864x144 with 2 Axes>"
            ],
            "image/png": "[encoded data removed]"
          },
          "metadata": {
            "needs_background": "light"
          }
        },
        {
          "output_type": "display_data",
          "data": {
            "text/plain": [
              "<Figure size 864x144 with 2 Axes>"
            ],
            "image/png": "[encoded data removed]"
          },
          "metadata": {
            "needs_background": "light"
          }
        },
        {
          "output_type": "display_data",
          "data": {
            "text/plain": [
              "<Figure size 864x144 with 2 Axes>"
            ],
            "image/png": "[encoded data removed]"
          },
          "metadata": {
            "needs_background": "light"
          }
        },
        {
          "output_type": "display_data",
          "data": {
            "text/plain": [
              "<Figure size 864x144 with 2 Axes>"
            ],
            "image/png": "[encoded data removed]"
          },
          "metadata": {
            "needs_background": "light"
          }
        },
        {
          "output_type": "display_data",
          "data": {
            "text/plain": [
              "<Figure size 864x144 with 2 Axes>"
            ],
            "image/png": "[encoded data removed]"
          },
          "metadata": {
            "needs_background": "light"
          }
        },
        {
          "output_type": "display_data",
          "data": {
            "text/plain": [
              "<Figure size 864x144 with 2 Axes>"
            ],
            "image/png": "[encoded data removed]"
          },
          "metadata": {
            "needs_background": "light"
          }
        },
        {
          "output_type": "error",
          "ename": "KeyError",
          "evalue": "ignored",
          "traceback": [
            "\u001b[0;31m---------------------------------------------------------------------------\u001b[0m",
            "\u001b[0;31mKeyError\u001b[0m                                  Traceback (most recent call last)",
            "\u001b[0;32m/usr/local/lib/python3.9/dist-packages/pandas/core/indexes/base.py\u001b[0m in \u001b[0;36mget_loc\u001b[0;34m(self, key, method, tolerance)\u001b[0m\n\u001b[1;32m   3360\u001b[0m             \u001b[0;32mtry\u001b[0m\u001b[0;34m:\u001b[0m\u001b[0;34m\u001b[0m\u001b[0;34m\u001b[0m\u001b[0m\n\u001b[0;32m-> 3361\u001b[0;31m                 \u001b[0;32mreturn\u001b[0m \u001b[0mself\u001b[0m\u001b[0;34m.\u001b[0m\u001b[0m_engine\u001b[0m\u001b[0;34m.\u001b[0m\u001b[0mget_loc\u001b[0m\u001b[0;34m(\u001b[0m\u001b[0mcasted_key\u001b[0m\u001b[0;34m)\u001b[0m\u001b[0;34m\u001b[0m\u001b[0;34m\u001b[0m\u001b[0m\n\u001b[0m\u001b[1;32m   3362\u001b[0m             \u001b[0;32mexcept\u001b[0m \u001b[0mKeyError\u001b[0m \u001b[0;32mas\u001b[0m \u001b[0merr\u001b[0m\u001b[0;34m:\u001b[0m\u001b[0;34m\u001b[0m\u001b[0;34m\u001b[0m\u001b[0m\n",
            "\u001b[0;32m/usr/local/lib/python3.9/dist-packages/pandas/_libs/index.pyx\u001b[0m in \u001b[0;36mpandas._libs.index.IndexEngine.get_loc\u001b[0;34m()\u001b[0m\n",
            "\u001b[0;32m/usr/local/lib/python3.9/dist-packages/pandas/_libs/index.pyx\u001b[0m in \u001b[0;36mpandas._libs.index.IndexEngine.get_loc\u001b[0;34m()\u001b[0m\n",
            "\u001b[0;32mpandas/_libs/hashtable_class_helper.pxi\u001b[0m in \u001b[0;36mpandas._libs.hashtable.PyObjectHashTable.get_item\u001b[0;34m()\u001b[0m\n",
            "\u001b[0;32mpandas/_libs/hashtable_class_helper.pxi\u001b[0m in \u001b[0;36mpandas._libs.hashtable.PyObjectHashTable.get_item\u001b[0;34m()\u001b[0m\n",
            "\u001b[0;31mKeyError\u001b[0m: 'SalePrice'",
            "\nThe above exception was the direct cause of the following exception:\n",
            "\u001b[0;31mKeyError\u001b[0m                                  Traceback (most recent call last)",
            "\u001b[0;32m<ipython-input-242-d77e8c04d603>\u001b[0m in \u001b[0;36m<module>\u001b[0;34m\u001b[0m\n\u001b[1;32m     34\u001b[0m \u001b[0mplot_scale_and_original\u001b[0m\u001b[0;34m(\u001b[0m\u001b[0mdata\u001b[0m\u001b[0;34m,\u001b[0m \u001b[0;34m'MoSold'\u001b[0m\u001b[0;34m)\u001b[0m\u001b[0;34m\u001b[0m\u001b[0;34m\u001b[0m\u001b[0m\n\u001b[1;32m     35\u001b[0m \u001b[0mplot_scale_and_original\u001b[0m\u001b[0;34m(\u001b[0m\u001b[0mdata\u001b[0m\u001b[0;34m,\u001b[0m \u001b[0;34m'YrSold'\u001b[0m\u001b[0;34m)\u001b[0m\u001b[0;34m\u001b[0m\u001b[0;34m\u001b[0m\u001b[0m\n\u001b[0;32m---> 36\u001b[0;31m \u001b[0mplot_scale_and_original\u001b[0m\u001b[0;34m(\u001b[0m\u001b[0mdata\u001b[0m\u001b[0;34m,\u001b[0m \u001b[0;34m'SalePrice'\u001b[0m\u001b[0;34m)\u001b[0m\u001b[0;34m\u001b[0m\u001b[0;34m\u001b[0m\u001b[0m\n\u001b[0m",
            "\u001b[0;32m<ipython-input-242-d77e8c04d603>\u001b[0m in \u001b[0;36mplot_scale_and_original\u001b[0;34m(original_data, column_to_plot)\u001b[0m\n\u001b[1;32m     18\u001b[0m     \"\"\"\n\u001b[1;32m     19\u001b[0m     \u001b[0;31m# mix-max scale the data between 0 and 1\u001b[0m\u001b[0;34m\u001b[0m\u001b[0;34m\u001b[0m\u001b[0m\n\u001b[0;32m---> 20\u001b[0;31m     \u001b[0mscaled_data\u001b[0m \u001b[0;34m=\u001b[0m \u001b[0mminmax_scale\u001b[0m\u001b[0;34m(\u001b[0m\u001b[0moriginal_data\u001b[0m\u001b[0;34m[\u001b[0m\u001b[0mcolumn_to_plot\u001b[0m\u001b[0;34m]\u001b[0m\u001b[0;34m)\u001b[0m\u001b[0;34m\u001b[0m\u001b[0;34m\u001b[0m\u001b[0m\n\u001b[0m\u001b[1;32m     21\u001b[0m     \u001b[0;31m#____________plot started here_________________\u001b[0m\u001b[0;34m\u001b[0m\u001b[0;34m\u001b[0m\u001b[0m\n\u001b[1;32m     22\u001b[0m     \u001b[0mfig\u001b[0m\u001b[0;34m,\u001b[0m \u001b[0max\u001b[0m \u001b[0;34m=\u001b[0m \u001b[0mplt\u001b[0m\u001b[0;34m.\u001b[0m\u001b[0msubplots\u001b[0m\u001b[0;34m(\u001b[0m\u001b[0;36m1\u001b[0m\u001b[0;34m,\u001b[0m \u001b[0;36m2\u001b[0m\u001b[0;34m,\u001b[0m \u001b[0mfigsize\u001b[0m\u001b[0;34m=\u001b[0m\u001b[0;34m(\u001b[0m\u001b[0;36m12\u001b[0m\u001b[0;34m,\u001b[0m \u001b[0;36m2\u001b[0m\u001b[0;34m)\u001b[0m\u001b[0;34m)\u001b[0m\u001b[0;34m\u001b[0m\u001b[0;34m\u001b[0m\u001b[0m\n",
            "\u001b[0;32m/usr/local/lib/python3.9/dist-packages/pandas/core/frame.py\u001b[0m in \u001b[0;36m__getitem__\u001b[0;34m(self, key)\u001b[0m\n\u001b[1;32m   3456\u001b[0m             \u001b[0;32mif\u001b[0m \u001b[0mself\u001b[0m\u001b[0;34m.\u001b[0m\u001b[0mcolumns\u001b[0m\u001b[0;34m.\u001b[0m\u001b[0mnlevels\u001b[0m \u001b[0;34m>\u001b[0m \u001b[0;36m1\u001b[0m\u001b[0;34m:\u001b[0m\u001b[0;34m\u001b[0m\u001b[0;34m\u001b[0m\u001b[0m\n\u001b[1;32m   3457\u001b[0m                 \u001b[0;32mreturn\u001b[0m \u001b[0mself\u001b[0m\u001b[0;34m.\u001b[0m\u001b[0m_getitem_multilevel\u001b[0m\u001b[0;34m(\u001b[0m\u001b[0mkey\u001b[0m\u001b[0;34m)\u001b[0m\u001b[0;34m\u001b[0m\u001b[0;34m\u001b[0m\u001b[0m\n\u001b[0;32m-> 3458\u001b[0;31m             \u001b[0mindexer\u001b[0m \u001b[0;34m=\u001b[0m \u001b[0mself\u001b[0m\u001b[0;34m.\u001b[0m\u001b[0mcolumns\u001b[0m\u001b[0;34m.\u001b[0m\u001b[0mget_loc\u001b[0m\u001b[0;34m(\u001b[0m\u001b[0mkey\u001b[0m\u001b[0;34m)\u001b[0m\u001b[0;34m\u001b[0m\u001b[0;34m\u001b[0m\u001b[0m\n\u001b[0m\u001b[1;32m   3459\u001b[0m             \u001b[0;32mif\u001b[0m \u001b[0mis_integer\u001b[0m\u001b[0;34m(\u001b[0m\u001b[0mindexer\u001b[0m\u001b[0;34m)\u001b[0m\u001b[0;34m:\u001b[0m\u001b[0;34m\u001b[0m\u001b[0;34m\u001b[0m\u001b[0m\n\u001b[1;32m   3460\u001b[0m                 \u001b[0mindexer\u001b[0m \u001b[0;34m=\u001b[0m \u001b[0;34m[\u001b[0m\u001b[0mindexer\u001b[0m\u001b[0;34m]\u001b[0m\u001b[0;34m\u001b[0m\u001b[0;34m\u001b[0m\u001b[0m\n",
            "\u001b[0;32m/usr/local/lib/python3.9/dist-packages/pandas/core/indexes/base.py\u001b[0m in \u001b[0;36mget_loc\u001b[0;34m(self, key, method, tolerance)\u001b[0m\n\u001b[1;32m   3361\u001b[0m                 \u001b[0;32mreturn\u001b[0m \u001b[0mself\u001b[0m\u001b[0;34m.\u001b[0m\u001b[0m_engine\u001b[0m\u001b[0;34m.\u001b[0m\u001b[0mget_loc\u001b[0m\u001b[0;34m(\u001b[0m\u001b[0mcasted_key\u001b[0m\u001b[0;34m)\u001b[0m\u001b[0;34m\u001b[0m\u001b[0;34m\u001b[0m\u001b[0m\n\u001b[1;32m   3362\u001b[0m             \u001b[0;32mexcept\u001b[0m \u001b[0mKeyError\u001b[0m \u001b[0;32mas\u001b[0m \u001b[0merr\u001b[0m\u001b[0;34m:\u001b[0m\u001b[0;34m\u001b[0m\u001b[0;34m\u001b[0m\u001b[0m\n\u001b[0;32m-> 3363\u001b[0;31m                 \u001b[0;32mraise\u001b[0m \u001b[0mKeyError\u001b[0m\u001b[0;34m(\u001b[0m\u001b[0mkey\u001b[0m\u001b[0;34m)\u001b[0m \u001b[0;32mfrom\u001b[0m \u001b[0merr\u001b[0m\u001b[0;34m\u001b[0m\u001b[0;34m\u001b[0m\u001b[0m\n\u001b[0m\u001b[1;32m   3364\u001b[0m \u001b[0;34m\u001b[0m\u001b[0m\n\u001b[1;32m   3365\u001b[0m         \u001b[0;32mif\u001b[0m \u001b[0mis_scalar\u001b[0m\u001b[0;34m(\u001b[0m\u001b[0mkey\u001b[0m\u001b[0;34m)\u001b[0m \u001b[0;32mand\u001b[0m \u001b[0misna\u001b[0m\u001b[0;34m(\u001b[0m\u001b[0mkey\u001b[0m\u001b[0;34m)\u001b[0m \u001b[0;32mand\u001b[0m \u001b[0;32mnot\u001b[0m \u001b[0mself\u001b[0m\u001b[0;34m.\u001b[0m\u001b[0mhasnans\u001b[0m\u001b[0;34m:\u001b[0m\u001b[0;34m\u001b[0m\u001b[0;34m\u001b[0m\u001b[0m\n",
            "\u001b[0;31mKeyError\u001b[0m: 'SalePrice'"
          ]
        }
      ],
      "source": [
        "#SCALING\n",
        "import  pandas  as  pd \n",
        "#settings : \n",
        "pd.set_option ( 'display.max_rows' ,  1000 ) \n",
        "pd.set_option ( 'display.max_columns' ,  500 ) \n",
        "pd.set_option ( 'display.width' ,  1000 ) \n",
        "pd.set_option ( 'display.max_colwidth' ,  1000 )\n",
        "import  numpy  as  np \n",
        "import  matplotlib.pyplot  as  plt \n",
        "import  seaborn  as  sns\n",
        "import missingno as msno \n",
        "import datatable as dt # pip install datatable    \n",
        "\n",
        "from scipy import stats\n",
        "from sklearn.preprocessing import minmax_scale\n",
        "def plot_scale_and_original(original_data, column_to_plot)->None:\n",
        "    \"\"\"Plot the column of dataframe scaling and original\n",
        "    \"\"\"\n",
        "    # mix-max scale the data between 0 and 1\n",
        "    scaled_data = minmax_scale(original_data[column_to_plot])\n",
        "    #____________plot started here_________________\n",
        "    fig, ax = plt.subplots(1, 2, figsize=(12, 2))\n",
        "    sns.histplot(original_data[column_to_plot], ax=ax[0], kde=True, legend=False)\n",
        "    ax[0].set_title(f\"Original Data column {column_to_plot}\")\n",
        "    sns.histplot(scaled_data, ax=ax[1], kde=True, legend=False)\n",
        "    ax[1].set_title(\"Scaled data\")\n",
        "    plt.show()\n",
        "\n",
        "data = pd.read_csv(\"/content/drive/MyDrive/database_house/test.csv\")\n",
        "plot_scale_and_original(data, 'LotFrontage')\n",
        "plot_scale_and_original(data, 'LotArea')\n",
        "plot_scale_and_original(data, 'PoolArea')\n",
        "plot_scale_and_original(data, 'MiscVal')\n",
        "plot_scale_and_original(data, 'MoSold')\n",
        "plot_scale_and_original(data, 'YrSold')\n",
        "plot_scale_and_original(data, 'SalePrice')"
      ],
      "id": "ZSzh_bLvGtHo"
    },
    {
      "cell_type": "code",
      "source": [
        "# Import necessary libraries\n",
        "import pandas as pd\n",
        "from sklearn.model_selection import train_test_split\n",
        "from sklearn.compose import ColumnTransformer\n",
        "from sklearn.pipeline import Pipeline\n",
        "from sklearn.impute import SimpleImputer\n",
        "from sklearn.preprocessing import OneHotEncoder\n",
        "from sklearn.linear_model import LinearRegression\n",
        "from sklearn.metrics import mean_absolute_error\n",
        "\n",
        "# Read the data\n",
        "data_train = pd.read_csv(\"/content/drive/MyDrive/database_house/train.csv\", index_col='Id')\n",
        "data_test = pd.read_csv(\"/content/drive/MyDrive/database_house/test.csv\", index_col='Id')\n",
        "\n",
        "# Remove rows with missing target, separate target from predictors\n",
        "data_train.dropna(axis=0, subset=['SalePrice'], inplace=True)\n",
        "y = data_train.SalePrice\n",
        "data_train.drop(['SalePrice'], axis=1, inplace=True)\n",
        "\n",
        "# Break off validation set from training data\n",
        "data_train_full, data_valid_full, y_train, y_valid = train_test_split(data_train, y, random_state=1)\n",
        "\n",
        "# Select categorical columns with relatively low cardinality (convenient but arbitrary)\n",
        "categorical_cols = [cname for cname in data_train.columns if\n",
        "                    data_train[cname].nunique() < 10 and data_train[cname].dtype == \"object\"]\n",
        "\n",
        "# Select numerical columns\n",
        "numerical_cols = [cname for cname in data_train.columns if \n",
        "                data_train[cname].dtype in ['int64', 'float64']]\n",
        "\n",
        "# Keep selected columns only\n",
        "my_cols = categorical_cols + numerical_cols\n",
        "X_train = data_train_full[my_cols].copy()\n",
        "X_valid = data_valid_full[my_cols].copy()\n",
        "X_test = data_test[my_cols].copy()\n",
        "X = data_train[my_cols].copy()\n",
        "\n",
        "# Preprocessing for numerical data\n",
        "numerical_transformer = SimpleImputer(strategy='constant')\n",
        "\n",
        "# Preprocessing for categorical data\n",
        "categorical_transformer = Pipeline(steps=[\n",
        "    ('imputer', SimpleImputer(strategy='constant')),\n",
        "    ('onehot', OneHotEncoder(handle_unknown='ignore', sparse=False))\n",
        "])\n",
        "\n",
        "# Bundle preprocessing for numerical and categorical data\n",
        "preprocessor = ColumnTransformer(\n",
        "    transformers=[\n",
        "        ('num', numerical_transformer, numerical_cols),\n",
        "        ('cat', categorical_transformer, categorical_cols)\n",
        "    ])\n",
        "\n",
        "# Define model\n",
        "model = LinearRegression()\n",
        "\n",
        "# Bundle preprocessing and modeling code in a pipeline\n",
        "my_pipeline = Pipeline(steps=[('preprocessor', preprocessor), \n",
        "                              ('model', model)])\n",
        "\n",
        "# Preprocessing of training data, fit model \n",
        "my_pipeline.fit(X_train, y_train)\n",
        "\n",
        "# Preprocessing of validation data, get predictions\n",
        "preds = my_pipeline.predict(X_valid)\n",
        "\n",
        "print('MAE:', mean_absolute_error(y_valid, preds))\n",
        "\n",
        "# Preprocessing of test data, fit model \n",
        "preds_test = my_pipeline.predict(X_test)\n",
        "\n",
        "# Save predictions in format used for competition scoring\n",
        "output = pd.DataFrame({'Id': X_test.index,\n",
        "                       'SalePrice': preds_test})\n",
        "output.to_csv('submission.csv', index=False)"
      ],
      "metadata": {
        "colab": {
          "base_uri": "https://localhost:8080/"
        },
        "id": "jcl3Ry3YIjQp",
        "outputId": "5259c28a-6a3f-4810-91db-1e8259f4fd35"
      },
      "id": "jcl3Ry3YIjQp",
      "execution_count": 243,
      "outputs": [
        {
          "output_type": "stream",
          "name": "stdout",
          "text": [
            "MAE: 19268.014637320168\n"
          ]
        },
        {
          "output_type": "stream",
          "name": "stderr",
          "text": [
            "/usr/local/lib/python3.9/dist-packages/sklearn/preprocessing/_encoders.py:828: FutureWarning: `sparse` was renamed to `sparse_output` in version 1.2 and will be removed in 1.4. `sparse_output` is ignored unless you leave `sparse` to its default value.\n",
            "  warnings.warn(\n"
          ]
        }
      ]
    },
    {
      "cell_type": "code",
      "source": [
        "# Save test predictions to file\n",
        "preds_test = my_pipeline.predict(X_test)\n",
        "output = pd.DataFrame({'Id': X_test.index, 'SalePrice': preds_test})\n",
        "output.to_csv('/content/drive/MyDrive/database_house/pipelines_submission.csv', index=False)\n",
        "print(\"saved!\")"
      ],
      "metadata": {
        "colab": {
          "base_uri": "https://localhost:8080/"
        },
        "id": "XG1tb70qI5ZR",
        "outputId": "f67185b2-7b60-4421-a2ae-28d3697fcc86"
      },
      "id": "XG1tb70qI5ZR",
      "execution_count": 244,
      "outputs": [
        {
          "output_type": "stream",
          "name": "stdout",
          "text": [
            "saved!\n"
          ]
        }
      ]
    }
  ],
  "metadata": {
    "kernelspec": {
      "display_name": "Python 3 (ipykernel)",
      "language": "python",
      "name": "python3"
    },
    "language_info": {
      "codemirror_mode": {
        "name": "ipython",
        "version": 3
      },
      "file_extension": ".py",
      "mimetype": "text/x-python",
      "name": "python",
      "nbconvert_exporter": "python",
      "pygments_lexer": "ipython3",
      "version": "3.8.10"
    },
    "colab": {
      "provenance": []
    }
  },
  "nbformat": 4,
  "nbformat_minor": 5
}
